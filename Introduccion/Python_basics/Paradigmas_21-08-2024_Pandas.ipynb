{
 "cells": [
  {
   "cell_type": "markdown",
   "metadata": {},
   "source": [
    "# Pandas"
   ]
  },
  {
   "cell_type": "markdown",
   "metadata": {},
   "source": [
    "### Dataframes"
   ]
  },
  {
   "cell_type": "code",
   "execution_count": 1,
   "metadata": {},
   "outputs": [],
   "source": [
    "import pandas as pd"
   ]
  },
  {
   "cell_type": "code",
   "execution_count": 2,
   "metadata": {},
   "outputs": [],
   "source": [
    "data = pd.read_csv('https://bit.ly/31B56KB')"
   ]
  },
  {
   "cell_type": "code",
   "execution_count": 3,
   "metadata": {},
   "outputs": [
    {
     "data": {
      "text/html": [
       "<div>\n",
       "<style scoped>\n",
       "    .dataframe tbody tr th:only-of-type {\n",
       "        vertical-align: middle;\n",
       "    }\n",
       "\n",
       "    .dataframe tbody tr th {\n",
       "        vertical-align: top;\n",
       "    }\n",
       "\n",
       "    .dataframe thead th {\n",
       "        text-align: right;\n",
       "    }\n",
       "</style>\n",
       "<table border=\"1\" class=\"dataframe\">\n",
       "  <thead>\n",
       "    <tr style=\"text-align: right;\">\n",
       "      <th></th>\n",
       "      <th>Contaminacion_SO2</th>\n",
       "      <th>Temperatura</th>\n",
       "      <th>Fabricas</th>\n",
       "      <th>Habitantes</th>\n",
       "      <th>Velocidad_viento</th>\n",
       "      <th>Lluvia</th>\n",
       "      <th>Dias_Lluvia</th>\n",
       "    </tr>\n",
       "  </thead>\n",
       "  <tbody>\n",
       "    <tr>\n",
       "      <th>0</th>\n",
       "      <td>10</td>\n",
       "      <td>70.3</td>\n",
       "      <td>213</td>\n",
       "      <td>582</td>\n",
       "      <td>6.0</td>\n",
       "      <td>7.05</td>\n",
       "      <td>36</td>\n",
       "    </tr>\n",
       "    <tr>\n",
       "      <th>1</th>\n",
       "      <td>13</td>\n",
       "      <td>61.0</td>\n",
       "      <td>91</td>\n",
       "      <td>132</td>\n",
       "      <td>8.2</td>\n",
       "      <td>48.52</td>\n",
       "      <td>100</td>\n",
       "    </tr>\n",
       "  </tbody>\n",
       "</table>\n",
       "</div>"
      ],
      "text/plain": [
       "   Contaminacion_SO2  Temperatura  Fabricas  Habitantes  Velocidad_viento  \\\n",
       "0                 10         70.3       213         582               6.0   \n",
       "1                 13         61.0        91         132               8.2   \n",
       "\n",
       "   Lluvia  Dias_Lluvia  \n",
       "0    7.05           36  \n",
       "1   48.52          100  "
      ]
     },
     "execution_count": 3,
     "metadata": {},
     "output_type": "execute_result"
    }
   ],
   "source": [
    "data.head(2)"
   ]
  },
  {
   "cell_type": "code",
   "execution_count": 4,
   "metadata": {},
   "outputs": [
    {
     "data": {
      "text/html": [
       "<div>\n",
       "<style scoped>\n",
       "    .dataframe tbody tr th:only-of-type {\n",
       "        vertical-align: middle;\n",
       "    }\n",
       "\n",
       "    .dataframe tbody tr th {\n",
       "        vertical-align: top;\n",
       "    }\n",
       "\n",
       "    .dataframe thead th {\n",
       "        text-align: right;\n",
       "    }\n",
       "</style>\n",
       "<table border=\"1\" class=\"dataframe\">\n",
       "  <thead>\n",
       "    <tr style=\"text-align: right;\">\n",
       "      <th></th>\n",
       "      <th>Contaminacion_SO2</th>\n",
       "      <th>Temperatura</th>\n",
       "      <th>Fabricas</th>\n",
       "      <th>Habitantes</th>\n",
       "      <th>Velocidad_viento</th>\n",
       "      <th>Lluvia</th>\n",
       "      <th>Dias_Lluvia</th>\n",
       "    </tr>\n",
       "  </thead>\n",
       "  <tbody>\n",
       "    <tr>\n",
       "      <th>39</th>\n",
       "      <td>31</td>\n",
       "      <td>55.2</td>\n",
       "      <td>35</td>\n",
       "      <td>71</td>\n",
       "      <td>6.5</td>\n",
       "      <td>40.75</td>\n",
       "      <td>148</td>\n",
       "    </tr>\n",
       "    <tr>\n",
       "      <th>40</th>\n",
       "      <td>16</td>\n",
       "      <td>45.7</td>\n",
       "      <td>569</td>\n",
       "      <td>717</td>\n",
       "      <td>11.8</td>\n",
       "      <td>29.07</td>\n",
       "      <td>123</td>\n",
       "    </tr>\n",
       "  </tbody>\n",
       "</table>\n",
       "</div>"
      ],
      "text/plain": [
       "    Contaminacion_SO2  Temperatura  Fabricas  Habitantes  Velocidad_viento  \\\n",
       "39                 31         55.2        35          71               6.5   \n",
       "40                 16         45.7       569         717              11.8   \n",
       "\n",
       "    Lluvia  Dias_Lluvia  \n",
       "39   40.75          148  \n",
       "40   29.07          123  "
      ]
     },
     "execution_count": 4,
     "metadata": {},
     "output_type": "execute_result"
    }
   ],
   "source": [
    "data.tail(2)"
   ]
  },
  {
   "cell_type": "code",
   "execution_count": 5,
   "metadata": {},
   "outputs": [
    {
     "name": "stdout",
     "output_type": "stream",
     "text": [
      "<class 'pandas.core.frame.DataFrame'>\n",
      "RangeIndex: 41 entries, 0 to 40\n",
      "Data columns (total 7 columns):\n",
      " #   Column             Non-Null Count  Dtype  \n",
      "---  ------             --------------  -----  \n",
      " 0   Contaminacion_SO2  41 non-null     int64  \n",
      " 1   Temperatura        41 non-null     float64\n",
      " 2   Fabricas           41 non-null     int64  \n",
      " 3   Habitantes         41 non-null     int64  \n",
      " 4   Velocidad_viento   41 non-null     float64\n",
      " 5   Lluvia             41 non-null     float64\n",
      " 6   Dias_Lluvia        41 non-null     int64  \n",
      "dtypes: float64(3), int64(4)\n",
      "memory usage: 2.4 KB\n"
     ]
    }
   ],
   "source": [
    "data.info()"
   ]
  },
  {
   "cell_type": "code",
   "execution_count": 6,
   "metadata": {},
   "outputs": [
    {
     "data": {
      "text/html": [
       "<div>\n",
       "<style scoped>\n",
       "    .dataframe tbody tr th:only-of-type {\n",
       "        vertical-align: middle;\n",
       "    }\n",
       "\n",
       "    .dataframe tbody tr th {\n",
       "        vertical-align: top;\n",
       "    }\n",
       "\n",
       "    .dataframe thead th {\n",
       "        text-align: right;\n",
       "    }\n",
       "</style>\n",
       "<table border=\"1\" class=\"dataframe\">\n",
       "  <thead>\n",
       "    <tr style=\"text-align: right;\">\n",
       "      <th></th>\n",
       "      <th>Contaminacion_SO2</th>\n",
       "      <th>Temperatura</th>\n",
       "      <th>Fabricas</th>\n",
       "      <th>Habitantes</th>\n",
       "      <th>Velocidad_viento</th>\n",
       "      <th>Lluvia</th>\n",
       "      <th>Dias_Lluvia</th>\n",
       "    </tr>\n",
       "  </thead>\n",
       "  <tbody>\n",
       "    <tr>\n",
       "      <th>count</th>\n",
       "      <td>41.000000</td>\n",
       "      <td>41.000000</td>\n",
       "      <td>41.000000</td>\n",
       "      <td>41.000000</td>\n",
       "      <td>41.000000</td>\n",
       "      <td>41.000000</td>\n",
       "      <td>41.000000</td>\n",
       "    </tr>\n",
       "    <tr>\n",
       "      <th>mean</th>\n",
       "      <td>30.048780</td>\n",
       "      <td>55.763415</td>\n",
       "      <td>463.097561</td>\n",
       "      <td>608.609756</td>\n",
       "      <td>9.443902</td>\n",
       "      <td>36.769024</td>\n",
       "      <td>113.902439</td>\n",
       "    </tr>\n",
       "    <tr>\n",
       "      <th>std</th>\n",
       "      <td>23.472272</td>\n",
       "      <td>7.227716</td>\n",
       "      <td>563.473948</td>\n",
       "      <td>579.113023</td>\n",
       "      <td>1.428644</td>\n",
       "      <td>11.771550</td>\n",
       "      <td>26.506419</td>\n",
       "    </tr>\n",
       "    <tr>\n",
       "      <th>min</th>\n",
       "      <td>8.000000</td>\n",
       "      <td>43.500000</td>\n",
       "      <td>35.000000</td>\n",
       "      <td>71.000000</td>\n",
       "      <td>6.000000</td>\n",
       "      <td>7.050000</td>\n",
       "      <td>36.000000</td>\n",
       "    </tr>\n",
       "    <tr>\n",
       "      <th>25%</th>\n",
       "      <td>13.000000</td>\n",
       "      <td>50.600000</td>\n",
       "      <td>181.000000</td>\n",
       "      <td>299.000000</td>\n",
       "      <td>8.700000</td>\n",
       "      <td>30.960000</td>\n",
       "      <td>103.000000</td>\n",
       "    </tr>\n",
       "    <tr>\n",
       "      <th>50%</th>\n",
       "      <td>26.000000</td>\n",
       "      <td>54.600000</td>\n",
       "      <td>347.000000</td>\n",
       "      <td>515.000000</td>\n",
       "      <td>9.300000</td>\n",
       "      <td>38.740000</td>\n",
       "      <td>115.000000</td>\n",
       "    </tr>\n",
       "    <tr>\n",
       "      <th>75%</th>\n",
       "      <td>35.000000</td>\n",
       "      <td>59.300000</td>\n",
       "      <td>462.000000</td>\n",
       "      <td>717.000000</td>\n",
       "      <td>10.600000</td>\n",
       "      <td>43.110000</td>\n",
       "      <td>128.000000</td>\n",
       "    </tr>\n",
       "    <tr>\n",
       "      <th>max</th>\n",
       "      <td>110.000000</td>\n",
       "      <td>75.500000</td>\n",
       "      <td>3344.000000</td>\n",
       "      <td>3369.000000</td>\n",
       "      <td>12.700000</td>\n",
       "      <td>59.800000</td>\n",
       "      <td>166.000000</td>\n",
       "    </tr>\n",
       "  </tbody>\n",
       "</table>\n",
       "</div>"
      ],
      "text/plain": [
       "       Contaminacion_SO2  Temperatura     Fabricas   Habitantes  \\\n",
       "count          41.000000    41.000000    41.000000    41.000000   \n",
       "mean           30.048780    55.763415   463.097561   608.609756   \n",
       "std            23.472272     7.227716   563.473948   579.113023   \n",
       "min             8.000000    43.500000    35.000000    71.000000   \n",
       "25%            13.000000    50.600000   181.000000   299.000000   \n",
       "50%            26.000000    54.600000   347.000000   515.000000   \n",
       "75%            35.000000    59.300000   462.000000   717.000000   \n",
       "max           110.000000    75.500000  3344.000000  3369.000000   \n",
       "\n",
       "       Velocidad_viento     Lluvia  Dias_Lluvia  \n",
       "count         41.000000  41.000000    41.000000  \n",
       "mean           9.443902  36.769024   113.902439  \n",
       "std            1.428644  11.771550    26.506419  \n",
       "min            6.000000   7.050000    36.000000  \n",
       "25%            8.700000  30.960000   103.000000  \n",
       "50%            9.300000  38.740000   115.000000  \n",
       "75%           10.600000  43.110000   128.000000  \n",
       "max           12.700000  59.800000   166.000000  "
      ]
     },
     "execution_count": 6,
     "metadata": {},
     "output_type": "execute_result"
    }
   ],
   "source": [
    "data.describe()"
   ]
  },
  {
   "cell_type": "code",
   "execution_count": 7,
   "metadata": {},
   "outputs": [
    {
     "data": {
      "text/plain": [
       "41"
      ]
     },
     "execution_count": 7,
     "metadata": {},
     "output_type": "execute_result"
    }
   ],
   "source": [
    "len(data)"
   ]
  },
  {
   "cell_type": "code",
   "execution_count": 8,
   "metadata": {},
   "outputs": [
    {
     "data": {
      "text/plain": [
       "Index(['Contaminacion_SO2', 'Temperatura', 'Fabricas', 'Habitantes',\n",
       "       'Velocidad_viento', 'Lluvia', 'Dias_Lluvia'],\n",
       "      dtype='object')"
      ]
     },
     "execution_count": 8,
     "metadata": {},
     "output_type": "execute_result"
    }
   ],
   "source": [
    "data.columns"
   ]
  },
  {
   "cell_type": "code",
   "execution_count": 9,
   "metadata": {},
   "outputs": [
    {
     "data": {
      "text/plain": [
       "Contaminacion_SO2      int64\n",
       "Temperatura          float64\n",
       "Fabricas               int64\n",
       "Habitantes             int64\n",
       "Velocidad_viento     float64\n",
       "Lluvia               float64\n",
       "Dias_Lluvia            int64\n",
       "dtype: object"
      ]
     },
     "execution_count": 9,
     "metadata": {},
     "output_type": "execute_result"
    }
   ],
   "source": [
    "data.dtypes"
   ]
  },
  {
   "cell_type": "code",
   "execution_count": 10,
   "metadata": {},
   "outputs": [
    {
     "data": {
      "text/plain": [
       "(41, 7)"
      ]
     },
     "execution_count": 10,
     "metadata": {},
     "output_type": "execute_result"
    }
   ],
   "source": [
    "data.shape"
   ]
  },
  {
   "cell_type": "code",
   "execution_count": 11,
   "metadata": {},
   "outputs": [
    {
     "data": {
      "text/plain": [
       "array([[  10.  ,   70.3 ,  213.  ,  582.  ,    6.  ,    7.05,   36.  ],\n",
       "       [  13.  ,   61.  ,   91.  ,  132.  ,    8.2 ,   48.52,  100.  ],\n",
       "       [  12.  ,   56.7 ,  453.  ,  716.  ,    8.7 ,   20.66,   67.  ],\n",
       "       [  17.  ,   51.9 ,  454.  ,  515.  ,    9.  ,   12.95,   86.  ],\n",
       "       [  56.  ,   49.1 ,  412.  ,  158.  ,    9.  ,   43.37,  127.  ],\n",
       "       [  36.  ,   54.  ,   80.  ,   80.  ,    9.  ,   40.25,  114.  ],\n",
       "       [  29.  ,   57.3 ,  434.  ,  757.  ,    9.3 ,   38.89,  111.  ],\n",
       "       [  14.  ,   68.4 ,  136.  ,  529.  ,    8.8 ,   54.47,  116.  ],\n",
       "       [  10.  ,   75.5 ,  207.  ,  335.  ,    9.  ,   59.8 ,  128.  ],\n",
       "       [  24.  ,   61.5 ,  368.  ,  497.  ,    9.1 ,   48.34,  115.  ],\n",
       "       [ 110.  ,   50.6 , 3344.  , 3369.  ,   10.4 ,   34.44,  122.  ],\n",
       "       [  28.  ,   52.3 ,  361.  ,  746.  ,    9.7 ,   38.74,  121.  ],\n",
       "       [  17.  ,   49.  ,  104.  ,  201.  ,   11.2 ,   30.85,  103.  ],\n",
       "       [   8.  ,   56.6 ,  125.  ,  277.  ,   12.7 ,   30.58,   82.  ],\n",
       "       [  30.  ,   55.6 ,  291.  ,  593.  ,    8.3 ,   43.11,  123.  ],\n",
       "       [   9.  ,   68.3 ,  204.  ,  361.  ,    8.4 ,   56.77,  113.  ],\n",
       "       [  47.  ,   55.  ,  625.  ,  905.  ,    9.6 ,   41.31,  111.  ],\n",
       "       [  35.  ,   49.9 , 1064.  , 1513.  ,   10.1 ,   30.96,  129.  ],\n",
       "       [  29.  ,   43.5 ,  699.  ,  744.  ,   10.6 ,   25.94,  137.  ],\n",
       "       [  14.  ,   54.5 ,  381.  ,  507.  ,   10.  ,   37.  ,   99.  ],\n",
       "       [  56.  ,   55.9 ,  775.  ,  622.  ,    9.5 ,   35.89,  105.  ],\n",
       "       [  14.  ,   51.5 ,  181.  ,  347.  ,   10.9 ,   30.18,   98.  ],\n",
       "       [  11.  ,   56.8 ,   46.  ,  244.  ,    8.9 ,    7.77,   58.  ],\n",
       "       [  46.  ,   47.6 ,   44.  ,  116.  ,    8.8 ,   33.36,  135.  ],\n",
       "       [  11.  ,   47.1 ,  391.  ,  463.  ,   12.4 ,   36.11,  166.  ],\n",
       "       [  23.  ,   54.  ,  462.  ,  453.  ,    7.1 ,   39.04,  132.  ],\n",
       "       [  65.  ,   49.7 , 1007.  ,  751.  ,   10.9 ,   34.99,  155.  ],\n",
       "       [  26.  ,   51.5 ,  266.  ,  540.  ,    8.6 ,   37.01,  134.  ],\n",
       "       [  69.  ,   54.6 , 1692.  , 1950.  ,    9.6 ,   39.93,  115.  ],\n",
       "       [  61.  ,   50.4 ,  347.  ,  520.  ,    9.4 ,   36.22,  147.  ],\n",
       "       [  94.  ,   50.  ,  343.  ,  179.  ,   10.6 ,   42.75,  125.  ],\n",
       "       [  10.  ,   61.6 ,  337.  ,  624.  ,    9.2 ,   49.1 ,  105.  ],\n",
       "       [  18.  ,   59.4 ,  275.  ,  448.  ,    7.9 ,   46.  ,  119.  ],\n",
       "       [   9.  ,   66.2 ,  641.  ,  844.  ,   10.9 ,   35.94,   78.  ],\n",
       "       [  10.  ,   68.9 ,  721.  , 1233.  ,   10.8 ,   48.19,  103.  ],\n",
       "       [  28.  ,   51.  ,  137.  ,  176.  ,    8.7 ,   15.17,   89.  ],\n",
       "       [  31.  ,   59.3 ,   96.  ,  308.  ,   10.6 ,   44.68,  116.  ],\n",
       "       [  26.  ,   57.8 ,  197.  ,  299.  ,    7.6 ,   42.59,  115.  ],\n",
       "       [  29.  ,   51.1 ,  379.  ,  531.  ,    9.4 ,   38.79,  164.  ],\n",
       "       [  31.  ,   55.2 ,   35.  ,   71.  ,    6.5 ,   40.75,  148.  ],\n",
       "       [  16.  ,   45.7 ,  569.  ,  717.  ,   11.8 ,   29.07,  123.  ]])"
      ]
     },
     "execution_count": 11,
     "metadata": {},
     "output_type": "execute_result"
    }
   ],
   "source": [
    "data.values"
   ]
  },
  {
   "cell_type": "code",
   "execution_count": 12,
   "metadata": {},
   "outputs": [
    {
     "data": {
      "text/html": [
       "<div>\n",
       "<style scoped>\n",
       "    .dataframe tbody tr th:only-of-type {\n",
       "        vertical-align: middle;\n",
       "    }\n",
       "\n",
       "    .dataframe tbody tr th {\n",
       "        vertical-align: top;\n",
       "    }\n",
       "\n",
       "    .dataframe thead th {\n",
       "        text-align: right;\n",
       "    }\n",
       "</style>\n",
       "<table border=\"1\" class=\"dataframe\">\n",
       "  <thead>\n",
       "    <tr style=\"text-align: right;\">\n",
       "      <th></th>\n",
       "      <th>Contaminacion_SO2</th>\n",
       "      <th>Temperatura</th>\n",
       "      <th>Fabricas</th>\n",
       "      <th>Habitantes</th>\n",
       "      <th>Velocidad_viento</th>\n",
       "      <th>Lluvia</th>\n",
       "      <th>Dias_Lluvia</th>\n",
       "    </tr>\n",
       "  </thead>\n",
       "  <tbody>\n",
       "    <tr>\n",
       "      <th>6</th>\n",
       "      <td>29</td>\n",
       "      <td>57.3</td>\n",
       "      <td>434</td>\n",
       "      <td>757</td>\n",
       "      <td>9.3</td>\n",
       "      <td>38.89</td>\n",
       "      <td>111</td>\n",
       "    </tr>\n",
       "    <tr>\n",
       "      <th>7</th>\n",
       "      <td>14</td>\n",
       "      <td>68.4</td>\n",
       "      <td>136</td>\n",
       "      <td>529</td>\n",
       "      <td>8.8</td>\n",
       "      <td>54.47</td>\n",
       "      <td>116</td>\n",
       "    </tr>\n",
       "    <tr>\n",
       "      <th>8</th>\n",
       "      <td>10</td>\n",
       "      <td>75.5</td>\n",
       "      <td>207</td>\n",
       "      <td>335</td>\n",
       "      <td>9.0</td>\n",
       "      <td>59.80</td>\n",
       "      <td>128</td>\n",
       "    </tr>\n",
       "    <tr>\n",
       "      <th>9</th>\n",
       "      <td>24</td>\n",
       "      <td>61.5</td>\n",
       "      <td>368</td>\n",
       "      <td>497</td>\n",
       "      <td>9.1</td>\n",
       "      <td>48.34</td>\n",
       "      <td>115</td>\n",
       "    </tr>\n",
       "  </tbody>\n",
       "</table>\n",
       "</div>"
      ],
      "text/plain": [
       "   Contaminacion_SO2  Temperatura  Fabricas  Habitantes  Velocidad_viento  \\\n",
       "6                 29         57.3       434         757               9.3   \n",
       "7                 14         68.4       136         529               8.8   \n",
       "8                 10         75.5       207         335               9.0   \n",
       "9                 24         61.5       368         497               9.1   \n",
       "\n",
       "   Lluvia  Dias_Lluvia  \n",
       "6   38.89          111  \n",
       "7   54.47          116  \n",
       "8   59.80          128  \n",
       "9   48.34          115  "
      ]
     },
     "execution_count": 12,
     "metadata": {},
     "output_type": "execute_result"
    }
   ],
   "source": [
    "data[6:10]"
   ]
  },
  {
   "cell_type": "code",
   "execution_count": 13,
   "metadata": {},
   "outputs": [
    {
     "data": {
      "text/html": [
       "<div>\n",
       "<style scoped>\n",
       "    .dataframe tbody tr th:only-of-type {\n",
       "        vertical-align: middle;\n",
       "    }\n",
       "\n",
       "    .dataframe tbody tr th {\n",
       "        vertical-align: top;\n",
       "    }\n",
       "\n",
       "    .dataframe thead th {\n",
       "        text-align: right;\n",
       "    }\n",
       "</style>\n",
       "<table border=\"1\" class=\"dataframe\">\n",
       "  <thead>\n",
       "    <tr style=\"text-align: right;\">\n",
       "      <th></th>\n",
       "      <th>Temperatura</th>\n",
       "      <th>Fabricas</th>\n",
       "      <th>Habitantes</th>\n",
       "    </tr>\n",
       "  </thead>\n",
       "  <tbody>\n",
       "    <tr>\n",
       "      <th>6</th>\n",
       "      <td>57.3</td>\n",
       "      <td>434</td>\n",
       "      <td>757</td>\n",
       "    </tr>\n",
       "    <tr>\n",
       "      <th>7</th>\n",
       "      <td>68.4</td>\n",
       "      <td>136</td>\n",
       "      <td>529</td>\n",
       "    </tr>\n",
       "    <tr>\n",
       "      <th>8</th>\n",
       "      <td>75.5</td>\n",
       "      <td>207</td>\n",
       "      <td>335</td>\n",
       "    </tr>\n",
       "    <tr>\n",
       "      <th>9</th>\n",
       "      <td>61.5</td>\n",
       "      <td>368</td>\n",
       "      <td>497</td>\n",
       "    </tr>\n",
       "  </tbody>\n",
       "</table>\n",
       "</div>"
      ],
      "text/plain": [
       "   Temperatura  Fabricas  Habitantes\n",
       "6         57.3       434         757\n",
       "7         68.4       136         529\n",
       "8         75.5       207         335\n",
       "9         61.5       368         497"
      ]
     },
     "execution_count": 13,
     "metadata": {},
     "output_type": "execute_result"
    }
   ],
   "source": [
    "data.iloc[6:10, 1:4]"
   ]
  },
  {
   "cell_type": "code",
   "execution_count": 14,
   "metadata": {},
   "outputs": [
    {
     "data": {
      "text/plain": [
       "array([[ 57.3, 434. , 757. ],\n",
       "       [ 68.4, 136. , 529. ],\n",
       "       [ 75.5, 207. , 335. ],\n",
       "       [ 61.5, 368. , 497. ]])"
      ]
     },
     "execution_count": 14,
     "metadata": {},
     "output_type": "execute_result"
    }
   ],
   "source": [
    "data.iloc[6:10, 1:4].values"
   ]
  },
  {
   "cell_type": "code",
   "execution_count": 15,
   "metadata": {},
   "outputs": [
    {
     "data": {
      "text/html": [
       "<div>\n",
       "<style scoped>\n",
       "    .dataframe tbody tr th:only-of-type {\n",
       "        vertical-align: middle;\n",
       "    }\n",
       "\n",
       "    .dataframe tbody tr th {\n",
       "        vertical-align: top;\n",
       "    }\n",
       "\n",
       "    .dataframe thead th {\n",
       "        text-align: right;\n",
       "    }\n",
       "</style>\n",
       "<table border=\"1\" class=\"dataframe\">\n",
       "  <thead>\n",
       "    <tr style=\"text-align: right;\">\n",
       "      <th></th>\n",
       "      <th>Fabricas</th>\n",
       "      <th>Temperatura</th>\n",
       "      <th>Habitantes</th>\n",
       "    </tr>\n",
       "  </thead>\n",
       "  <tbody>\n",
       "    <tr>\n",
       "      <th>0</th>\n",
       "      <td>213</td>\n",
       "      <td>70.3</td>\n",
       "      <td>582</td>\n",
       "    </tr>\n",
       "    <tr>\n",
       "      <th>1</th>\n",
       "      <td>91</td>\n",
       "      <td>61.0</td>\n",
       "      <td>132</td>\n",
       "    </tr>\n",
       "    <tr>\n",
       "      <th>2</th>\n",
       "      <td>453</td>\n",
       "      <td>56.7</td>\n",
       "      <td>716</td>\n",
       "    </tr>\n",
       "    <tr>\n",
       "      <th>3</th>\n",
       "      <td>454</td>\n",
       "      <td>51.9</td>\n",
       "      <td>515</td>\n",
       "    </tr>\n",
       "    <tr>\n",
       "      <th>4</th>\n",
       "      <td>412</td>\n",
       "      <td>49.1</td>\n",
       "      <td>158</td>\n",
       "    </tr>\n",
       "    <tr>\n",
       "      <th>5</th>\n",
       "      <td>80</td>\n",
       "      <td>54.0</td>\n",
       "      <td>80</td>\n",
       "    </tr>\n",
       "    <tr>\n",
       "      <th>6</th>\n",
       "      <td>434</td>\n",
       "      <td>57.3</td>\n",
       "      <td>757</td>\n",
       "    </tr>\n",
       "    <tr>\n",
       "      <th>7</th>\n",
       "      <td>136</td>\n",
       "      <td>68.4</td>\n",
       "      <td>529</td>\n",
       "    </tr>\n",
       "    <tr>\n",
       "      <th>8</th>\n",
       "      <td>207</td>\n",
       "      <td>75.5</td>\n",
       "      <td>335</td>\n",
       "    </tr>\n",
       "    <tr>\n",
       "      <th>9</th>\n",
       "      <td>368</td>\n",
       "      <td>61.5</td>\n",
       "      <td>497</td>\n",
       "    </tr>\n",
       "    <tr>\n",
       "      <th>10</th>\n",
       "      <td>3344</td>\n",
       "      <td>50.6</td>\n",
       "      <td>3369</td>\n",
       "    </tr>\n",
       "    <tr>\n",
       "      <th>11</th>\n",
       "      <td>361</td>\n",
       "      <td>52.3</td>\n",
       "      <td>746</td>\n",
       "    </tr>\n",
       "    <tr>\n",
       "      <th>12</th>\n",
       "      <td>104</td>\n",
       "      <td>49.0</td>\n",
       "      <td>201</td>\n",
       "    </tr>\n",
       "    <tr>\n",
       "      <th>13</th>\n",
       "      <td>125</td>\n",
       "      <td>56.6</td>\n",
       "      <td>277</td>\n",
       "    </tr>\n",
       "    <tr>\n",
       "      <th>14</th>\n",
       "      <td>291</td>\n",
       "      <td>55.6</td>\n",
       "      <td>593</td>\n",
       "    </tr>\n",
       "    <tr>\n",
       "      <th>15</th>\n",
       "      <td>204</td>\n",
       "      <td>68.3</td>\n",
       "      <td>361</td>\n",
       "    </tr>\n",
       "    <tr>\n",
       "      <th>16</th>\n",
       "      <td>625</td>\n",
       "      <td>55.0</td>\n",
       "      <td>905</td>\n",
       "    </tr>\n",
       "    <tr>\n",
       "      <th>17</th>\n",
       "      <td>1064</td>\n",
       "      <td>49.9</td>\n",
       "      <td>1513</td>\n",
       "    </tr>\n",
       "    <tr>\n",
       "      <th>18</th>\n",
       "      <td>699</td>\n",
       "      <td>43.5</td>\n",
       "      <td>744</td>\n",
       "    </tr>\n",
       "    <tr>\n",
       "      <th>19</th>\n",
       "      <td>381</td>\n",
       "      <td>54.5</td>\n",
       "      <td>507</td>\n",
       "    </tr>\n",
       "    <tr>\n",
       "      <th>20</th>\n",
       "      <td>775</td>\n",
       "      <td>55.9</td>\n",
       "      <td>622</td>\n",
       "    </tr>\n",
       "    <tr>\n",
       "      <th>21</th>\n",
       "      <td>181</td>\n",
       "      <td>51.5</td>\n",
       "      <td>347</td>\n",
       "    </tr>\n",
       "    <tr>\n",
       "      <th>22</th>\n",
       "      <td>46</td>\n",
       "      <td>56.8</td>\n",
       "      <td>244</td>\n",
       "    </tr>\n",
       "    <tr>\n",
       "      <th>23</th>\n",
       "      <td>44</td>\n",
       "      <td>47.6</td>\n",
       "      <td>116</td>\n",
       "    </tr>\n",
       "    <tr>\n",
       "      <th>24</th>\n",
       "      <td>391</td>\n",
       "      <td>47.1</td>\n",
       "      <td>463</td>\n",
       "    </tr>\n",
       "    <tr>\n",
       "      <th>25</th>\n",
       "      <td>462</td>\n",
       "      <td>54.0</td>\n",
       "      <td>453</td>\n",
       "    </tr>\n",
       "    <tr>\n",
       "      <th>26</th>\n",
       "      <td>1007</td>\n",
       "      <td>49.7</td>\n",
       "      <td>751</td>\n",
       "    </tr>\n",
       "    <tr>\n",
       "      <th>27</th>\n",
       "      <td>266</td>\n",
       "      <td>51.5</td>\n",
       "      <td>540</td>\n",
       "    </tr>\n",
       "    <tr>\n",
       "      <th>28</th>\n",
       "      <td>1692</td>\n",
       "      <td>54.6</td>\n",
       "      <td>1950</td>\n",
       "    </tr>\n",
       "    <tr>\n",
       "      <th>29</th>\n",
       "      <td>347</td>\n",
       "      <td>50.4</td>\n",
       "      <td>520</td>\n",
       "    </tr>\n",
       "    <tr>\n",
       "      <th>30</th>\n",
       "      <td>343</td>\n",
       "      <td>50.0</td>\n",
       "      <td>179</td>\n",
       "    </tr>\n",
       "    <tr>\n",
       "      <th>31</th>\n",
       "      <td>337</td>\n",
       "      <td>61.6</td>\n",
       "      <td>624</td>\n",
       "    </tr>\n",
       "    <tr>\n",
       "      <th>32</th>\n",
       "      <td>275</td>\n",
       "      <td>59.4</td>\n",
       "      <td>448</td>\n",
       "    </tr>\n",
       "    <tr>\n",
       "      <th>33</th>\n",
       "      <td>641</td>\n",
       "      <td>66.2</td>\n",
       "      <td>844</td>\n",
       "    </tr>\n",
       "    <tr>\n",
       "      <th>34</th>\n",
       "      <td>721</td>\n",
       "      <td>68.9</td>\n",
       "      <td>1233</td>\n",
       "    </tr>\n",
       "    <tr>\n",
       "      <th>35</th>\n",
       "      <td>137</td>\n",
       "      <td>51.0</td>\n",
       "      <td>176</td>\n",
       "    </tr>\n",
       "    <tr>\n",
       "      <th>36</th>\n",
       "      <td>96</td>\n",
       "      <td>59.3</td>\n",
       "      <td>308</td>\n",
       "    </tr>\n",
       "    <tr>\n",
       "      <th>37</th>\n",
       "      <td>197</td>\n",
       "      <td>57.8</td>\n",
       "      <td>299</td>\n",
       "    </tr>\n",
       "    <tr>\n",
       "      <th>38</th>\n",
       "      <td>379</td>\n",
       "      <td>51.1</td>\n",
       "      <td>531</td>\n",
       "    </tr>\n",
       "    <tr>\n",
       "      <th>39</th>\n",
       "      <td>35</td>\n",
       "      <td>55.2</td>\n",
       "      <td>71</td>\n",
       "    </tr>\n",
       "    <tr>\n",
       "      <th>40</th>\n",
       "      <td>569</td>\n",
       "      <td>45.7</td>\n",
       "      <td>717</td>\n",
       "    </tr>\n",
       "  </tbody>\n",
       "</table>\n",
       "</div>"
      ],
      "text/plain": [
       "    Fabricas  Temperatura  Habitantes\n",
       "0        213         70.3         582\n",
       "1         91         61.0         132\n",
       "2        453         56.7         716\n",
       "3        454         51.9         515\n",
       "4        412         49.1         158\n",
       "5         80         54.0          80\n",
       "6        434         57.3         757\n",
       "7        136         68.4         529\n",
       "8        207         75.5         335\n",
       "9        368         61.5         497\n",
       "10      3344         50.6        3369\n",
       "11       361         52.3         746\n",
       "12       104         49.0         201\n",
       "13       125         56.6         277\n",
       "14       291         55.6         593\n",
       "15       204         68.3         361\n",
       "16       625         55.0         905\n",
       "17      1064         49.9        1513\n",
       "18       699         43.5         744\n",
       "19       381         54.5         507\n",
       "20       775         55.9         622\n",
       "21       181         51.5         347\n",
       "22        46         56.8         244\n",
       "23        44         47.6         116\n",
       "24       391         47.1         463\n",
       "25       462         54.0         453\n",
       "26      1007         49.7         751\n",
       "27       266         51.5         540\n",
       "28      1692         54.6        1950\n",
       "29       347         50.4         520\n",
       "30       343         50.0         179\n",
       "31       337         61.6         624\n",
       "32       275         59.4         448\n",
       "33       641         66.2         844\n",
       "34       721         68.9        1233\n",
       "35       137         51.0         176\n",
       "36        96         59.3         308\n",
       "37       197         57.8         299\n",
       "38       379         51.1         531\n",
       "39        35         55.2          71\n",
       "40       569         45.7         717"
      ]
     },
     "execution_count": 15,
     "metadata": {},
     "output_type": "execute_result"
    }
   ],
   "source": [
    "df1 = data.filter(('Fabricas', 'Temperatura', 'Habitantes'), axis = 1)\n",
    "df1"
   ]
  },
  {
   "cell_type": "code",
   "execution_count": 16,
   "metadata": {},
   "outputs": [
    {
     "data": {
      "text/html": [
       "<div>\n",
       "<style scoped>\n",
       "    .dataframe tbody tr th:only-of-type {\n",
       "        vertical-align: middle;\n",
       "    }\n",
       "\n",
       "    .dataframe tbody tr th {\n",
       "        vertical-align: top;\n",
       "    }\n",
       "\n",
       "    .dataframe thead th {\n",
       "        text-align: right;\n",
       "    }\n",
       "</style>\n",
       "<table border=\"1\" class=\"dataframe\">\n",
       "  <thead>\n",
       "    <tr style=\"text-align: right;\">\n",
       "      <th></th>\n",
       "      <th>Fabricas</th>\n",
       "      <th>Temperatura</th>\n",
       "      <th>Habitantes</th>\n",
       "    </tr>\n",
       "  </thead>\n",
       "  <tbody>\n",
       "    <tr>\n",
       "      <th>0</th>\n",
       "      <td>213</td>\n",
       "      <td>70.3</td>\n",
       "      <td>582</td>\n",
       "    </tr>\n",
       "    <tr>\n",
       "      <th>1</th>\n",
       "      <td>91</td>\n",
       "      <td>61.0</td>\n",
       "      <td>132</td>\n",
       "    </tr>\n",
       "    <tr>\n",
       "      <th>2</th>\n",
       "      <td>453</td>\n",
       "      <td>56.7</td>\n",
       "      <td>716</td>\n",
       "    </tr>\n",
       "    <tr>\n",
       "      <th>3</th>\n",
       "      <td>454</td>\n",
       "      <td>51.9</td>\n",
       "      <td>515</td>\n",
       "    </tr>\n",
       "    <tr>\n",
       "      <th>4</th>\n",
       "      <td>412</td>\n",
       "      <td>49.1</td>\n",
       "      <td>158</td>\n",
       "    </tr>\n",
       "  </tbody>\n",
       "</table>\n",
       "</div>"
      ],
      "text/plain": [
       "   Fabricas  Temperatura  Habitantes\n",
       "0       213         70.3         582\n",
       "1        91         61.0         132\n",
       "2       453         56.7         716\n",
       "3       454         51.9         515\n",
       "4       412         49.1         158"
      ]
     },
     "execution_count": 16,
     "metadata": {},
     "output_type": "execute_result"
    }
   ],
   "source": [
    "df1.head()"
   ]
  },
  {
   "cell_type": "code",
   "execution_count": 17,
   "metadata": {},
   "outputs": [
    {
     "data": {
      "text/html": [
       "<div>\n",
       "<style scoped>\n",
       "    .dataframe tbody tr th:only-of-type {\n",
       "        vertical-align: middle;\n",
       "    }\n",
       "\n",
       "    .dataframe tbody tr th {\n",
       "        vertical-align: top;\n",
       "    }\n",
       "\n",
       "    .dataframe thead th {\n",
       "        text-align: right;\n",
       "    }\n",
       "</style>\n",
       "<table border=\"1\" class=\"dataframe\">\n",
       "  <thead>\n",
       "    <tr style=\"text-align: right;\">\n",
       "      <th></th>\n",
       "      <th>Temperatura</th>\n",
       "      <th>Habitantes</th>\n",
       "      <th>Velocidad_viento</th>\n",
       "      <th>Lluvia</th>\n",
       "      <th>Dias_Lluvia</th>\n",
       "    </tr>\n",
       "  </thead>\n",
       "  <tbody>\n",
       "    <tr>\n",
       "      <th>0</th>\n",
       "      <td>70.3</td>\n",
       "      <td>582</td>\n",
       "      <td>6.0</td>\n",
       "      <td>7.05</td>\n",
       "      <td>36</td>\n",
       "    </tr>\n",
       "    <tr>\n",
       "      <th>1</th>\n",
       "      <td>61.0</td>\n",
       "      <td>132</td>\n",
       "      <td>8.2</td>\n",
       "      <td>48.52</td>\n",
       "      <td>100</td>\n",
       "    </tr>\n",
       "  </tbody>\n",
       "</table>\n",
       "</div>"
      ],
      "text/plain": [
       "   Temperatura  Habitantes  Velocidad_viento  Lluvia  Dias_Lluvia\n",
       "0         70.3         582               6.0    7.05           36\n",
       "1         61.0         132               8.2   48.52          100"
      ]
     },
     "execution_count": 17,
     "metadata": {},
     "output_type": "execute_result"
    }
   ],
   "source": [
    "df2 = data.drop(['Contaminacion_SO2', 'Fabricas'], axis=1) # axis = 1 : columnas, axis = 0 : filas\n",
    "df2.head(2)"
   ]
  },
  {
   "cell_type": "markdown",
   "metadata": {},
   "source": [
    "### Series"
   ]
  },
  {
   "cell_type": "code",
   "execution_count": 18,
   "metadata": {},
   "outputs": [
    {
     "data": {
      "text/plain": [
       "pandas.core.series.Series"
      ]
     },
     "execution_count": 18,
     "metadata": {},
     "output_type": "execute_result"
    }
   ],
   "source": [
    "s = data.Contaminacion_SO2\n",
    "type(s)"
   ]
  },
  {
   "cell_type": "code",
   "execution_count": 19,
   "metadata": {},
   "outputs": [
    {
     "data": {
      "text/plain": [
       "dtype('int64')"
      ]
     },
     "execution_count": 19,
     "metadata": {},
     "output_type": "execute_result"
    }
   ],
   "source": [
    "s.dtype"
   ]
  },
  {
   "cell_type": "code",
   "execution_count": 20,
   "metadata": {},
   "outputs": [
    {
     "data": {
      "text/plain": [
       "array([ 10,  13,  12,  17,  56,  36,  29,  14,  10,  24, 110,  28,  17,\n",
       "         8,  30,   9,  47,  35,  29,  14,  56,  14,  11,  46,  11,  23,\n",
       "        65,  26,  69,  61,  94,  10,  18,   9,  10,  28,  31,  26,  29,\n",
       "        31,  16])"
      ]
     },
     "execution_count": 20,
     "metadata": {},
     "output_type": "execute_result"
    }
   ],
   "source": [
    "s.values"
   ]
  },
  {
   "cell_type": "code",
   "execution_count": 21,
   "metadata": {},
   "outputs": [
    {
     "name": "stdout",
     "output_type": "stream",
     "text": [
      "1232\n",
      "30.048780487804876\n",
      "23.4722721732603\n",
      "110\n",
      "8\n",
      "[ 10  13  12  17  56  36  29  14  24 110  28   8  30   9  47  35  11  46\n",
      "  23  65  26  69  61  94  18  31  16]\n",
      "Contaminacion_SO2\n",
      "10     4\n",
      "14     3\n",
      "29     3\n",
      "28     2\n",
      "17     2\n",
      "56     2\n",
      "9      2\n",
      "26     2\n",
      "31     2\n",
      "11     2\n",
      "13     1\n",
      "110    1\n",
      "24     1\n",
      "36     1\n",
      "12     1\n",
      "47     1\n",
      "35     1\n",
      "30     1\n",
      "8      1\n",
      "23     1\n",
      "46     1\n",
      "69     1\n",
      "65     1\n",
      "61     1\n",
      "94     1\n",
      "18     1\n",
      "16     1\n",
      "Name: count, dtype: int64\n"
     ]
    }
   ],
   "source": [
    "print(s.sum())\n",
    "print(s.mean())\n",
    "print(s.std())\n",
    "print(s.max())\n",
    "print(s.min())\n",
    "print(s.unique())\n",
    "print(s.value_counts())"
   ]
  },
  {
   "cell_type": "code",
   "execution_count": 22,
   "metadata": {},
   "outputs": [
    {
     "data": {
      "text/plain": [
       "10    110\n",
       "30     94\n",
       "28     69\n",
       "Name: Contaminacion_SO2, dtype: int64"
      ]
     },
     "execution_count": 22,
     "metadata": {},
     "output_type": "execute_result"
    }
   ],
   "source": [
    "s.sort_values(ascending=False).head(3)"
   ]
  },
  {
   "cell_type": "markdown",
   "metadata": {},
   "source": [
    "### Agrupamientos"
   ]
  },
  {
   "cell_type": "code",
   "execution_count": 23,
   "metadata": {},
   "outputs": [
    {
     "data": {
      "text/plain": [
       "pandas.core.groupby.generic.DataFrameGroupBy"
      ]
     },
     "execution_count": 23,
     "metadata": {},
     "output_type": "execute_result"
    }
   ],
   "source": [
    "grupo = data.groupby('Contaminacion_SO2')\n",
    "type(grupo)"
   ]
  },
  {
   "cell_type": "code",
   "execution_count": 24,
   "metadata": {},
   "outputs": [
    {
     "data": {
      "text/html": [
       "<div>\n",
       "<style scoped>\n",
       "    .dataframe tbody tr th:only-of-type {\n",
       "        vertical-align: middle;\n",
       "    }\n",
       "\n",
       "    .dataframe tbody tr th {\n",
       "        vertical-align: top;\n",
       "    }\n",
       "\n",
       "    .dataframe thead th {\n",
       "        text-align: right;\n",
       "    }\n",
       "</style>\n",
       "<table border=\"1\" class=\"dataframe\">\n",
       "  <thead>\n",
       "    <tr style=\"text-align: right;\">\n",
       "      <th></th>\n",
       "      <th>Temperatura</th>\n",
       "      <th>Fabricas</th>\n",
       "      <th>Habitantes</th>\n",
       "      <th>Velocidad_viento</th>\n",
       "      <th>Lluvia</th>\n",
       "      <th>Dias_Lluvia</th>\n",
       "    </tr>\n",
       "    <tr>\n",
       "      <th>Contaminacion_SO2</th>\n",
       "      <th></th>\n",
       "      <th></th>\n",
       "      <th></th>\n",
       "      <th></th>\n",
       "      <th></th>\n",
       "      <th></th>\n",
       "    </tr>\n",
       "  </thead>\n",
       "  <tbody>\n",
       "    <tr>\n",
       "      <th>8</th>\n",
       "      <td>56.600000</td>\n",
       "      <td>125.000000</td>\n",
       "      <td>277.000000</td>\n",
       "      <td>12.700000</td>\n",
       "      <td>30.580</td>\n",
       "      <td>82.000000</td>\n",
       "    </tr>\n",
       "    <tr>\n",
       "      <th>9</th>\n",
       "      <td>67.250000</td>\n",
       "      <td>422.500000</td>\n",
       "      <td>602.500000</td>\n",
       "      <td>9.650000</td>\n",
       "      <td>46.355</td>\n",
       "      <td>95.500000</td>\n",
       "    </tr>\n",
       "    <tr>\n",
       "      <th>10</th>\n",
       "      <td>69.075000</td>\n",
       "      <td>369.500000</td>\n",
       "      <td>693.500000</td>\n",
       "      <td>8.750000</td>\n",
       "      <td>41.035</td>\n",
       "      <td>93.000000</td>\n",
       "    </tr>\n",
       "    <tr>\n",
       "      <th>11</th>\n",
       "      <td>51.950000</td>\n",
       "      <td>218.500000</td>\n",
       "      <td>353.500000</td>\n",
       "      <td>10.650000</td>\n",
       "      <td>21.940</td>\n",
       "      <td>112.000000</td>\n",
       "    </tr>\n",
       "    <tr>\n",
       "      <th>12</th>\n",
       "      <td>56.700000</td>\n",
       "      <td>453.000000</td>\n",
       "      <td>716.000000</td>\n",
       "      <td>8.700000</td>\n",
       "      <td>20.660</td>\n",
       "      <td>67.000000</td>\n",
       "    </tr>\n",
       "    <tr>\n",
       "      <th>13</th>\n",
       "      <td>61.000000</td>\n",
       "      <td>91.000000</td>\n",
       "      <td>132.000000</td>\n",
       "      <td>8.200000</td>\n",
       "      <td>48.520</td>\n",
       "      <td>100.000000</td>\n",
       "    </tr>\n",
       "    <tr>\n",
       "      <th>14</th>\n",
       "      <td>58.133333</td>\n",
       "      <td>232.666667</td>\n",
       "      <td>461.000000</td>\n",
       "      <td>9.900000</td>\n",
       "      <td>40.550</td>\n",
       "      <td>104.333333</td>\n",
       "    </tr>\n",
       "    <tr>\n",
       "      <th>16</th>\n",
       "      <td>45.700000</td>\n",
       "      <td>569.000000</td>\n",
       "      <td>717.000000</td>\n",
       "      <td>11.800000</td>\n",
       "      <td>29.070</td>\n",
       "      <td>123.000000</td>\n",
       "    </tr>\n",
       "    <tr>\n",
       "      <th>17</th>\n",
       "      <td>50.450000</td>\n",
       "      <td>279.000000</td>\n",
       "      <td>358.000000</td>\n",
       "      <td>10.100000</td>\n",
       "      <td>21.900</td>\n",
       "      <td>94.500000</td>\n",
       "    </tr>\n",
       "    <tr>\n",
       "      <th>18</th>\n",
       "      <td>59.400000</td>\n",
       "      <td>275.000000</td>\n",
       "      <td>448.000000</td>\n",
       "      <td>7.900000</td>\n",
       "      <td>46.000</td>\n",
       "      <td>119.000000</td>\n",
       "    </tr>\n",
       "    <tr>\n",
       "      <th>23</th>\n",
       "      <td>54.000000</td>\n",
       "      <td>462.000000</td>\n",
       "      <td>453.000000</td>\n",
       "      <td>7.100000</td>\n",
       "      <td>39.040</td>\n",
       "      <td>132.000000</td>\n",
       "    </tr>\n",
       "    <tr>\n",
       "      <th>24</th>\n",
       "      <td>61.500000</td>\n",
       "      <td>368.000000</td>\n",
       "      <td>497.000000</td>\n",
       "      <td>9.100000</td>\n",
       "      <td>48.340</td>\n",
       "      <td>115.000000</td>\n",
       "    </tr>\n",
       "    <tr>\n",
       "      <th>26</th>\n",
       "      <td>54.650000</td>\n",
       "      <td>231.500000</td>\n",
       "      <td>419.500000</td>\n",
       "      <td>8.100000</td>\n",
       "      <td>39.800</td>\n",
       "      <td>124.500000</td>\n",
       "    </tr>\n",
       "    <tr>\n",
       "      <th>28</th>\n",
       "      <td>51.650000</td>\n",
       "      <td>249.000000</td>\n",
       "      <td>461.000000</td>\n",
       "      <td>9.200000</td>\n",
       "      <td>26.955</td>\n",
       "      <td>105.000000</td>\n",
       "    </tr>\n",
       "    <tr>\n",
       "      <th>29</th>\n",
       "      <td>50.633333</td>\n",
       "      <td>504.000000</td>\n",
       "      <td>677.333333</td>\n",
       "      <td>9.766667</td>\n",
       "      <td>34.540</td>\n",
       "      <td>137.333333</td>\n",
       "    </tr>\n",
       "    <tr>\n",
       "      <th>30</th>\n",
       "      <td>55.600000</td>\n",
       "      <td>291.000000</td>\n",
       "      <td>593.000000</td>\n",
       "      <td>8.300000</td>\n",
       "      <td>43.110</td>\n",
       "      <td>123.000000</td>\n",
       "    </tr>\n",
       "    <tr>\n",
       "      <th>31</th>\n",
       "      <td>57.250000</td>\n",
       "      <td>65.500000</td>\n",
       "      <td>189.500000</td>\n",
       "      <td>8.550000</td>\n",
       "      <td>42.715</td>\n",
       "      <td>132.000000</td>\n",
       "    </tr>\n",
       "    <tr>\n",
       "      <th>35</th>\n",
       "      <td>49.900000</td>\n",
       "      <td>1064.000000</td>\n",
       "      <td>1513.000000</td>\n",
       "      <td>10.100000</td>\n",
       "      <td>30.960</td>\n",
       "      <td>129.000000</td>\n",
       "    </tr>\n",
       "    <tr>\n",
       "      <th>36</th>\n",
       "      <td>54.000000</td>\n",
       "      <td>80.000000</td>\n",
       "      <td>80.000000</td>\n",
       "      <td>9.000000</td>\n",
       "      <td>40.250</td>\n",
       "      <td>114.000000</td>\n",
       "    </tr>\n",
       "    <tr>\n",
       "      <th>46</th>\n",
       "      <td>47.600000</td>\n",
       "      <td>44.000000</td>\n",
       "      <td>116.000000</td>\n",
       "      <td>8.800000</td>\n",
       "      <td>33.360</td>\n",
       "      <td>135.000000</td>\n",
       "    </tr>\n",
       "    <tr>\n",
       "      <th>47</th>\n",
       "      <td>55.000000</td>\n",
       "      <td>625.000000</td>\n",
       "      <td>905.000000</td>\n",
       "      <td>9.600000</td>\n",
       "      <td>41.310</td>\n",
       "      <td>111.000000</td>\n",
       "    </tr>\n",
       "    <tr>\n",
       "      <th>56</th>\n",
       "      <td>52.500000</td>\n",
       "      <td>593.500000</td>\n",
       "      <td>390.000000</td>\n",
       "      <td>9.250000</td>\n",
       "      <td>39.630</td>\n",
       "      <td>116.000000</td>\n",
       "    </tr>\n",
       "    <tr>\n",
       "      <th>61</th>\n",
       "      <td>50.400000</td>\n",
       "      <td>347.000000</td>\n",
       "      <td>520.000000</td>\n",
       "      <td>9.400000</td>\n",
       "      <td>36.220</td>\n",
       "      <td>147.000000</td>\n",
       "    </tr>\n",
       "    <tr>\n",
       "      <th>65</th>\n",
       "      <td>49.700000</td>\n",
       "      <td>1007.000000</td>\n",
       "      <td>751.000000</td>\n",
       "      <td>10.900000</td>\n",
       "      <td>34.990</td>\n",
       "      <td>155.000000</td>\n",
       "    </tr>\n",
       "    <tr>\n",
       "      <th>69</th>\n",
       "      <td>54.600000</td>\n",
       "      <td>1692.000000</td>\n",
       "      <td>1950.000000</td>\n",
       "      <td>9.600000</td>\n",
       "      <td>39.930</td>\n",
       "      <td>115.000000</td>\n",
       "    </tr>\n",
       "    <tr>\n",
       "      <th>94</th>\n",
       "      <td>50.000000</td>\n",
       "      <td>343.000000</td>\n",
       "      <td>179.000000</td>\n",
       "      <td>10.600000</td>\n",
       "      <td>42.750</td>\n",
       "      <td>125.000000</td>\n",
       "    </tr>\n",
       "    <tr>\n",
       "      <th>110</th>\n",
       "      <td>50.600000</td>\n",
       "      <td>3344.000000</td>\n",
       "      <td>3369.000000</td>\n",
       "      <td>10.400000</td>\n",
       "      <td>34.440</td>\n",
       "      <td>122.000000</td>\n",
       "    </tr>\n",
       "  </tbody>\n",
       "</table>\n",
       "</div>"
      ],
      "text/plain": [
       "                   Temperatura     Fabricas   Habitantes  Velocidad_viento  \\\n",
       "Contaminacion_SO2                                                            \n",
       "8                    56.600000   125.000000   277.000000         12.700000   \n",
       "9                    67.250000   422.500000   602.500000          9.650000   \n",
       "10                   69.075000   369.500000   693.500000          8.750000   \n",
       "11                   51.950000   218.500000   353.500000         10.650000   \n",
       "12                   56.700000   453.000000   716.000000          8.700000   \n",
       "13                   61.000000    91.000000   132.000000          8.200000   \n",
       "14                   58.133333   232.666667   461.000000          9.900000   \n",
       "16                   45.700000   569.000000   717.000000         11.800000   \n",
       "17                   50.450000   279.000000   358.000000         10.100000   \n",
       "18                   59.400000   275.000000   448.000000          7.900000   \n",
       "23                   54.000000   462.000000   453.000000          7.100000   \n",
       "24                   61.500000   368.000000   497.000000          9.100000   \n",
       "26                   54.650000   231.500000   419.500000          8.100000   \n",
       "28                   51.650000   249.000000   461.000000          9.200000   \n",
       "29                   50.633333   504.000000   677.333333          9.766667   \n",
       "30                   55.600000   291.000000   593.000000          8.300000   \n",
       "31                   57.250000    65.500000   189.500000          8.550000   \n",
       "35                   49.900000  1064.000000  1513.000000         10.100000   \n",
       "36                   54.000000    80.000000    80.000000          9.000000   \n",
       "46                   47.600000    44.000000   116.000000          8.800000   \n",
       "47                   55.000000   625.000000   905.000000          9.600000   \n",
       "56                   52.500000   593.500000   390.000000          9.250000   \n",
       "61                   50.400000   347.000000   520.000000          9.400000   \n",
       "65                   49.700000  1007.000000   751.000000         10.900000   \n",
       "69                   54.600000  1692.000000  1950.000000          9.600000   \n",
       "94                   50.000000   343.000000   179.000000         10.600000   \n",
       "110                  50.600000  3344.000000  3369.000000         10.400000   \n",
       "\n",
       "                   Lluvia  Dias_Lluvia  \n",
       "Contaminacion_SO2                       \n",
       "8                  30.580    82.000000  \n",
       "9                  46.355    95.500000  \n",
       "10                 41.035    93.000000  \n",
       "11                 21.940   112.000000  \n",
       "12                 20.660    67.000000  \n",
       "13                 48.520   100.000000  \n",
       "14                 40.550   104.333333  \n",
       "16                 29.070   123.000000  \n",
       "17                 21.900    94.500000  \n",
       "18                 46.000   119.000000  \n",
       "23                 39.040   132.000000  \n",
       "24                 48.340   115.000000  \n",
       "26                 39.800   124.500000  \n",
       "28                 26.955   105.000000  \n",
       "29                 34.540   137.333333  \n",
       "30                 43.110   123.000000  \n",
       "31                 42.715   132.000000  \n",
       "35                 30.960   129.000000  \n",
       "36                 40.250   114.000000  \n",
       "46                 33.360   135.000000  \n",
       "47                 41.310   111.000000  \n",
       "56                 39.630   116.000000  \n",
       "61                 36.220   147.000000  \n",
       "65                 34.990   155.000000  \n",
       "69                 39.930   115.000000  \n",
       "94                 42.750   125.000000  \n",
       "110                34.440   122.000000  "
      ]
     },
     "execution_count": 24,
     "metadata": {},
     "output_type": "execute_result"
    }
   ],
   "source": [
    "grupo.mean()"
   ]
  },
  {
   "cell_type": "code",
   "execution_count": 25,
   "metadata": {},
   "outputs": [
    {
     "data": {
      "text/html": [
       "<div>\n",
       "<style scoped>\n",
       "    .dataframe tbody tr th:only-of-type {\n",
       "        vertical-align: middle;\n",
       "    }\n",
       "\n",
       "    .dataframe tbody tr th {\n",
       "        vertical-align: top;\n",
       "    }\n",
       "\n",
       "    .dataframe thead th {\n",
       "        text-align: right;\n",
       "    }\n",
       "</style>\n",
       "<table border=\"1\" class=\"dataframe\">\n",
       "  <thead>\n",
       "    <tr style=\"text-align: right;\">\n",
       "      <th></th>\n",
       "      <th>Temperatura</th>\n",
       "      <th>Fabricas</th>\n",
       "      <th>Habitantes</th>\n",
       "      <th>Velocidad_viento</th>\n",
       "      <th>Lluvia</th>\n",
       "      <th>Dias_Lluvia</th>\n",
       "    </tr>\n",
       "    <tr>\n",
       "      <th>Contaminacion_SO2</th>\n",
       "      <th></th>\n",
       "      <th></th>\n",
       "      <th></th>\n",
       "      <th></th>\n",
       "      <th></th>\n",
       "      <th></th>\n",
       "    </tr>\n",
       "  </thead>\n",
       "  <tbody>\n",
       "    <tr>\n",
       "      <th>8</th>\n",
       "      <td>56.6</td>\n",
       "      <td>125</td>\n",
       "      <td>277</td>\n",
       "      <td>12.7</td>\n",
       "      <td>30.58</td>\n",
       "      <td>82</td>\n",
       "    </tr>\n",
       "    <tr>\n",
       "      <th>9</th>\n",
       "      <td>134.5</td>\n",
       "      <td>845</td>\n",
       "      <td>1205</td>\n",
       "      <td>19.3</td>\n",
       "      <td>92.71</td>\n",
       "      <td>191</td>\n",
       "    </tr>\n",
       "    <tr>\n",
       "      <th>10</th>\n",
       "      <td>276.3</td>\n",
       "      <td>1478</td>\n",
       "      <td>2774</td>\n",
       "      <td>35.0</td>\n",
       "      <td>164.14</td>\n",
       "      <td>372</td>\n",
       "    </tr>\n",
       "  </tbody>\n",
       "</table>\n",
       "</div>"
      ],
      "text/plain": [
       "                   Temperatura  Fabricas  Habitantes  Velocidad_viento  \\\n",
       "Contaminacion_SO2                                                        \n",
       "8                         56.6       125         277              12.7   \n",
       "9                        134.5       845        1205              19.3   \n",
       "10                       276.3      1478        2774              35.0   \n",
       "\n",
       "                   Lluvia  Dias_Lluvia  \n",
       "Contaminacion_SO2                       \n",
       "8                   30.58           82  \n",
       "9                   92.71          191  \n",
       "10                 164.14          372  "
      ]
     },
     "execution_count": 25,
     "metadata": {},
     "output_type": "execute_result"
    }
   ],
   "source": [
    "suma = grupo.sum()\n",
    "suma.head(3)"
   ]
  },
  {
   "cell_type": "code",
   "execution_count": 26,
   "metadata": {},
   "outputs": [
    {
     "data": {
      "text/plain": [
       "Contaminacion_SO2\n",
       "8      False\n",
       "9       True\n",
       "10      True\n",
       "11      True\n",
       "12     False\n",
       "13     False\n",
       "14      True\n",
       "16     False\n",
       "17      True\n",
       "18     False\n",
       "23     False\n",
       "24     False\n",
       "26      True\n",
       "28      True\n",
       "29      True\n",
       "30     False\n",
       "31      True\n",
       "35     False\n",
       "36     False\n",
       "46     False\n",
       "47     False\n",
       "56      True\n",
       "61     False\n",
       "65     False\n",
       "69     False\n",
       "94     False\n",
       "110    False\n",
       "Name: Temperatura, dtype: bool"
      ]
     },
     "execution_count": 26,
     "metadata": {},
     "output_type": "execute_result"
    }
   ],
   "source": [
    "cond = suma.Temperatura > 80\n",
    "cond"
   ]
  },
  {
   "cell_type": "code",
   "execution_count": 27,
   "metadata": {},
   "outputs": [
    {
     "data": {
      "text/html": [
       "<div>\n",
       "<style scoped>\n",
       "    .dataframe tbody tr th:only-of-type {\n",
       "        vertical-align: middle;\n",
       "    }\n",
       "\n",
       "    .dataframe tbody tr th {\n",
       "        vertical-align: top;\n",
       "    }\n",
       "\n",
       "    .dataframe thead th {\n",
       "        text-align: right;\n",
       "    }\n",
       "</style>\n",
       "<table border=\"1\" class=\"dataframe\">\n",
       "  <thead>\n",
       "    <tr style=\"text-align: right;\">\n",
       "      <th></th>\n",
       "      <th>Temperatura</th>\n",
       "      <th>Fabricas</th>\n",
       "      <th>Habitantes</th>\n",
       "      <th>Velocidad_viento</th>\n",
       "      <th>Lluvia</th>\n",
       "      <th>Dias_Lluvia</th>\n",
       "    </tr>\n",
       "    <tr>\n",
       "      <th>Contaminacion_SO2</th>\n",
       "      <th></th>\n",
       "      <th></th>\n",
       "      <th></th>\n",
       "      <th></th>\n",
       "      <th></th>\n",
       "      <th></th>\n",
       "    </tr>\n",
       "  </thead>\n",
       "  <tbody>\n",
       "    <tr>\n",
       "      <th>9</th>\n",
       "      <td>134.5</td>\n",
       "      <td>845</td>\n",
       "      <td>1205</td>\n",
       "      <td>19.3</td>\n",
       "      <td>92.71</td>\n",
       "      <td>191</td>\n",
       "    </tr>\n",
       "    <tr>\n",
       "      <th>10</th>\n",
       "      <td>276.3</td>\n",
       "      <td>1478</td>\n",
       "      <td>2774</td>\n",
       "      <td>35.0</td>\n",
       "      <td>164.14</td>\n",
       "      <td>372</td>\n",
       "    </tr>\n",
       "    <tr>\n",
       "      <th>11</th>\n",
       "      <td>103.9</td>\n",
       "      <td>437</td>\n",
       "      <td>707</td>\n",
       "      <td>21.3</td>\n",
       "      <td>43.88</td>\n",
       "      <td>224</td>\n",
       "    </tr>\n",
       "    <tr>\n",
       "      <th>14</th>\n",
       "      <td>174.4</td>\n",
       "      <td>698</td>\n",
       "      <td>1383</td>\n",
       "      <td>29.7</td>\n",
       "      <td>121.65</td>\n",
       "      <td>313</td>\n",
       "    </tr>\n",
       "    <tr>\n",
       "      <th>17</th>\n",
       "      <td>100.9</td>\n",
       "      <td>558</td>\n",
       "      <td>716</td>\n",
       "      <td>20.2</td>\n",
       "      <td>43.80</td>\n",
       "      <td>189</td>\n",
       "    </tr>\n",
       "    <tr>\n",
       "      <th>26</th>\n",
       "      <td>109.3</td>\n",
       "      <td>463</td>\n",
       "      <td>839</td>\n",
       "      <td>16.2</td>\n",
       "      <td>79.60</td>\n",
       "      <td>249</td>\n",
       "    </tr>\n",
       "    <tr>\n",
       "      <th>28</th>\n",
       "      <td>103.3</td>\n",
       "      <td>498</td>\n",
       "      <td>922</td>\n",
       "      <td>18.4</td>\n",
       "      <td>53.91</td>\n",
       "      <td>210</td>\n",
       "    </tr>\n",
       "    <tr>\n",
       "      <th>29</th>\n",
       "      <td>151.9</td>\n",
       "      <td>1512</td>\n",
       "      <td>2032</td>\n",
       "      <td>29.3</td>\n",
       "      <td>103.62</td>\n",
       "      <td>412</td>\n",
       "    </tr>\n",
       "    <tr>\n",
       "      <th>31</th>\n",
       "      <td>114.5</td>\n",
       "      <td>131</td>\n",
       "      <td>379</td>\n",
       "      <td>17.1</td>\n",
       "      <td>85.43</td>\n",
       "      <td>264</td>\n",
       "    </tr>\n",
       "    <tr>\n",
       "      <th>56</th>\n",
       "      <td>105.0</td>\n",
       "      <td>1187</td>\n",
       "      <td>780</td>\n",
       "      <td>18.5</td>\n",
       "      <td>79.26</td>\n",
       "      <td>232</td>\n",
       "    </tr>\n",
       "  </tbody>\n",
       "</table>\n",
       "</div>"
      ],
      "text/plain": [
       "                   Temperatura  Fabricas  Habitantes  Velocidad_viento  \\\n",
       "Contaminacion_SO2                                                        \n",
       "9                        134.5       845        1205              19.3   \n",
       "10                       276.3      1478        2774              35.0   \n",
       "11                       103.9       437         707              21.3   \n",
       "14                       174.4       698        1383              29.7   \n",
       "17                       100.9       558         716              20.2   \n",
       "26                       109.3       463         839              16.2   \n",
       "28                       103.3       498         922              18.4   \n",
       "29                       151.9      1512        2032              29.3   \n",
       "31                       114.5       131         379              17.1   \n",
       "56                       105.0      1187         780              18.5   \n",
       "\n",
       "                   Lluvia  Dias_Lluvia  \n",
       "Contaminacion_SO2                       \n",
       "9                   92.71          191  \n",
       "10                 164.14          372  \n",
       "11                  43.88          224  \n",
       "14                 121.65          313  \n",
       "17                  43.80          189  \n",
       "26                  79.60          249  \n",
       "28                  53.91          210  \n",
       "29                 103.62          412  \n",
       "31                  85.43          264  \n",
       "56                  79.26          232  "
      ]
     },
     "execution_count": 27,
     "metadata": {},
     "output_type": "execute_result"
    }
   ],
   "source": [
    "suma[cond]"
   ]
  },
  {
   "cell_type": "code",
   "execution_count": 28,
   "metadata": {},
   "outputs": [
    {
     "data": {
      "text/plain": [
       "Contaminacion_SO2\n",
       "8       True\n",
       "9      False\n",
       "10     False\n",
       "11     False\n",
       "12      True\n",
       "13      True\n",
       "14     False\n",
       "16      True\n",
       "17     False\n",
       "18      True\n",
       "23      True\n",
       "24      True\n",
       "26     False\n",
       "28     False\n",
       "29     False\n",
       "30      True\n",
       "31     False\n",
       "35      True\n",
       "36      True\n",
       "46      True\n",
       "47      True\n",
       "56     False\n",
       "61      True\n",
       "65      True\n",
       "69      True\n",
       "94      True\n",
       "110     True\n",
       "Name: Temperatura, dtype: bool"
      ]
     },
     "execution_count": 28,
     "metadata": {},
     "output_type": "execute_result"
    }
   ],
   "source": [
    "cond = suma.Temperatura <= 80\n",
    "cond"
   ]
  },
  {
   "cell_type": "code",
   "execution_count": 29,
   "metadata": {},
   "outputs": [
    {
     "data": {
      "text/html": [
       "<div>\n",
       "<style scoped>\n",
       "    .dataframe tbody tr th:only-of-type {\n",
       "        vertical-align: middle;\n",
       "    }\n",
       "\n",
       "    .dataframe tbody tr th {\n",
       "        vertical-align: top;\n",
       "    }\n",
       "\n",
       "    .dataframe thead th {\n",
       "        text-align: right;\n",
       "    }\n",
       "</style>\n",
       "<table border=\"1\" class=\"dataframe\">\n",
       "  <thead>\n",
       "    <tr style=\"text-align: right;\">\n",
       "      <th></th>\n",
       "      <th>Temperatura</th>\n",
       "      <th>Fabricas</th>\n",
       "      <th>Habitantes</th>\n",
       "      <th>Velocidad_viento</th>\n",
       "      <th>Lluvia</th>\n",
       "      <th>Dias_Lluvia</th>\n",
       "    </tr>\n",
       "    <tr>\n",
       "      <th>Contaminacion_SO2</th>\n",
       "      <th></th>\n",
       "      <th></th>\n",
       "      <th></th>\n",
       "      <th></th>\n",
       "      <th></th>\n",
       "      <th></th>\n",
       "    </tr>\n",
       "  </thead>\n",
       "  <tbody>\n",
       "    <tr>\n",
       "      <th>8</th>\n",
       "      <td>56.6</td>\n",
       "      <td>125</td>\n",
       "      <td>277</td>\n",
       "      <td>12.7</td>\n",
       "      <td>30.58</td>\n",
       "      <td>82</td>\n",
       "    </tr>\n",
       "    <tr>\n",
       "      <th>12</th>\n",
       "      <td>56.7</td>\n",
       "      <td>453</td>\n",
       "      <td>716</td>\n",
       "      <td>8.7</td>\n",
       "      <td>20.66</td>\n",
       "      <td>67</td>\n",
       "    </tr>\n",
       "    <tr>\n",
       "      <th>13</th>\n",
       "      <td>61.0</td>\n",
       "      <td>91</td>\n",
       "      <td>132</td>\n",
       "      <td>8.2</td>\n",
       "      <td>48.52</td>\n",
       "      <td>100</td>\n",
       "    </tr>\n",
       "    <tr>\n",
       "      <th>16</th>\n",
       "      <td>45.7</td>\n",
       "      <td>569</td>\n",
       "      <td>717</td>\n",
       "      <td>11.8</td>\n",
       "      <td>29.07</td>\n",
       "      <td>123</td>\n",
       "    </tr>\n",
       "    <tr>\n",
       "      <th>18</th>\n",
       "      <td>59.4</td>\n",
       "      <td>275</td>\n",
       "      <td>448</td>\n",
       "      <td>7.9</td>\n",
       "      <td>46.00</td>\n",
       "      <td>119</td>\n",
       "    </tr>\n",
       "    <tr>\n",
       "      <th>23</th>\n",
       "      <td>54.0</td>\n",
       "      <td>462</td>\n",
       "      <td>453</td>\n",
       "      <td>7.1</td>\n",
       "      <td>39.04</td>\n",
       "      <td>132</td>\n",
       "    </tr>\n",
       "    <tr>\n",
       "      <th>24</th>\n",
       "      <td>61.5</td>\n",
       "      <td>368</td>\n",
       "      <td>497</td>\n",
       "      <td>9.1</td>\n",
       "      <td>48.34</td>\n",
       "      <td>115</td>\n",
       "    </tr>\n",
       "    <tr>\n",
       "      <th>30</th>\n",
       "      <td>55.6</td>\n",
       "      <td>291</td>\n",
       "      <td>593</td>\n",
       "      <td>8.3</td>\n",
       "      <td>43.11</td>\n",
       "      <td>123</td>\n",
       "    </tr>\n",
       "    <tr>\n",
       "      <th>35</th>\n",
       "      <td>49.9</td>\n",
       "      <td>1064</td>\n",
       "      <td>1513</td>\n",
       "      <td>10.1</td>\n",
       "      <td>30.96</td>\n",
       "      <td>129</td>\n",
       "    </tr>\n",
       "    <tr>\n",
       "      <th>36</th>\n",
       "      <td>54.0</td>\n",
       "      <td>80</td>\n",
       "      <td>80</td>\n",
       "      <td>9.0</td>\n",
       "      <td>40.25</td>\n",
       "      <td>114</td>\n",
       "    </tr>\n",
       "    <tr>\n",
       "      <th>46</th>\n",
       "      <td>47.6</td>\n",
       "      <td>44</td>\n",
       "      <td>116</td>\n",
       "      <td>8.8</td>\n",
       "      <td>33.36</td>\n",
       "      <td>135</td>\n",
       "    </tr>\n",
       "    <tr>\n",
       "      <th>47</th>\n",
       "      <td>55.0</td>\n",
       "      <td>625</td>\n",
       "      <td>905</td>\n",
       "      <td>9.6</td>\n",
       "      <td>41.31</td>\n",
       "      <td>111</td>\n",
       "    </tr>\n",
       "    <tr>\n",
       "      <th>61</th>\n",
       "      <td>50.4</td>\n",
       "      <td>347</td>\n",
       "      <td>520</td>\n",
       "      <td>9.4</td>\n",
       "      <td>36.22</td>\n",
       "      <td>147</td>\n",
       "    </tr>\n",
       "    <tr>\n",
       "      <th>65</th>\n",
       "      <td>49.7</td>\n",
       "      <td>1007</td>\n",
       "      <td>751</td>\n",
       "      <td>10.9</td>\n",
       "      <td>34.99</td>\n",
       "      <td>155</td>\n",
       "    </tr>\n",
       "    <tr>\n",
       "      <th>69</th>\n",
       "      <td>54.6</td>\n",
       "      <td>1692</td>\n",
       "      <td>1950</td>\n",
       "      <td>9.6</td>\n",
       "      <td>39.93</td>\n",
       "      <td>115</td>\n",
       "    </tr>\n",
       "    <tr>\n",
       "      <th>94</th>\n",
       "      <td>50.0</td>\n",
       "      <td>343</td>\n",
       "      <td>179</td>\n",
       "      <td>10.6</td>\n",
       "      <td>42.75</td>\n",
       "      <td>125</td>\n",
       "    </tr>\n",
       "    <tr>\n",
       "      <th>110</th>\n",
       "      <td>50.6</td>\n",
       "      <td>3344</td>\n",
       "      <td>3369</td>\n",
       "      <td>10.4</td>\n",
       "      <td>34.44</td>\n",
       "      <td>122</td>\n",
       "    </tr>\n",
       "  </tbody>\n",
       "</table>\n",
       "</div>"
      ],
      "text/plain": [
       "                   Temperatura  Fabricas  Habitantes  Velocidad_viento  \\\n",
       "Contaminacion_SO2                                                        \n",
       "8                         56.6       125         277              12.7   \n",
       "12                        56.7       453         716               8.7   \n",
       "13                        61.0        91         132               8.2   \n",
       "16                        45.7       569         717              11.8   \n",
       "18                        59.4       275         448               7.9   \n",
       "23                        54.0       462         453               7.1   \n",
       "24                        61.5       368         497               9.1   \n",
       "30                        55.6       291         593               8.3   \n",
       "35                        49.9      1064        1513              10.1   \n",
       "36                        54.0        80          80               9.0   \n",
       "46                        47.6        44         116               8.8   \n",
       "47                        55.0       625         905               9.6   \n",
       "61                        50.4       347         520               9.4   \n",
       "65                        49.7      1007         751              10.9   \n",
       "69                        54.6      1692        1950               9.6   \n",
       "94                        50.0       343         179              10.6   \n",
       "110                       50.6      3344        3369              10.4   \n",
       "\n",
       "                   Lluvia  Dias_Lluvia  \n",
       "Contaminacion_SO2                       \n",
       "8                   30.58           82  \n",
       "12                  20.66           67  \n",
       "13                  48.52          100  \n",
       "16                  29.07          123  \n",
       "18                  46.00          119  \n",
       "23                  39.04          132  \n",
       "24                  48.34          115  \n",
       "30                  43.11          123  \n",
       "35                  30.96          129  \n",
       "36                  40.25          114  \n",
       "46                  33.36          135  \n",
       "47                  41.31          111  \n",
       "61                  36.22          147  \n",
       "65                  34.99          155  \n",
       "69                  39.93          115  \n",
       "94                  42.75          125  \n",
       "110                 34.44          122  "
      ]
     },
     "execution_count": 29,
     "metadata": {},
     "output_type": "execute_result"
    }
   ],
   "source": [
    "suma[cond]"
   ]
  },
  {
   "cell_type": "code",
   "execution_count": 30,
   "metadata": {},
   "outputs": [
    {
     "data": {
      "text/html": [
       "<div>\n",
       "<style scoped>\n",
       "    .dataframe tbody tr th:only-of-type {\n",
       "        vertical-align: middle;\n",
       "    }\n",
       "\n",
       "    .dataframe tbody tr th {\n",
       "        vertical-align: top;\n",
       "    }\n",
       "\n",
       "    .dataframe thead th {\n",
       "        text-align: right;\n",
       "    }\n",
       "</style>\n",
       "<table border=\"1\" class=\"dataframe\">\n",
       "  <thead>\n",
       "    <tr style=\"text-align: right;\">\n",
       "      <th></th>\n",
       "      <th>Temperatura</th>\n",
       "      <th>Fabricas</th>\n",
       "      <th>Habitantes</th>\n",
       "      <th>Velocidad_viento</th>\n",
       "      <th>Lluvia</th>\n",
       "      <th>Dias_Lluvia</th>\n",
       "    </tr>\n",
       "    <tr>\n",
       "      <th>Contaminacion_SO2</th>\n",
       "      <th></th>\n",
       "      <th></th>\n",
       "      <th></th>\n",
       "      <th></th>\n",
       "      <th></th>\n",
       "      <th></th>\n",
       "    </tr>\n",
       "  </thead>\n",
       "  <tbody>\n",
       "    <tr>\n",
       "      <th>8</th>\n",
       "      <td>NaN</td>\n",
       "      <td>125.0</td>\n",
       "      <td>277.0</td>\n",
       "      <td>NaN</td>\n",
       "      <td>NaN</td>\n",
       "      <td>82.0</td>\n",
       "    </tr>\n",
       "    <tr>\n",
       "      <th>9</th>\n",
       "      <td>134.5</td>\n",
       "      <td>845.0</td>\n",
       "      <td>1205.0</td>\n",
       "      <td>NaN</td>\n",
       "      <td>92.71</td>\n",
       "      <td>191.0</td>\n",
       "    </tr>\n",
       "    <tr>\n",
       "      <th>10</th>\n",
       "      <td>276.3</td>\n",
       "      <td>1478.0</td>\n",
       "      <td>2774.0</td>\n",
       "      <td>NaN</td>\n",
       "      <td>164.14</td>\n",
       "      <td>372.0</td>\n",
       "    </tr>\n",
       "    <tr>\n",
       "      <th>11</th>\n",
       "      <td>103.9</td>\n",
       "      <td>437.0</td>\n",
       "      <td>707.0</td>\n",
       "      <td>NaN</td>\n",
       "      <td>NaN</td>\n",
       "      <td>224.0</td>\n",
       "    </tr>\n",
       "    <tr>\n",
       "      <th>12</th>\n",
       "      <td>NaN</td>\n",
       "      <td>453.0</td>\n",
       "      <td>716.0</td>\n",
       "      <td>NaN</td>\n",
       "      <td>NaN</td>\n",
       "      <td>NaN</td>\n",
       "    </tr>\n",
       "    <tr>\n",
       "      <th>13</th>\n",
       "      <td>NaN</td>\n",
       "      <td>91.0</td>\n",
       "      <td>132.0</td>\n",
       "      <td>NaN</td>\n",
       "      <td>NaN</td>\n",
       "      <td>100.0</td>\n",
       "    </tr>\n",
       "    <tr>\n",
       "      <th>14</th>\n",
       "      <td>174.4</td>\n",
       "      <td>698.0</td>\n",
       "      <td>1383.0</td>\n",
       "      <td>NaN</td>\n",
       "      <td>121.65</td>\n",
       "      <td>313.0</td>\n",
       "    </tr>\n",
       "    <tr>\n",
       "      <th>16</th>\n",
       "      <td>NaN</td>\n",
       "      <td>569.0</td>\n",
       "      <td>717.0</td>\n",
       "      <td>NaN</td>\n",
       "      <td>NaN</td>\n",
       "      <td>123.0</td>\n",
       "    </tr>\n",
       "    <tr>\n",
       "      <th>17</th>\n",
       "      <td>100.9</td>\n",
       "      <td>558.0</td>\n",
       "      <td>716.0</td>\n",
       "      <td>NaN</td>\n",
       "      <td>NaN</td>\n",
       "      <td>189.0</td>\n",
       "    </tr>\n",
       "    <tr>\n",
       "      <th>18</th>\n",
       "      <td>NaN</td>\n",
       "      <td>275.0</td>\n",
       "      <td>448.0</td>\n",
       "      <td>NaN</td>\n",
       "      <td>NaN</td>\n",
       "      <td>119.0</td>\n",
       "    </tr>\n",
       "    <tr>\n",
       "      <th>23</th>\n",
       "      <td>NaN</td>\n",
       "      <td>462.0</td>\n",
       "      <td>453.0</td>\n",
       "      <td>NaN</td>\n",
       "      <td>NaN</td>\n",
       "      <td>132.0</td>\n",
       "    </tr>\n",
       "    <tr>\n",
       "      <th>24</th>\n",
       "      <td>NaN</td>\n",
       "      <td>368.0</td>\n",
       "      <td>497.0</td>\n",
       "      <td>NaN</td>\n",
       "      <td>NaN</td>\n",
       "      <td>115.0</td>\n",
       "    </tr>\n",
       "    <tr>\n",
       "      <th>26</th>\n",
       "      <td>109.3</td>\n",
       "      <td>463.0</td>\n",
       "      <td>839.0</td>\n",
       "      <td>NaN</td>\n",
       "      <td>NaN</td>\n",
       "      <td>249.0</td>\n",
       "    </tr>\n",
       "    <tr>\n",
       "      <th>28</th>\n",
       "      <td>103.3</td>\n",
       "      <td>498.0</td>\n",
       "      <td>922.0</td>\n",
       "      <td>NaN</td>\n",
       "      <td>NaN</td>\n",
       "      <td>210.0</td>\n",
       "    </tr>\n",
       "    <tr>\n",
       "      <th>29</th>\n",
       "      <td>151.9</td>\n",
       "      <td>1512.0</td>\n",
       "      <td>2032.0</td>\n",
       "      <td>NaN</td>\n",
       "      <td>103.62</td>\n",
       "      <td>412.0</td>\n",
       "    </tr>\n",
       "    <tr>\n",
       "      <th>30</th>\n",
       "      <td>NaN</td>\n",
       "      <td>291.0</td>\n",
       "      <td>593.0</td>\n",
       "      <td>NaN</td>\n",
       "      <td>NaN</td>\n",
       "      <td>123.0</td>\n",
       "    </tr>\n",
       "    <tr>\n",
       "      <th>31</th>\n",
       "      <td>114.5</td>\n",
       "      <td>131.0</td>\n",
       "      <td>379.0</td>\n",
       "      <td>NaN</td>\n",
       "      <td>85.43</td>\n",
       "      <td>264.0</td>\n",
       "    </tr>\n",
       "    <tr>\n",
       "      <th>35</th>\n",
       "      <td>NaN</td>\n",
       "      <td>1064.0</td>\n",
       "      <td>1513.0</td>\n",
       "      <td>NaN</td>\n",
       "      <td>NaN</td>\n",
       "      <td>129.0</td>\n",
       "    </tr>\n",
       "    <tr>\n",
       "      <th>36</th>\n",
       "      <td>NaN</td>\n",
       "      <td>NaN</td>\n",
       "      <td>NaN</td>\n",
       "      <td>NaN</td>\n",
       "      <td>NaN</td>\n",
       "      <td>114.0</td>\n",
       "    </tr>\n",
       "    <tr>\n",
       "      <th>46</th>\n",
       "      <td>NaN</td>\n",
       "      <td>NaN</td>\n",
       "      <td>116.0</td>\n",
       "      <td>NaN</td>\n",
       "      <td>NaN</td>\n",
       "      <td>135.0</td>\n",
       "    </tr>\n",
       "    <tr>\n",
       "      <th>47</th>\n",
       "      <td>NaN</td>\n",
       "      <td>625.0</td>\n",
       "      <td>905.0</td>\n",
       "      <td>NaN</td>\n",
       "      <td>NaN</td>\n",
       "      <td>111.0</td>\n",
       "    </tr>\n",
       "    <tr>\n",
       "      <th>56</th>\n",
       "      <td>105.0</td>\n",
       "      <td>1187.0</td>\n",
       "      <td>780.0</td>\n",
       "      <td>NaN</td>\n",
       "      <td>NaN</td>\n",
       "      <td>232.0</td>\n",
       "    </tr>\n",
       "    <tr>\n",
       "      <th>61</th>\n",
       "      <td>NaN</td>\n",
       "      <td>347.0</td>\n",
       "      <td>520.0</td>\n",
       "      <td>NaN</td>\n",
       "      <td>NaN</td>\n",
       "      <td>147.0</td>\n",
       "    </tr>\n",
       "    <tr>\n",
       "      <th>65</th>\n",
       "      <td>NaN</td>\n",
       "      <td>1007.0</td>\n",
       "      <td>751.0</td>\n",
       "      <td>NaN</td>\n",
       "      <td>NaN</td>\n",
       "      <td>155.0</td>\n",
       "    </tr>\n",
       "    <tr>\n",
       "      <th>69</th>\n",
       "      <td>NaN</td>\n",
       "      <td>1692.0</td>\n",
       "      <td>1950.0</td>\n",
       "      <td>NaN</td>\n",
       "      <td>NaN</td>\n",
       "      <td>115.0</td>\n",
       "    </tr>\n",
       "    <tr>\n",
       "      <th>94</th>\n",
       "      <td>NaN</td>\n",
       "      <td>343.0</td>\n",
       "      <td>179.0</td>\n",
       "      <td>NaN</td>\n",
       "      <td>NaN</td>\n",
       "      <td>125.0</td>\n",
       "    </tr>\n",
       "    <tr>\n",
       "      <th>110</th>\n",
       "      <td>NaN</td>\n",
       "      <td>3344.0</td>\n",
       "      <td>3369.0</td>\n",
       "      <td>NaN</td>\n",
       "      <td>NaN</td>\n",
       "      <td>122.0</td>\n",
       "    </tr>\n",
       "  </tbody>\n",
       "</table>\n",
       "</div>"
      ],
      "text/plain": [
       "                   Temperatura  Fabricas  Habitantes  Velocidad_viento  \\\n",
       "Contaminacion_SO2                                                        \n",
       "8                          NaN     125.0       277.0               NaN   \n",
       "9                        134.5     845.0      1205.0               NaN   \n",
       "10                       276.3    1478.0      2774.0               NaN   \n",
       "11                       103.9     437.0       707.0               NaN   \n",
       "12                         NaN     453.0       716.0               NaN   \n",
       "13                         NaN      91.0       132.0               NaN   \n",
       "14                       174.4     698.0      1383.0               NaN   \n",
       "16                         NaN     569.0       717.0               NaN   \n",
       "17                       100.9     558.0       716.0               NaN   \n",
       "18                         NaN     275.0       448.0               NaN   \n",
       "23                         NaN     462.0       453.0               NaN   \n",
       "24                         NaN     368.0       497.0               NaN   \n",
       "26                       109.3     463.0       839.0               NaN   \n",
       "28                       103.3     498.0       922.0               NaN   \n",
       "29                       151.9    1512.0      2032.0               NaN   \n",
       "30                         NaN     291.0       593.0               NaN   \n",
       "31                       114.5     131.0       379.0               NaN   \n",
       "35                         NaN    1064.0      1513.0               NaN   \n",
       "36                         NaN       NaN         NaN               NaN   \n",
       "46                         NaN       NaN       116.0               NaN   \n",
       "47                         NaN     625.0       905.0               NaN   \n",
       "56                       105.0    1187.0       780.0               NaN   \n",
       "61                         NaN     347.0       520.0               NaN   \n",
       "65                         NaN    1007.0       751.0               NaN   \n",
       "69                         NaN    1692.0      1950.0               NaN   \n",
       "94                         NaN     343.0       179.0               NaN   \n",
       "110                        NaN    3344.0      3369.0               NaN   \n",
       "\n",
       "                   Lluvia  Dias_Lluvia  \n",
       "Contaminacion_SO2                       \n",
       "8                     NaN         82.0  \n",
       "9                   92.71        191.0  \n",
       "10                 164.14        372.0  \n",
       "11                    NaN        224.0  \n",
       "12                    NaN          NaN  \n",
       "13                    NaN        100.0  \n",
       "14                 121.65        313.0  \n",
       "16                    NaN        123.0  \n",
       "17                    NaN        189.0  \n",
       "18                    NaN        119.0  \n",
       "23                    NaN        132.0  \n",
       "24                    NaN        115.0  \n",
       "26                    NaN        249.0  \n",
       "28                    NaN        210.0  \n",
       "29                 103.62        412.0  \n",
       "30                    NaN        123.0  \n",
       "31                  85.43        264.0  \n",
       "35                    NaN        129.0  \n",
       "36                    NaN        114.0  \n",
       "46                    NaN        135.0  \n",
       "47                    NaN        111.0  \n",
       "56                    NaN        232.0  \n",
       "61                    NaN        147.0  \n",
       "65                    NaN        155.0  \n",
       "69                    NaN        115.0  \n",
       "94                    NaN        125.0  \n",
       "110                   NaN        122.0  "
      ]
     },
     "execution_count": 30,
     "metadata": {},
     "output_type": "execute_result"
    }
   ],
   "source": [
    "suma[suma > 80]"
   ]
  },
  {
   "cell_type": "markdown",
   "metadata": {},
   "source": [
    "# Numpy"
   ]
  },
  {
   "cell_type": "markdown",
   "metadata": {},
   "source": [
    "Biblioteca para proceso de arreglos a la \"Matlab\""
   ]
  },
  {
   "cell_type": "code",
   "execution_count": 31,
   "metadata": {},
   "outputs": [],
   "source": [
    "import numpy as np"
   ]
  },
  {
   "cell_type": "code",
   "execution_count": 32,
   "metadata": {},
   "outputs": [
    {
     "name": "stdout",
     "output_type": "stream",
     "text": [
      "<class 'numpy.ndarray'>\n",
      "(5,)\n",
      "1\n",
      "int64\n"
     ]
    }
   ],
   "source": [
    "v = np.array([1, 2, 3, 4, 5])\n",
    "print(type(v))\n",
    "print(v.shape)\n",
    "print(v.ndim)\n",
    "print(v.dtype)"
   ]
  },
  {
   "cell_type": "markdown",
   "metadata": {},
   "source": [
    "### Operaciones vectorizadas"
   ]
  },
  {
   "cell_type": "code",
   "execution_count": 33,
   "metadata": {},
   "outputs": [
    {
     "data": {
      "text/plain": [
       "array([ 2,  4,  6,  8, 10])"
      ]
     },
     "execution_count": 33,
     "metadata": {},
     "output_type": "execute_result"
    }
   ],
   "source": [
    "v+v"
   ]
  },
  {
   "cell_type": "code",
   "execution_count": 34,
   "metadata": {},
   "outputs": [
    {
     "data": {
      "text/plain": [
       "array([ 5.3, 10.6, 15.9, 21.2, 26.5])"
      ]
     },
     "execution_count": 34,
     "metadata": {},
     "output_type": "execute_result"
    }
   ],
   "source": [
    "5.3*v"
   ]
  },
  {
   "cell_type": "code",
   "execution_count": 35,
   "metadata": {},
   "outputs": [
    {
     "data": {
      "text/plain": [
       "array([ 1,  4,  9, 16, 25])"
      ]
     },
     "execution_count": 35,
     "metadata": {},
     "output_type": "execute_result"
    }
   ],
   "source": [
    "v*v # Elemento a elemento"
   ]
  },
  {
   "cell_type": "code",
   "execution_count": 36,
   "metadata": {},
   "outputs": [
    {
     "data": {
      "text/plain": [
       "np.int64(55)"
      ]
     },
     "execution_count": 36,
     "metadata": {},
     "output_type": "execute_result"
    }
   ],
   "source": [
    "v@v # Producto punto"
   ]
  },
  {
   "cell_type": "code",
   "execution_count": 38,
   "metadata": {},
   "outputs": [
    {
     "name": "stdout",
     "output_type": "stream",
     "text": [
      "<class 'numpy.ndarray'>\n",
      "(3, 3)\n",
      "2\n",
      "int64\n"
     ]
    }
   ],
   "source": [
    "m = np.array([[1, 2, 3], [4, 5, 6], [7, 8, 9]])\n",
    "print(type(m))\n",
    "print(m.shape)\n",
    "print(m.ndim)\n",
    "print(m.dtype)"
   ]
  },
  {
   "cell_type": "code",
   "execution_count": 39,
   "metadata": {},
   "outputs": [
    {
     "name": "stdout",
     "output_type": "stream",
     "text": [
      "<class 'numpy.ndarray'>\n",
      "(3, 3)\n",
      "2\n",
      "float64\n"
     ]
    }
   ],
   "source": [
    "m = np.array([[1, 2, 3], [4, 5., 6], [7, 8, 9]])\n",
    "print(type(m))\n",
    "print(m.shape)\n",
    "print(m.ndim)\n",
    "print(m.dtype)"
   ]
  },
  {
   "cell_type": "code",
   "execution_count": 40,
   "metadata": {},
   "outputs": [
    {
     "data": {
      "text/plain": [
       "array([[ 2.,  4.,  6.],\n",
       "       [ 8., 10., 12.],\n",
       "       [14., 16., 18.]])"
      ]
     },
     "execution_count": 40,
     "metadata": {},
     "output_type": "execute_result"
    }
   ],
   "source": [
    "m+m"
   ]
  },
  {
   "cell_type": "code",
   "execution_count": 41,
   "metadata": {},
   "outputs": [
    {
     "data": {
      "text/plain": [
       "array([[ 6.9, 13.8, 20.7],\n",
       "       [27.6, 34.5, 41.4],\n",
       "       [48.3, 55.2, 62.1]])"
      ]
     },
     "execution_count": 41,
     "metadata": {},
     "output_type": "execute_result"
    }
   ],
   "source": [
    "6.9*m"
   ]
  },
  {
   "cell_type": "code",
   "execution_count": 42,
   "metadata": {},
   "outputs": [
    {
     "data": {
      "text/plain": [
       "array([[ 1.,  4.,  9.],\n",
       "       [16., 25., 36.],\n",
       "       [49., 64., 81.]])"
      ]
     },
     "execution_count": 42,
     "metadata": {},
     "output_type": "execute_result"
    }
   ],
   "source": [
    "m*m # Elemento a elemento"
   ]
  },
  {
   "cell_type": "code",
   "execution_count": 43,
   "metadata": {},
   "outputs": [
    {
     "data": {
      "text/plain": [
       "array([[ 30.,  36.,  42.],\n",
       "       [ 66.,  81.,  96.],\n",
       "       [102., 126., 150.]])"
      ]
     },
     "execution_count": 43,
     "metadata": {},
     "output_type": "execute_result"
    }
   ],
   "source": [
    "m@m # Multiplicación convencional"
   ]
  },
  {
   "cell_type": "code",
   "execution_count": 45,
   "metadata": {},
   "outputs": [
    {
     "data": {
      "text/plain": [
       "array([0, 0, 0, 0, 0, 0, 0, 0, 0])"
      ]
     },
     "execution_count": 45,
     "metadata": {},
     "output_type": "execute_result"
    }
   ],
   "source": [
    "a = np.array([0]*9)\n",
    "a"
   ]
  },
  {
   "cell_type": "code",
   "execution_count": 47,
   "metadata": {},
   "outputs": [
    {
     "data": {
      "text/plain": [
       "array([[0, 0, 0],\n",
       "       [0, 0, 0],\n",
       "       [0, 0, 0]])"
      ]
     },
     "execution_count": 47,
     "metadata": {},
     "output_type": "execute_result"
    }
   ],
   "source": [
    "a = a.reshape((3,3))\n",
    "a"
   ]
  },
  {
   "cell_type": "code",
   "execution_count": 48,
   "metadata": {},
   "outputs": [
    {
     "data": {
      "text/plain": [
       "array([0., 0., 0., 0., 0., 0., 0., 0., 0.])"
      ]
     },
     "execution_count": 48,
     "metadata": {},
     "output_type": "execute_result"
    }
   ],
   "source": [
    "np.zeros(9)"
   ]
  },
  {
   "cell_type": "code",
   "execution_count": 50,
   "metadata": {},
   "outputs": [
    {
     "data": {
      "text/plain": [
       "array([[0., 0., 0.],\n",
       "       [0., 0., 0.],\n",
       "       [0., 0., 0.]])"
      ]
     },
     "execution_count": 50,
     "metadata": {},
     "output_type": "execute_result"
    }
   ],
   "source": [
    "np.zeros((3,3))"
   ]
  },
  {
   "cell_type": "code",
   "execution_count": 51,
   "metadata": {},
   "outputs": [
    {
     "data": {
      "text/plain": [
       "array([1., 1., 1., 1., 1., 1., 1., 1., 1.])"
      ]
     },
     "execution_count": 51,
     "metadata": {},
     "output_type": "execute_result"
    }
   ],
   "source": [
    "np.ones(9)"
   ]
  },
  {
   "cell_type": "code",
   "execution_count": 53,
   "metadata": {},
   "outputs": [
    {
     "data": {
      "text/plain": [
       "array([[1., 1., 1., 1.],\n",
       "       [1., 1., 1., 1.]])"
      ]
     },
     "execution_count": 53,
     "metadata": {},
     "output_type": "execute_result"
    }
   ],
   "source": [
    "np.ones((2,4))"
   ]
  },
  {
   "cell_type": "code",
   "execution_count": 54,
   "metadata": {},
   "outputs": [
    {
     "data": {
      "text/plain": [
       "array([[12.6416266 , 51.5949602 , 72.50445879, 26.21497653, 92.71440495],\n",
       "       [83.74804979, 50.53000907, 88.60602047, 57.87075725, 82.23964131],\n",
       "       [88.28607408, 29.76742278, 90.2524748 , 90.10555204, 15.40739208]])"
      ]
     },
     "execution_count": 54,
     "metadata": {},
     "output_type": "execute_result"
    }
   ],
   "source": [
    "mr = np.random.random((3,5)) * 100\n",
    "mr"
   ]
  },
  {
   "cell_type": "code",
   "execution_count": 56,
   "metadata": {},
   "outputs": [
    {
     "data": {
      "text/plain": [
       "array([80.89348576, 34.68225205, 41.61303139, 22.67859788, 67.76679912])"
      ]
     },
     "execution_count": 56,
     "metadata": {},
     "output_type": "execute_result"
    }
   ],
   "source": [
    "ar = np.random.rand(5) * 100\n",
    "ar"
   ]
  },
  {
   "cell_type": "code",
   "execution_count": 55,
   "metadata": {},
   "outputs": [
    {
     "data": {
      "text/plain": [
       "np.float64(15.407392082366067)"
      ]
     },
     "execution_count": 55,
     "metadata": {},
     "output_type": "execute_result"
    }
   ],
   "source": [
    "mr[2,4]"
   ]
  },
  {
   "cell_type": "code",
   "execution_count": 57,
   "metadata": {},
   "outputs": [
    {
     "data": {
      "text/plain": [
       "array([83.74804979, 50.53000907, 88.60602047, 57.87075725, 82.23964131])"
      ]
     },
     "execution_count": 57,
     "metadata": {},
     "output_type": "execute_result"
    }
   ],
   "source": [
    "mr[1,:]"
   ]
  },
  {
   "cell_type": "code",
   "execution_count": 58,
   "metadata": {},
   "outputs": [
    {
     "data": {
      "text/plain": [
       "array([26.21497653, 57.87075725, 90.10555204])"
      ]
     },
     "execution_count": 58,
     "metadata": {},
     "output_type": "execute_result"
    }
   ],
   "source": [
    "mr[:,3]"
   ]
  },
  {
   "cell_type": "code",
   "execution_count": 59,
   "metadata": {},
   "outputs": [
    {
     "data": {
      "text/plain": [
       "array([[72.50445879, 26.21497653],\n",
       "       [88.60602047, 57.87075725]])"
      ]
     },
     "execution_count": 59,
     "metadata": {},
     "output_type": "execute_result"
    }
   ],
   "source": [
    "mr[0:2, 2:4]"
   ]
  },
  {
   "cell_type": "code",
   "execution_count": 60,
   "metadata": {},
   "outputs": [
    {
     "data": {
      "text/plain": [
       "array([51.5949602 , 72.50445879, 92.71440495, 83.74804979, 50.53000907,\n",
       "       88.60602047, 57.87075725, 82.23964131, 88.28607408, 90.2524748 ,\n",
       "       90.10555204])"
      ]
     },
     "execution_count": 60,
     "metadata": {},
     "output_type": "execute_result"
    }
   ],
   "source": [
    "mr[mr>40]"
   ]
  },
  {
   "cell_type": "code",
   "execution_count": 61,
   "metadata": {},
   "outputs": [
    {
     "data": {
      "text/plain": [
       "array([[False,  True,  True, False,  True],\n",
       "       [ True,  True,  True,  True,  True],\n",
       "       [ True, False,  True,  True, False]])"
      ]
     },
     "execution_count": 61,
     "metadata": {},
     "output_type": "execute_result"
    }
   ],
   "source": [
    "mr>40"
   ]
  },
  {
   "cell_type": "code",
   "execution_count": 62,
   "metadata": {},
   "outputs": [
    {
     "data": {
      "text/plain": [
       "np.float64(932.4838207593182)"
      ]
     },
     "execution_count": 62,
     "metadata": {},
     "output_type": "execute_result"
    }
   ],
   "source": [
    "mr.sum()"
   ]
  },
  {
   "cell_type": "code",
   "execution_count": 63,
   "metadata": {},
   "outputs": [
    {
     "data": {
      "text/plain": [
       "array([255.67042707, 362.9944779 , 313.81891579])"
      ]
     },
     "execution_count": 63,
     "metadata": {},
     "output_type": "execute_result"
    }
   ],
   "source": [
    "mr.sum(axis=1) # axis = 1 : filas"
   ]
  },
  {
   "cell_type": "code",
   "execution_count": 64,
   "metadata": {},
   "outputs": [
    {
     "data": {
      "text/plain": [
       "array([184.67575047, 131.89239205, 251.36295407, 174.19128583,\n",
       "       190.36143835])"
      ]
     },
     "execution_count": 64,
     "metadata": {},
     "output_type": "execute_result"
    }
   ],
   "source": [
    "mr.sum(axis=0) # axis = 0 : columnas"
   ]
  },
  {
   "cell_type": "code",
   "execution_count": 66,
   "metadata": {},
   "outputs": [
    {
     "data": {
      "text/plain": [
       "array([0, 1, 2, 3, 4, 5, 6, 7, 8, 9])"
      ]
     },
     "execution_count": 66,
     "metadata": {},
     "output_type": "execute_result"
    }
   ],
   "source": [
    "a = np.arange(10)\n",
    "a"
   ]
  },
  {
   "cell_type": "code",
   "execution_count": 68,
   "metadata": {},
   "outputs": [
    {
     "data": {
      "text/plain": [
       "array([[0, 1],\n",
       "       [2, 3],\n",
       "       [4, 5],\n",
       "       [6, 7],\n",
       "       [8, 9]])"
      ]
     },
     "execution_count": 68,
     "metadata": {},
     "output_type": "execute_result"
    }
   ],
   "source": [
    "a2 = a.reshape((5,2)) # Se guarda en otra variable\n",
    "a2"
   ]
  },
  {
   "cell_type": "code",
   "execution_count": 69,
   "metadata": {},
   "outputs": [
    {
     "data": {
      "text/plain": [
       "array([0, 1, 2, 3, 4, 5, 6, 7, 8, 9])"
      ]
     },
     "execution_count": 69,
     "metadata": {},
     "output_type": "execute_result"
    }
   ],
   "source": [
    "a"
   ]
  },
  {
   "cell_type": "code",
   "execution_count": 70,
   "metadata": {},
   "outputs": [],
   "source": [
    "a.resize(2,5) # Se modifica el arreglo original"
   ]
  },
  {
   "cell_type": "code",
   "execution_count": 71,
   "metadata": {},
   "outputs": [
    {
     "data": {
      "text/plain": [
       "array([[0, 1, 2, 3, 4],\n",
       "       [5, 6, 7, 8, 9]])"
      ]
     },
     "execution_count": 71,
     "metadata": {},
     "output_type": "execute_result"
    }
   ],
   "source": [
    "a"
   ]
  },
  {
   "cell_type": "code",
   "execution_count": 75,
   "metadata": {},
   "outputs": [
    {
     "name": "stdout",
     "output_type": "stream",
     "text": [
      "(2,)\n",
      "(3, 2)\n"
     ]
    }
   ],
   "source": [
    "v = np.array((3,5))\n",
    "m = np.array(((1,2,3),(4,5,6))).T\n",
    "print(v.shape)\n",
    "print(m.shape)"
   ]
  },
  {
   "cell_type": "code",
   "execution_count": 78,
   "metadata": {},
   "outputs": [
    {
     "data": {
      "text/plain": [
       "array([[ 3, 20],\n",
       "       [ 6, 25],\n",
       "       [ 9, 30]])"
      ]
     },
     "execution_count": 78,
     "metadata": {},
     "output_type": "execute_result"
    }
   ],
   "source": [
    "v*m"
   ]
  },
  {
   "cell_type": "code",
   "execution_count": 77,
   "metadata": {},
   "outputs": [
    {
     "data": {
      "text/plain": [
       "array([23, 31, 39])"
      ]
     },
     "execution_count": 77,
     "metadata": {},
     "output_type": "execute_result"
    }
   ],
   "source": [
    "m@v"
   ]
  },
  {
   "cell_type": "markdown",
   "metadata": {},
   "source": [
    "# Matplotlib"
   ]
  },
  {
   "cell_type": "code",
   "execution_count": 79,
   "metadata": {},
   "outputs": [],
   "source": [
    "import matplotlib.pyplot as plt"
   ]
  },
  {
   "cell_type": "code",
   "execution_count": 82,
   "metadata": {},
   "outputs": [
    {
     "data": {
      "text/plain": [
       "[<matplotlib.lines.Line2D at 0x213847f8bc0>]"
      ]
     },
     "execution_count": 82,
     "metadata": {},
     "output_type": "execute_result"
    },
    {
     "data": {
      "image/png": "[encoded data removed]",
      "text/plain": [
       "<Figure size 640x480 with 1 Axes>"
      ]
     },
     "metadata": {},
     "output_type": "display_data"
    }
   ],
   "source": [
    "x = np.linspace(-5,5,10)\n",
    "y = np.cos(x)\n",
    "plt.plot(x,y)"
   ]
  },
  {
   "cell_type": "code",
   "execution_count": 89,
   "metadata": {},
   "outputs": [
    {
     "data": {
      "text/plain": [
       "[<matplotlib.lines.Line2D at 0x21386caa390>]"
      ]
     },
     "execution_count": 89,
     "metadata": {},
     "output_type": "execute_result"
    },
    {
     "data": {
      "image/png": "[encoded data removed]",
      "text/plain": [
       "<Figure size 640x480 with 1 Axes>"
      ]
     },
     "metadata": {},
     "output_type": "display_data"
    }
   ],
   "source": [
    "x = np.linspace(-5,5,50)\n",
    "y = np.cos(x)\n",
    "plt.plot(x,y,'r*', linestyle='solid', markersize=10)"
   ]
  }
 ],
 "metadata": {
  "kernelspec": {
   "display_name": "Python 3",
   "language": "python",
   "name": "python3"
  },
  "language_info": {
   "codemirror_mode": {
    "name": "ipython",
    "version": 3
   },
   "file_extension": ".py",
   "mimetype": "text/x-python",
   "name": "python",
   "nbconvert_exporter": "python",
   "pygments_lexer": "ipython3",
   "version": "3.12.4"
  }
 },
 "nbformat": 4,
 "nbformat_minor": 2
}
