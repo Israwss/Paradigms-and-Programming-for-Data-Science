{
  "cells": [
    {
      "cell_type": "markdown",
      "metadata": {
        "id": "J-MnlszmVtOt"
      },
      "source": [
        "# Programacion orientada a obejetos"
      ]
    },
    {
      "cell_type": "code",
      "execution_count": null,
      "metadata": {
        "id": "0rLhRI6FVG93"
      },
      "outputs": [],
      "source": [
        "class mi_clase(object):\n",
        "    '''Clase de ejemplo'''\n",
        "    pass"
      ]
    },
    {
      "cell_type": "code",
      "execution_count": null,
      "metadata": {
        "colab": {
          "base_uri": "https://localhost:8080/"
        },
        "id": "EMza_bH5Vqdx",
        "outputId": "aacbf71c-e7f5-4cc3-f0ef-c8b7dd2e5268"
      },
      "outputs": [
        {
          "data": {
            "text/plain": [
              "__main__.mi_clase"
            ]
          },
          "execution_count": 4,
          "metadata": {},
          "output_type": "execute_result"
        }
      ],
      "source": [
        "objeto=mi_clase()\n",
        "type(objeto)"
      ]
    },
    {
      "cell_type": "code",
      "execution_count": null,
      "metadata": {
        "colab": {
          "base_uri": "https://localhost:8080/"
        },
        "id": "AvPuFkrAVql5",
        "outputId": "79ebc085-2e41-4d8b-f8c7-619f283dcf97"
      },
      "outputs": [
        {
          "name": "stdout",
          "output_type": "stream",
          "text": [
            "<__main__.mi_clase object at 0x7b41b1fdb2e0>\n"
          ]
        }
      ],
      "source": [
        "print(objeto)"
      ]
    },
    {
      "cell_type": "code",
      "execution_count": null,
      "metadata": {
        "colab": {
          "base_uri": "https://localhost:8080/"
        },
        "id": "DlKKZ0_VVqpr",
        "outputId": "e28f7996-8a77-454e-8440-a42b360aac09"
      },
      "outputs": [
        {
          "name": "stdout",
          "output_type": "stream",
          "text": [
            "Help on class object in module builtins:\n",
            "\n",
            "class object\n",
            " |  The base class of the class hierarchy.\n",
            " |  \n",
            " |  When called, it accepts no arguments and returns a new featureless\n",
            " |  instance that has no instance attributes and cannot be given any.\n",
            " |  \n",
            " |  Built-in subclasses:\n",
            " |      anext_awaitable\n",
            " |      async_generator\n",
            " |      async_generator_asend\n",
            " |      async_generator_athrow\n",
            " |      ... and 92 other subclasses\n",
            " |  \n",
            " |  Methods defined here:\n",
            " |  \n",
            " |  __delattr__(self, name, /)\n",
            " |      Implement delattr(self, name).\n",
            " |  \n",
            " |  __dir__(self, /)\n",
            " |      Default dir() implementation.\n",
            " |  \n",
            " |  __eq__(self, value, /)\n",
            " |      Return self==value.\n",
            " |  \n",
            " |  __format__(self, format_spec, /)\n",
            " |      Default object formatter.\n",
            " |  \n",
            " |  __ge__(self, value, /)\n",
            " |      Return self>=value.\n",
            " |  \n",
            " |  __getattribute__(self, name, /)\n",
            " |      Return getattr(self, name).\n",
            " |  \n",
            " |  __gt__(self, value, /)\n",
            " |      Return self>value.\n",
            " |  \n",
            " |  __hash__(self, /)\n",
            " |      Return hash(self).\n",
            " |  \n",
            " |  __init__(self, /, *args, **kwargs)\n",
            " |      Initialize self.  See help(type(self)) for accurate signature.\n",
            " |  \n",
            " |  __le__(self, value, /)\n",
            " |      Return self<=value.\n",
            " |  \n",
            " |  __lt__(self, value, /)\n",
            " |      Return self<value.\n",
            " |  \n",
            " |  __ne__(self, value, /)\n",
            " |      Return self!=value.\n",
            " |  \n",
            " |  __reduce__(self, /)\n",
            " |      Helper for pickle.\n",
            " |  \n",
            " |  __reduce_ex__(self, protocol, /)\n",
            " |      Helper for pickle.\n",
            " |  \n",
            " |  __repr__(self, /)\n",
            " |      Return repr(self).\n",
            " |  \n",
            " |  __setattr__(self, name, value, /)\n",
            " |      Implement setattr(self, name, value).\n",
            " |  \n",
            " |  __sizeof__(self, /)\n",
            " |      Size of object in memory, in bytes.\n",
            " |  \n",
            " |  __str__(self, /)\n",
            " |      Return str(self).\n",
            " |  \n",
            " |  ----------------------------------------------------------------------\n",
            " |  Class methods defined here:\n",
            " |  \n",
            " |  __init_subclass__(...) from builtins.type\n",
            " |      This method is called when a class is subclassed.\n",
            " |      \n",
            " |      The default implementation does nothing. It may be\n",
            " |      overridden to extend subclasses.\n",
            " |  \n",
            " |  __subclasshook__(...) from builtins.type\n",
            " |      Abstract classes can override this to customize issubclass().\n",
            " |      \n",
            " |      This is invoked early on by abc.ABCMeta.__subclasscheck__().\n",
            " |      It should return True, False or NotImplemented.  If it returns\n",
            " |      NotImplemented, the normal algorithm is used.  Otherwise, it\n",
            " |      overrides the normal algorithm (and the outcome is cached).\n",
            " |  \n",
            " |  ----------------------------------------------------------------------\n",
            " |  Static methods defined here:\n",
            " |  \n",
            " |  __new__(*args, **kwargs) from builtins.type\n",
            " |      Create and return a new object.  See help(type) for accurate signature.\n",
            " |  \n",
            " |  ----------------------------------------------------------------------\n",
            " |  Data and other attributes defined here:\n",
            " |  \n",
            " |  __class__ = <class 'type'>\n",
            " |      type(object) -> the object's type\n",
            " |      type(name, bases, dict, **kwds) -> a new type\n",
            "\n"
          ]
        }
      ],
      "source": [
        "help(object)"
      ]
    },
    {
      "cell_type": "code",
      "execution_count": null,
      "metadata": {
        "id": "SapRin-zVqsg"
      },
      "outputs": [],
      "source": [
        "class circulo():\n",
        "    pi=3.14 #atributo de clase\n",
        "    def __init__(self,radio=1):  #metodo constructor\n",
        "        self.radio=radio"
      ]
    },
    {
      "cell_type": "code",
      "execution_count": null,
      "metadata": {
        "colab": {
          "base_uri": "https://localhost:8080/"
        },
        "id": "FbniUoITVrF7",
        "outputId": "894ad070-1cb0-43d4-ea8a-01b44e684b05"
      },
      "outputs": [
        {
          "name": "stdout",
          "output_type": "stream",
          "text": [
            "1\n",
            "5\n"
          ]
        }
      ],
      "source": [
        "c1=circulo()\n",
        "c2=circulo(5)\n",
        "print(c1.radio)\n",
        "print(c2.radio)"
      ]
    },
    {
      "cell_type": "code",
      "execution_count": null,
      "metadata": {
        "colab": {
          "base_uri": "https://localhost:8080/"
        },
        "id": "dUWNzOrGYFvb",
        "outputId": "9d500bb4-4be5-4f79-b4ef-aa705607a8d5"
      },
      "outputs": [
        {
          "name": "stdout",
          "output_type": "stream",
          "text": [
            "atributo nuevo\n"
          ]
        }
      ],
      "source": [
        "c1.nuevo='atributo nuevo' #crear atributo nuevo\n",
        "print(c1.nuevo)"
      ]
    },
    {
      "cell_type": "code",
      "execution_count": null,
      "metadata": {
        "colab": {
          "base_uri": "https://localhost:8080/"
        },
        "id": "xkgYPDaBZdul",
        "outputId": "755c7729-f1fe-4041-e177-f891f8ecb653"
      },
      "outputs": [
        {
          "data": {
            "text/plain": [
              "3.14"
            ]
          },
          "execution_count": 14,
          "metadata": {},
          "output_type": "execute_result"
        }
      ],
      "source": [
        "c1.pi\n",
        "c2.pi"
      ]
    },
    {
      "cell_type": "code",
      "execution_count": null,
      "metadata": {
        "colab": {
          "base_uri": "https://localhost:8080/"
        },
        "id": "qoajdQfjaEvT",
        "outputId": "c7283052-7b03-495b-9294-e44285fa2481"
      },
      "outputs": [
        {
          "data": {
            "text/plain": [
              "3.14159"
            ]
          },
          "execution_count": 15,
          "metadata": {},
          "output_type": "execute_result"
        }
      ],
      "source": [
        "c1.pi=3.14159 #crea atributo en tiempo de ejecucion\n",
        "c1.pi"
      ]
    },
    {
      "cell_type": "code",
      "execution_count": null,
      "metadata": {
        "colab": {
          "base_uri": "https://localhost:8080/"
        },
        "id": "zaFM69TFaG4a",
        "outputId": "5f6335a1-023e-4b1a-996c-6567e6f2ebbb"
      },
      "outputs": [
        {
          "data": {
            "text/plain": [
              "3.14"
            ]
          },
          "execution_count": 16,
          "metadata": {},
          "output_type": "execute_result"
        }
      ],
      "source": [
        "c2.pi"
      ]
    },
    {
      "cell_type": "code",
      "execution_count": null,
      "metadata": {
        "colab": {
          "base_uri": "https://localhost:8080/"
        },
        "id": "3g88zYqKaJi_",
        "outputId": "fb0621d5-538a-40e3-feee-4d82d6717f0c"
      },
      "outputs": [
        {
          "data": {
            "text/plain": [
              "3.14"
            ]
          },
          "execution_count": 17,
          "metadata": {},
          "output_type": "execute_result"
        }
      ],
      "source": [
        "c1.__class__.pi"
      ]
    },
    {
      "cell_type": "markdown",
      "metadata": {
        "id": "-r_JjI1ocboe"
      },
      "source": [
        "# Metodos"
      ]
    },
    {
      "cell_type": "code",
      "execution_count": null,
      "metadata": {
        "id": "K9Jj--iTaoq4"
      },
      "outputs": [],
      "source": [
        "class circulo_area():\n",
        "    pi=3.14 #atributo de clase\n",
        "    todos_los_circulos=[]\n",
        "    def __init__(self,radio=1):  #metodo constructor\n",
        "        self.radio=radio\n",
        "        self.todos_los_circulos.append(self)\n",
        "    def area(self):\n",
        "        return self.radio*self.radio*circulo_area.pi\n",
        "    @staticmethod\n",
        "    def area_todos():\n",
        "        return sum([c.area() for c in circulo_area.todos_los_circulos])"
      ]
    },
    {
      "cell_type": "code",
      "execution_count": null,
      "metadata": {
        "colab": {
          "base_uri": "https://localhost:8080/"
        },
        "id": "Gk6Vgslucl77",
        "outputId": "0af63e7f-d62f-4581-ca26-86d063bb9979"
      },
      "outputs": [
        {
          "data": {
            "text/plain": [
              "78.5"
            ]
          },
          "execution_count": 37,
          "metadata": {},
          "output_type": "execute_result"
        }
      ],
      "source": [
        "c1=circulo_area(5)\n",
        "c1.area()"
      ]
    },
    {
      "cell_type": "code",
      "execution_count": null,
      "metadata": {
        "colab": {
          "base_uri": "https://localhost:8080/"
        },
        "id": "jke-gwD9dGvp",
        "outputId": "09d14431-3b87-4e6a-acf2-efc813b61ce9"
      },
      "outputs": [
        {
          "data": {
            "text/plain": [
              "3.14"
            ]
          },
          "execution_count": 41,
          "metadata": {},
          "output_type": "execute_result"
        }
      ],
      "source": [
        "c2=circulo_area()\n",
        "c2.area()"
      ]
    },
    {
      "cell_type": "code",
      "execution_count": null,
      "metadata": {
        "colab": {
          "base_uri": "https://localhost:8080/"
        },
        "id": "VgGNdE3qfHi6",
        "outputId": "de7cc3c2-d68f-4121-e3c3-5fcc1e0e6517"
      },
      "outputs": [
        {
          "data": {
            "text/plain": [
              "314.0"
            ]
          },
          "execution_count": 39,
          "metadata": {},
          "output_type": "execute_result"
        }
      ],
      "source": [
        "c3=circulo_area(10)\n",
        "c3.area()"
      ]
    },
    {
      "cell_type": "code",
      "execution_count": null,
      "metadata": {
        "colab": {
          "base_uri": "https://localhost:8080/"
        },
        "id": "2v8rkaS9dJbR",
        "outputId": "5dd1bb21-5aac-4dae-fe9b-78ef8ce71ef5"
      },
      "outputs": [
        {
          "data": {
            "text/plain": [
              "395.64"
            ]
          },
          "execution_count": 40,
          "metadata": {},
          "output_type": "execute_result"
        }
      ],
      "source": [
        "c2.area_todos()"
      ]
    },
    {
      "cell_type": "code",
      "execution_count": null,
      "metadata": {
        "id": "L8WdkyzkfLix"
      },
      "outputs": [],
      "source": [
        "class circulo_area():\n",
        "    pi=3.14 #atributo de clase\n",
        "    todos_los_circulos=[]\n",
        "    def __init__(self,radio=1):  #metodo constructor\n",
        "        self.radio=radio\n",
        "        self.todos_los_circulos.append(self)\n",
        "    def area(self):\n",
        "        return self.radio*self.radio*circulo_area.pi\n",
        "    @classmethod\n",
        "    def area_todos(cls):\n",
        "        return sum([c.area() for c in cls.todos_los_circulos])"
      ]
    },
    {
      "cell_type": "code",
      "execution_count": null,
      "metadata": {
        "colab": {
          "base_uri": "https://localhost:8080/"
        },
        "id": "5IX3ocKSf6b5",
        "outputId": "d4aca6f2-6613-4275-9bbf-6a6a85b27145"
      },
      "outputs": [
        {
          "data": {
            "text/plain": [
              "78.5"
            ]
          },
          "execution_count": 47,
          "metadata": {},
          "output_type": "execute_result"
        }
      ],
      "source": [
        "c1=circulo_area(5)\n",
        "c1.area()"
      ]
    },
    {
      "cell_type": "code",
      "execution_count": null,
      "metadata": {
        "colab": {
          "base_uri": "https://localhost:8080/"
        },
        "id": "BcCymBIuf8HI",
        "outputId": "0a2464e3-bb68-4501-b822-1da3c9305de6"
      },
      "outputs": [
        {
          "data": {
            "text/plain": [
              "3.14"
            ]
          },
          "execution_count": 48,
          "metadata": {},
          "output_type": "execute_result"
        }
      ],
      "source": [
        "c2=circulo_area()\n",
        "c2.area()"
      ]
    },
    {
      "cell_type": "code",
      "execution_count": null,
      "metadata": {
        "colab": {
          "base_uri": "https://localhost:8080/"
        },
        "id": "_5gfgivRf_dZ",
        "outputId": "f1c4a517-422f-4ed5-dd6d-82d22f9f894b"
      },
      "outputs": [
        {
          "data": {
            "text/plain": [
              "81.64"
            ]
          },
          "execution_count": 49,
          "metadata": {},
          "output_type": "execute_result"
        }
      ],
      "source": [
        "c2.area_todos()"
      ]
    },
    {
      "cell_type": "markdown",
      "metadata": {
        "id": "GT7r4c3ahRtg"
      },
      "source": [
        "# Herencia"
      ]
    },
    {
      "cell_type": "code",
      "execution_count": null,
      "metadata": {
        "id": "ElIjcKiKgPAg"
      },
      "outputs": [],
      "source": [
        "class forma(object):\n",
        "    def __init__(self,x,y):\n",
        "        self.x=x\n",
        "        self.y=y\n",
        "    def mover(self,dx,dy):\n",
        "        self.x+=dx\n",
        "        self.y+=dy\n",
        "\n",
        "class cuadrado(forma):\n",
        "    def __init__(self,lado=1,x=0,y=0):\n",
        "        super().__init__(x,y)\n",
        "        self.lado=lado\n",
        "\n",
        "\n",
        "class circulo(forma):\n",
        "    def __init__(self,radio=1,x=0,y=0):\n",
        "        super().__init__(x,y)\n",
        "        self.radio=radio\n"
      ]
    },
    {
      "cell_type": "code",
      "execution_count": null,
      "metadata": {
        "colab": {
          "base_uri": "https://localhost:8080/"
        },
        "id": "wyCdBPxMifG_",
        "outputId": "849fb828-ef17-4fef-9c2b-7dddc6f00d32"
      },
      "outputs": [
        {
          "name": "stdout",
          "output_type": "stream",
          "text": [
            "11 2 2\n",
            "12 3 2\n"
          ]
        }
      ],
      "source": [
        "cu1=cuadrado(2,11,2)\n",
        "print(cu1.x,cu1.y,cu1.lado)\n",
        "cu1.mover(1,1)\n",
        "print(cu1.x,cu1.y,cu1.lado)\n"
      ]
    }
  ],
  "metadata": {
    "colab": {
      "provenance": []
    },
    "kernelspec": {
      "display_name": "Python 3",
      "name": "python3"
    },
    "language_info": {
      "name": "python"
    }
  },
  "nbformat": 4,
  "nbformat_minor": 0
}
