{
  "cells": [
    {
      "cell_type": "markdown",
      "metadata": {},
      "source": [
        "## Shortcuts\n",
        "alt+&uarr |&darr ---Subir, bajar linea de codigo\n",
        "alt+shift +&uarr |&darr --Duplicar linea\n",
        "control +k+c ---Comentar lineas\n",
        "control + shift +k --borrar linea entera\n",
        "control +shift +l --modificar mismas palabras\n"
      ]
    },
    {
      "cell_type": "markdown",
      "metadata": {
        "id": "ZAvuJUgjkSOT"
      },
      "source": [
        "# Decimal a binario"
      ]
    },
    {
      "cell_type": "code",
      "execution_count": null,
      "metadata": {
        "colab": {
          "base_uri": "https://localhost:8080/"
        },
        "id": "YC93SaHfjKDR",
        "outputId": "e35bef2b-b34a-4bdc-970d-7b6800e5228c"
      },
      "outputs": [
        {
          "name": "stdout",
          "output_type": "stream",
          "text": [
            "[1, 1, 0, 0, 1]\n",
            "[1, 1, 0, 0, 1, 0]\n"
          ]
        }
      ],
      "source": [
        "def dc2bin(num=0):\n",
        "  res=[]\n",
        "  while num>0:\n",
        "    res.append(num%2)\n",
        "    num=num//2\n",
        "  res.reverse()\n",
        "  return res\n",
        "print('holamuno')\n",
        "\n",
        "print(dc2bin(25))\n",
        "print(dc2bin(50))"
      ]
    },
    {
      "cell_type": "markdown",
      "metadata": {
        "id": "QFCijI99k6hm"
      },
      "source": [
        "# A cualquier base"
      ]
    },
    {
      "cell_type": "code",
      "execution_count": null,
      "metadata": {
        "colab": {
          "base_uri": "https://localhost:8080/"
        },
        "id": "0Bfupp6WkH08",
        "outputId": "aeb6343a-a045-4d38-de27-72cbd44d990c"
      },
      "outputs": [
        {
          "name": "stdout",
          "output_type": "stream",
          "text": [
            "[1, 0]\n",
            "[2, 0]\n"
          ]
        }
      ],
      "source": [
        "def dc2base(num=0,base=2):\n",
        "  res=[]\n",
        "  while num>0:\n",
        "    res.append(num%base)\n",
        "    num=num//base\n",
        "  res.reverse()\n",
        "  return res\n",
        "\n",
        "print(dc2base(25,25))\n",
        "print(dc2base(50,25))"
      ]
    },
    {
      "cell_type": "markdown",
      "metadata": {
        "id": "CuzfLmRTlDgI"
      },
      "source": [
        "# Tarea algoritmo de cualquier base a decimal"
      ]
    },
    {
      "cell_type": "code",
      "execution_count": null,
      "metadata": {
        "colab": {
          "base_uri": "https://localhost:8080/"
        },
        "id": "ZhE1MQXvlCIL",
        "outputId": "bdab3518-286d-480d-9152-26f02c427826"
      },
      "outputs": [
        {
          "name": "stdout",
          "output_type": "stream",
          "text": [
            "21\n",
            "2\n"
          ]
        }
      ],
      "source": [
        "def bse2dc(num=[],base=2):\n",
        "  res=0\n",
        "  for i in range(len(num)):\n",
        "    res+=num[i]*(base**i)\n",
        "  return res\n",
        "\n",
        "\n",
        "print(bse2dc([1,0,1,0,1],2))\n",
        "print(bse2dc([2,0],25))"
      ]
    },
    {
      "cell_type": "markdown",
      "metadata": {
        "id": "RD9mA-FdmZuc"
      },
      "source": [
        "# CLASE"
      ]
    },
    {
      "cell_type": "code",
      "execution_count": null,
      "metadata": {
        "colab": {
          "base_uri": "https://localhost:8080/"
        },
        "id": "ygbHO8K4mCuh",
        "outputId": "ad6b5427-c5a9-48e1-9d54-510eb6fc83b9"
      },
      "outputs": [
        {
          "name": "stdout",
          "output_type": "stream",
          "text": [
            "[[1, 2], [1, 6], [5, 2], [8, 3]]\n"
          ]
        }
      ],
      "source": [
        "x=[[8,3],[1,6],[5,2],[1,2]] #lista de listas\n",
        "x.sort()\n",
        "print(x)\n"
      ]
    },
    {
      "cell_type": "code",
      "execution_count": null,
      "metadata": {
        "colab": {
          "base_uri": "https://localhost:8080/",
          "height": 176
        },
        "id": "COEqURAcmX9K",
        "outputId": "393cdb88-d2c0-4837-85ea-a22eddc38443"
      },
      "outputs": [
        {
          "ename": "TypeError",
          "evalue": "'<' not supported between instances of 'complex' and 'complex'",
          "output_type": "error",
          "traceback": [
            "\u001b[0;31m---------------------------------------------------------------------------\u001b[0m",
            "\u001b[0;31mTypeError\u001b[0m                                 Traceback (most recent call last)",
            "\u001b[0;32m<ipython-input-22-460312672f78>\u001b[0m in \u001b[0;36m<cell line: 2>\u001b[0;34m()\u001b[0m\n\u001b[1;32m      1\u001b[0m \u001b[0mx\u001b[0m\u001b[0;34m=\u001b[0m\u001b[0;34m[\u001b[0m\u001b[0;36m9\u001b[0m\u001b[0;34m+\u001b[0m\u001b[0;36m2j\u001b[0m\u001b[0;34m,\u001b[0m\u001b[0;36m1\u001b[0m\u001b[0;34m+\u001b[0m\u001b[0;36m6j\u001b[0m\u001b[0;34m,\u001b[0m\u001b[0;36m1\u001b[0m\u001b[0;34m+\u001b[0m\u001b[0;36m2j\u001b[0m\u001b[0;34m]\u001b[0m \u001b[0;31m#lista de listas\u001b[0m\u001b[0;34m\u001b[0m\u001b[0;34m\u001b[0m\u001b[0m\n\u001b[0;32m----> 2\u001b[0;31m \u001b[0mx\u001b[0m\u001b[0;34m.\u001b[0m\u001b[0msort\u001b[0m\u001b[0;34m(\u001b[0m\u001b[0;34m)\u001b[0m\u001b[0;34m\u001b[0m\u001b[0;34m\u001b[0m\u001b[0m\n\u001b[0m\u001b[1;32m      3\u001b[0m \u001b[0mprint\u001b[0m\u001b[0;34m(\u001b[0m\u001b[0mx\u001b[0m\u001b[0;34m)\u001b[0m\u001b[0;34m\u001b[0m\u001b[0;34m\u001b[0m\u001b[0m\n",
            "\u001b[0;31mTypeError\u001b[0m: '<' not supported between instances of 'complex' and 'complex'"
          ]
        }
      ],
      "source": [
        "x=[9+2j,1+6j,1+2j] #No se pueden ordenar los complejos\n",
        "x.sort()\n",
        "print(x)"
      ]
    },
    {
      "cell_type": "code",
      "execution_count": 1,
      "metadata": {
        "id": "dJEJpODvpSqO"
      },
      "outputs": [
        {
          "data": {
            "text/plain": [
              "True"
            ]
          },
          "execution_count": 1,
          "metadata": {},
          "output_type": "execute_result"
        }
      ],
      "source": [
        "x=[8,3,1,6,5,2,1,2]\n",
        "3 in x\n",
        "7 not in x"
      ]
    },
    {
      "cell_type": "code",
      "execution_count": null,
      "metadata": {
        "colab": {
          "base_uri": "https://localhost:8080/"
        },
        "id": "ZfSfSyMPpL2k",
        "outputId": "2a433893-4988-4a93-bf2d-ae5ea580d20a"
      },
      "outputs": [
        {
          "name": "stdout",
          "output_type": "stream",
          "text": [
            "[0, 0, 0, 0, 0, 0, 0, 0, 0, 0, 0, 0, 0, 0, 0, 0, 0, 0, 0, 0, 0, 0, 0, 0, 0, 0, 0, 0, 0, 0, 0, 0, 0, 0, 0, 0, 0, 0, 0, 0, 0, 0, 0, 0, 0, 0, 0, 0, 0, 0, 0, 0, 0, 0, 0, 0, 0, 0, 0, 0, 0, 0, 0, 0, 0, 0, 0, 0, 0, 0, 0, 0, 0, 0, 0, 0, 0, 0, 0, 0, 0, 0, 0, 0, 0, 0, 0, 0, 0, 0, 0, 0, 0, 0, 0, 0, 0, 0, 0, 0, 0]\n"
          ]
        }
      ],
      "source": [
        "x=[0]+100*[0]\n",
        "print(x)"
      ]
    },
    {
      "cell_type": "code",
      "execution_count": null,
      "metadata": {
        "colab": {
          "base_uri": "https://localhost:8080/"
        },
        "id": "OFfHtSbIpqv_",
        "outputId": "54cca347-d950-4432-ae4c-dba9b2ff3c07"
      },
      "outputs": [
        {
          "name": "stdout",
          "output_type": "stream",
          "text": [
            "[5, 6, 7, 2, 9, 7, 8, 2]\n",
            "[5, 6, 7, 2, 9, 7, 8, 2, 7, 8, 2]\n"
          ]
        }
      ],
      "source": [
        "x=[5,6,7,2,9]\n",
        "y=[7,8,2]\n",
        "x.extend(y)\n",
        "print(x)\n",
        "print(x+y)"
      ]
    },
    {
      "cell_type": "code",
      "execution_count": 5,
      "metadata": {
        "colab": {
          "base_uri": "https://localhost:8080/"
        },
        "id": "ncsTHKuOqClW",
        "outputId": "8a3f1309-a0f2-43a3-c681-71c123f58eef"
      },
      "outputs": [
        {
          "data": {
            "text/plain": [
              "7"
            ]
          },
          "execution_count": 5,
          "metadata": {},
          "output_type": "execute_result"
        }
      ],
      "source": [
        "x=[5,6,7,2,9,7,8,2,1]\n",
        "x.index(2)\n",
        "x.index(2,4)\n"
      ]
    },
    {
      "cell_type": "code",
      "execution_count": null,
      "metadata": {
        "colab": {
          "base_uri": "https://localhost:8080/"
        },
        "id": "aRSVTheHqp9W",
        "outputId": "75bb2b1e-deac-4c88-b23a-0f5784220e70"
      },
      "outputs": [
        {
          "data": {
            "text/plain": [
              "1"
            ]
          },
          "execution_count": 35,
          "metadata": {},
          "output_type": "execute_result"
        }
      ],
      "source": [
        "x.count(2)\n",
        "x.count(1)"
      ]
    },
    {
      "cell_type": "code",
      "execution_count": null,
      "metadata": {
        "colab": {
          "base_uri": "https://localhost:8080/"
        },
        "id": "je-uSdASrEUy",
        "outputId": "73b7564a-890f-4f71-f054-a0b6d6c0c291"
      },
      "outputs": [
        {
          "name": "stdout",
          "output_type": "stream",
          "text": [
            "[5, 6, 7, 2, 9, 7, 8, 2]\n"
          ]
        }
      ],
      "source": [
        "x.pop()\n",
        "print(x)"
      ]
    },
    {
      "cell_type": "code",
      "execution_count": null,
      "metadata": {
        "colab": {
          "base_uri": "https://localhost:8080/"
        },
        "id": "sZFlwfOlrSdR",
        "outputId": "da8e4d5a-f0b1-45f5-daa7-fec1e516f9c0"
      },
      "outputs": [
        {
          "name": "stdout",
          "output_type": "stream",
          "text": [
            "[5, 6, 7, 9, 7, 8, 2]\n"
          ]
        }
      ],
      "source": [
        "x.pop(3)\n",
        "print(x)"
      ]
    },
    {
      "cell_type": "markdown",
      "metadata": {
        "id": "DeGPA-nKrdT-"
      },
      "source": [
        "# Tuplas"
      ]
    },
    {
      "cell_type": "code",
      "execution_count": null,
      "metadata": {
        "colab": {
          "base_uri": "https://localhost:8080/"
        },
        "id": "ztjLkvYIrbs1",
        "outputId": "8390b9ac-c401-4ffa-cbd1-3dcc723ba89f"
      },
      "outputs": [
        {
          "name": "stdout",
          "output_type": "stream",
          "text": [
            "<class 'tuple'>\n"
          ]
        }
      ],
      "source": [
        "x=(1,2,3)\n",
        "print(type(x))"
      ]
    },
    {
      "cell_type": "code",
      "execution_count": null,
      "metadata": {
        "colab": {
          "base_uri": "https://localhost:8080/"
        },
        "id": "D9yFfWMxruDD",
        "outputId": "9bd7029e-9184-40b0-dda8-ff4e02feb180"
      },
      "outputs": [
        {
          "data": {
            "text/plain": [
              "1"
            ]
          },
          "execution_count": 40,
          "metadata": {},
          "output_type": "execute_result"
        }
      ],
      "source": [
        "min(x)"
      ]
    },
    {
      "cell_type": "code",
      "execution_count": null,
      "metadata": {
        "colab": {
          "base_uri": "https://localhost:8080/"
        },
        "id": "Cbfxk5Uwr2Vj",
        "outputId": "b131169d-1b12-492d-fef4-8edcc82b61e4"
      },
      "outputs": [
        {
          "data": {
            "text/plain": [
              "False"
            ]
          },
          "execution_count": 41,
          "metadata": {},
          "output_type": "execute_result"
        }
      ],
      "source": [
        "8 in x"
      ]
    },
    {
      "cell_type": "code",
      "execution_count": null,
      "metadata": {
        "colab": {
          "base_uri": "https://localhost:8080/"
        },
        "id": "tK-5_xZqr536",
        "outputId": "2c3fd930-9f1e-4e3f-bb11-b39da7e5cab3"
      },
      "outputs": [
        {
          "name": "stdout",
          "output_type": "stream",
          "text": [
            "<class 'tuple'>\n",
            "('a', 'a', 'a', 'a', 'a')\n"
          ]
        }
      ],
      "source": [
        "y=('a',)*5\n",
        "\n",
        "print(type(y))\n",
        "print(y)"
      ]
    },
    {
      "cell_type": "code",
      "execution_count": null,
      "metadata": {
        "colab": {
          "base_uri": "https://localhost:8080/"
        },
        "id": "grrqkz26skp_",
        "outputId": "4fd90f8f-0da1-4340-c680-ca0b468abc5f"
      },
      "outputs": [
        {
          "name": "stdout",
          "output_type": "stream",
          "text": [
            "<class 'list'>\n",
            "[1, 2, 3]\n"
          ]
        }
      ],
      "source": [
        "x=list((1,2,3))\n",
        "print(type(x))\n",
        "print(x)"
      ]
    },
    {
      "cell_type": "code",
      "execution_count": null,
      "metadata": {
        "colab": {
          "base_uri": "https://localhost:8080/"
        },
        "id": "3t9rBz3GtH2E",
        "outputId": "f11b6ec6-47ef-4fd5-97e3-72d5f64b13c9"
      },
      "outputs": [
        {
          "name": "stdout",
          "output_type": "stream",
          "text": [
            "<class 'tuple'>\n",
            "(1, 2, 3)\n"
          ]
        }
      ],
      "source": [
        "x=tuple([1,2,3])\n",
        "print(type(x))\n",
        "print(x)"
      ]
    },
    {
      "cell_type": "markdown",
      "metadata": {
        "id": "Xy9Jja3otW4I"
      },
      "source": [
        "# Cadenas"
      ]
    },
    {
      "cell_type": "code",
      "execution_count": null,
      "metadata": {
        "colab": {
          "base_uri": "https://localhost:8080/"
        },
        "id": "nMQc4AN4tJ36",
        "outputId": "d9da1f60-62fe-46aa-92ef-b9f2358ad37a"
      },
      "outputs": [
        {
          "name": "stdout",
          "output_type": "stream",
          "text": [
            "HolaMundo\n"
          ]
        },
        {
          "data": {
            "text/plain": [
              "str"
            ]
          },
          "execution_count": 48,
          "metadata": {},
          "output_type": "execute_result"
        }
      ],
      "source": [
        "x='Hola'\n",
        "y='Mundo'\n",
        "print(x+y)\n",
        "type(x)"
      ]
    },
    {
      "cell_type": "code",
      "execution_count": null,
      "metadata": {
        "id": "m4MY6tjjtfrU"
      },
      "outputs": [],
      "source": [
        "x='''Hola Mundo'''"
      ]
    },
    {
      "cell_type": "code",
      "execution_count": null,
      "metadata": {
        "colab": {
          "base_uri": "https://localhost:8080/"
        },
        "id": "pJQikQkwt1aK",
        "outputId": "1c842c7f-56e8-46dd-ede8-43d4a0896630"
      },
      "outputs": [
        {
          "name": "stdout",
          "output_type": "stream",
          "text": [
            "Hola Mundo\n",
            "esta es una documentadcion\n"
          ]
        }
      ],
      "source": [
        "x=\"\"\"Hola Mundo\n",
        "esta es una documentadcion\"\"\"\n",
        "print(x)"
      ]
    },
    {
      "cell_type": "markdown",
      "metadata": {
        "id": "Q9l4lphlt_H5"
      },
      "source": [
        "# Metodos para cadenas\n"
      ]
    },
    {
      "cell_type": "code",
      "execution_count": 6,
      "metadata": {
        "id": "nAbb5LOhuZwp"
      },
      "outputs": [
        {
          "data": {
            "text/plain": [
              "['hola', 'mundo']"
            ]
          },
          "execution_count": 6,
          "metadata": {},
          "output_type": "execute_result"
        }
      ],
      "source": [
        "x='hola mundo'\n",
        "x.split()"
      ]
    },
    {
      "cell_type": "code",
      "execution_count": null,
      "metadata": {
        "colab": {
          "base_uri": "https://localhost:8080/"
        },
        "id": "bbpau3WFubQh",
        "outputId": "6c042ff9-8ca2-4734-ab2d-18e80c51017a"
      },
      "outputs": [
        {
          "data": {
            "text/plain": [
              "['hola', 'mundo', 'hace', 'calor']"
            ]
          },
          "execution_count": 59,
          "metadata": {},
          "output_type": "execute_result"
        }
      ],
      "source": [
        "x='hola,mundo,hace,calor'\n",
        "x.split(',')"
      ]
    },
    {
      "cell_type": "code",
      "execution_count": null,
      "metadata": {
        "colab": {
          "base_uri": "https://localhost:8080/",
          "height": 35
        },
        "id": "w7WPTt1Zui_9",
        "outputId": "31c3afec-c805-435e-b664-70c4046e9c79"
      },
      "outputs": [
        {
          "data": {
            "application/vnd.google.colaboratory.intrinsic+json": {
              "type": "string"
            },
            "text/plain": [
              "'hola,mundo,hace,calor'"
            ]
          },
          "execution_count": 55,
          "metadata": {},
          "output_type": "execute_result"
        }
      ],
      "source": [
        "x"
      ]
    },
    {
      "cell_type": "code",
      "execution_count": null,
      "metadata": {
        "colab": {
          "base_uri": "https://localhost:8080/"
        },
        "id": "SvoGV5RSumcf",
        "outputId": "00390803-af0d-42ce-d910-a5f2794ef422"
      },
      "outputs": [
        {
          "data": {
            "text/plain": [
              "['hola', 'mundo,hace,calor']"
            ]
          },
          "execution_count": 60,
          "metadata": {},
          "output_type": "execute_result"
        }
      ],
      "source": [
        "x.split(',',1)"
      ]
    },
    {
      "cell_type": "code",
      "execution_count": null,
      "metadata": {
        "colab": {
          "base_uri": "https://localhost:8080/"
        },
        "id": "SQm1MrxEulEm",
        "outputId": "72ad27d7-b549-4066-c527-2624a758b753"
      },
      "outputs": [
        {
          "name": "stdout",
          "output_type": "stream",
          "text": [
            "cadena con espacios\n"
          ]
        }
      ],
      "source": [
        "x=\" \".join(['cadena', 'con', 'espacios'])\n",
        "print(x)"
      ]
    },
    {
      "cell_type": "code",
      "execution_count": null,
      "metadata": {
        "colab": {
          "base_uri": "https://localhost:8080/"
        },
        "id": "L2rFnMsTuj2h",
        "outputId": "a47dcb5d-d7f0-474e-b5cc-8c32471c2b37"
      },
      "outputs": [
        {
          "name": "stdout",
          "output_type": "stream",
          "text": [
            "cadena&con&espacios\n"
          ]
        }
      ],
      "source": [
        "x='&'.join(['cadena', 'con', 'espacios'])\n",
        "print(x)"
      ]
    },
    {
      "cell_type": "code",
      "execution_count": null,
      "metadata": {
        "colab": {
          "base_uri": "https://localhost:8080/"
        },
        "id": "EMJW5diAv6bw",
        "outputId": "273d407d-e2ad-4909-ba11-9584e6103f9b"
      },
      "outputs": [
        {
          "data": {
            "text/plain": [
              "123"
            ]
          },
          "execution_count": 65,
          "metadata": {},
          "output_type": "execute_result"
        }
      ],
      "source": [
        "int('123')"
      ]
    },
    {
      "cell_type": "code",
      "execution_count": null,
      "metadata": {
        "colab": {
          "base_uri": "https://localhost:8080/"
        },
        "id": "jpCTW-4rwE0m",
        "outputId": "bb01c8b1-3648-4fa1-d6fb-5472d517590e"
      },
      "outputs": [
        {
          "data": {
            "text/plain": [
              "123.0"
            ]
          },
          "execution_count": 66,
          "metadata": {},
          "output_type": "execute_result"
        }
      ],
      "source": [
        "float('123')"
      ]
    },
    {
      "cell_type": "code",
      "execution_count": null,
      "metadata": {
        "colab": {
          "base_uri": "https://localhost:8080/"
        },
        "id": "zqHjZSkrwLuK",
        "outputId": "513fc88a-ffd4-44db-bfd8-f1a8f69e5794"
      },
      "outputs": [
        {
          "data": {
            "text/plain": [
              "50"
            ]
          },
          "execution_count": 68,
          "metadata": {},
          "output_type": "execute_result"
        }
      ],
      "source": [
        "int('110010',2)"
      ]
    },
    {
      "cell_type": "code",
      "execution_count": null,
      "metadata": {
        "colab": {
          "base_uri": "https://localhost:8080/"
        },
        "id": "WL9J0OmowkNT",
        "outputId": "9f08f581-e41d-4438-d634-4e47363d001e"
      },
      "outputs": [
        {
          "data": {
            "text/plain": [
              "50"
            ]
          },
          "execution_count": 70,
          "metadata": {},
          "output_type": "execute_result"
        }
      ],
      "source": [
        "int('62',8)"
      ]
    },
    {
      "cell_type": "code",
      "execution_count": null,
      "metadata": {
        "colab": {
          "base_uri": "https://localhost:8080/"
        },
        "id": "9Q0AHu2KwqIU",
        "outputId": "642fd51b-3480-4047-f282-09f43b4e8f44"
      },
      "outputs": [
        {
          "data": {
            "text/plain": [
              "2"
            ]
          },
          "execution_count": 71,
          "metadata": {},
          "output_type": "execute_result"
        }
      ],
      "source": [
        "x='ferrocarril'\n",
        "x.find('rr')"
      ]
    },
    {
      "cell_type": "code",
      "execution_count": null,
      "metadata": {
        "colab": {
          "base_uri": "https://localhost:8080/"
        },
        "id": "X17o4dQZw-td",
        "outputId": "689ea163-d1e3-4308-ff62-dd9e606c1732"
      },
      "outputs": [
        {
          "data": {
            "text/plain": [
              "7"
            ]
          },
          "execution_count": 72,
          "metadata": {},
          "output_type": "execute_result"
        }
      ],
      "source": [
        "x.find('rr',3)"
      ]
    },
    {
      "cell_type": "code",
      "execution_count": null,
      "metadata": {
        "colab": {
          "base_uri": "https://localhost:8080/"
        },
        "id": "r6pjaL3SxTsl",
        "outputId": "20b7ff6f-fe54-4bbd-b404-3cb44f5edfa1"
      },
      "outputs": [
        {
          "data": {
            "text/plain": [
              "True"
            ]
          },
          "execution_count": 74,
          "metadata": {},
          "output_type": "execute_result"
        }
      ],
      "source": [
        "x.startswith('fe')"
      ]
    },
    {
      "cell_type": "code",
      "execution_count": null,
      "metadata": {
        "colab": {
          "base_uri": "https://localhost:8080/"
        },
        "id": "EgdNykLkxgAG",
        "outputId": "8b18c92f-750e-411a-b134-da3db20e0035"
      },
      "outputs": [
        {
          "data": {
            "text/plain": [
              "False"
            ]
          },
          "execution_count": 75,
          "metadata": {},
          "output_type": "execute_result"
        }
      ],
      "source": [
        "x.endswith('rr')"
      ]
    },
    {
      "cell_type": "code",
      "execution_count": null,
      "metadata": {
        "colab": {
          "base_uri": "https://localhost:8080/"
        },
        "id": "WDAccAwYxjYd",
        "outputId": "b2d5e66b-16cf-49f8-ff59-3102beaa4ab9"
      },
      "outputs": [
        {
          "data": {
            "text/plain": [
              "True"
            ]
          },
          "execution_count": 77,
          "metadata": {},
          "output_type": "execute_result"
        }
      ],
      "source": [
        "x.endswith(('rr','l'))"
      ]
    },
    {
      "cell_type": "code",
      "execution_count": null,
      "metadata": {
        "colab": {
          "base_uri": "https://localhost:8080/",
          "height": 35
        },
        "id": "O8NQZoklxtsr",
        "outputId": "5d789d65-1ba2-46c9-b28a-7dc15bb113cd"
      },
      "outputs": [
        {
          "data": {
            "application/vnd.google.colaboratory.intrinsic+json": {
              "type": "string"
            },
            "text/plain": [
              "'[1, 2, 3]'"
            ]
          },
          "execution_count": 78,
          "metadata": {},
          "output_type": "execute_result"
        }
      ],
      "source": [
        "repr([1,2,3])"
      ]
    },
    {
      "cell_type": "code",
      "execution_count": null,
      "metadata": {
        "colab": {
          "base_uri": "https://localhost:8080/",
          "height": 35
        },
        "id": "o-FZy28ox_Ho",
        "outputId": "b7ca094d-301f-4adb-e0ac-af823b89fd14"
      },
      "outputs": [
        {
          "data": {
            "application/vnd.google.colaboratory.intrinsic+json": {
              "type": "string"
            },
            "text/plain": [
              "'(1, 2, 3)'"
            ]
          },
          "execution_count": 79,
          "metadata": {},
          "output_type": "execute_result"
        }
      ],
      "source": [
        "repr((1,2,3))"
      ]
    },
    {
      "cell_type": "code",
      "execution_count": null,
      "metadata": {
        "colab": {
          "base_uri": "https://localhost:8080/",
          "height": 35
        },
        "id": "7iWRIA6WyCeI",
        "outputId": "c972dfbe-3b8d-42bb-e1ec-383f7dcdddbf"
      },
      "outputs": [
        {
          "data": {
            "application/vnd.google.colaboratory.intrinsic+json": {
              "type": "string"
            },
            "text/plain": [
              "'[1, 2, 3]'"
            ]
          },
          "execution_count": 80,
          "metadata": {},
          "output_type": "execute_result"
        }
      ],
      "source": [
        "str([1,2,3])  #list to string"
      ]
    },
    {
      "cell_type": "code",
      "execution_count": null,
      "metadata": {
        "colab": {
          "base_uri": "https://localhost:8080/",
          "height": 35
        },
        "id": "XqA79h7_yHE0",
        "outputId": "6e25594b-9567-40c8-8153-294eea8c4e65"
      },
      "outputs": [
        {
          "data": {
            "application/vnd.google.colaboratory.intrinsic+json": {
              "type": "string"
            },
            "text/plain": [
              "'el numero es 15'"
            ]
          },
          "execution_count": 81,
          "metadata": {},
          "output_type": "execute_result"
        }
      ],
      "source": [
        "#Formateo de cadenas\n",
        "\"el numero es %d\" % 15"
      ]
    },
    {
      "cell_type": "code",
      "execution_count": null,
      "metadata": {
        "colab": {
          "base_uri": "https://localhost:8080/"
        },
        "id": "iR6WEPgiybva",
        "outputId": "35390087-c29a-4242-f734-fc55315c21f2"
      },
      "outputs": [
        {
          "name": "stdout",
          "output_type": "stream",
          "text": [
            "el numero es ferrocarril\n"
          ]
        }
      ],
      "source": [
        "print(f'el numero es {x}')"
      ]
    },
    {
      "cell_type": "code",
      "execution_count": null,
      "metadata": {
        "colab": {
          "base_uri": "https://localhost:8080/"
        },
        "id": "1RKksPwuyqIf",
        "outputId": "26d230f7-a2aa-468b-e9e7-abeb6c682469"
      },
      "outputs": [
        {
          "name": "stdout",
          "output_type": "stream",
          "text": [
            "el numero es 15.22\n"
          ]
        }
      ],
      "source": [
        "\n",
        "print(f'el numero es {15.222:.2f}')"
      ]
    }
  ],
  "metadata": {
    "colab": {
      "provenance": []
    },
    "kernelspec": {
      "display_name": "Python 3",
      "name": "python3"
    },
    "language_info": {
      "codemirror_mode": {
        "name": "ipython",
        "version": 3
      },
      "file_extension": ".py",
      "mimetype": "text/x-python",
      "name": "python",
      "nbconvert_exporter": "python",
      "pygments_lexer": "ipython3",
      "version": "3.12.6"
    }
  },
  "nbformat": 4,
  "nbformat_minor": 0
}
