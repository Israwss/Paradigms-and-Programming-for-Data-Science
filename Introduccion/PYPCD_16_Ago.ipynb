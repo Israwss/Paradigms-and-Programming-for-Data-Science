{
 "cells": [
  {
   "cell_type": "markdown",
   "metadata": {
    "id": "IOhJJKy3hGr7"
   },
   "source": [
    "# Clases y programación orientada a objetos\n",
    "\n"
   ]
  },
  {
   "cell_type": "markdown",
   "metadata": {
    "id": "h9hsWxKchjgk"
   },
   "source": [
    "Conceptos fundamentales:\n",
    "\n",
    "\n",
    "*   Objetos o Instancias\n",
    "*   Clases\n",
    "\n",
    "\n",
    " Un **objeto** es una estructura de datos que incorpora información sobre *estado* y *comportamiento*. Por ejemplo, un objeto que representa a un cliente puede tener un determinado número de teléfono y correo electrónico asociados, y comportamientos como `realizarPedido` o `cancelarPedido`.\n",
    "\n",
    "-> El estado y el comportamiento se agrupan: en lugar de pensar en los datos del cliente por separado de las acciones del cliente, pensamos en ellos como una unidad que representa a un cliente. Esto se llama *encapsulación* y es uno de los principios básicos de la programación orientada a objetos.\n",
    "\n",
    "\n",
    "La verdadera fuerza de la programación orientada a objetos proviene de la utilización de clases. Las **clases** son como los planos de los objetos. Describen los posibles estados y comportamientos que puede tener cada objeto de un determinado tipo. Por ejemplo, si quieres que cada cliente tenga un número de teléfono y un correo electrónico, y pueda hacer y cancelar pedidos, se tiene una clase. De esta forma, podrías referirte a los clientes de forma unificada.\n",
    "\n",
    "Una clase es una plantilla abstracta, mientras que un objeto es una representación concreta de una clase.\n",
    "\n",
    "\"Todos los tipos de datos nativos en Python son clases, y\n",
    "Python ofrece herramientas para manipular todos los aspectos del comportamiento de clases.\"\n",
    "\n",
    "![Captura de pantalla 2024-08-15 192708.png](data:image/png;base64,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)"
   ]
  },
  {
   "cell_type": "code",
   "execution_count": 1,
   "metadata": {
    "colab": {
     "base_uri": "https://localhost:8080/"
    },
    "id": "DdenZgEBgfDE",
    "outputId": "05f30cac-8928-4975-e9fb-3ba5f4df6d06"
   },
   "outputs": [
    {
     "name": "stdout",
     "output_type": "stream",
     "text": [
      "<class 'str'>\n",
      "<class 'int'>\n",
      "<class 'int'>\n",
      "<class 'int'>\n"
     ]
    }
   ],
   "source": [
    "# Ejemplo\n",
    "item1 = 'Laptop'\n",
    "item1_price = 10000\n",
    "item1_quantity = 8\n",
    "item1_price_total = item1_price*item1_quantity\n",
    "\n",
    "# Si queremos conocer qué tipo de variables son las anteriores vemos:\n",
    "print(type(item1))\n",
    "print(type(item1_price))\n",
    "print(type(item1_quantity))\n",
    "print(type(item1_price_total))"
   ]
  },
  {
   "cell_type": "markdown",
   "metadata": {
    "id": "4_WXdSP2v9ao"
   },
   "source": [
    "Podemos ver que cada una de estas variables son en realidad son **clases**. Eso signifíca que, en realidad las variables son **objetos** de str o int.\n",
    "\n",
    "Ahora creemos una clase propia"
   ]
  },
  {
   "cell_type": "code",
   "execution_count": 2,
   "metadata": {
    "id": "3Mrk7Kk4xR4D"
   },
   "outputs": [],
   "source": [
    "class EstudiantesQuinto:\n",
    "  # Lo siguiente forma parte de la clase\n",
    "  # podemos definir métodos como funciones usuales\n",
    "  # Todos los métodos requieren como primer argumento a \"self\"\n",
    "  def bienvenida(self, name):\n",
    "    print(f\"¡Hola, {name}!\")"
   ]
  },
  {
   "cell_type": "code",
   "execution_count": 3,
   "metadata": {
    "id": "5w6yEzE90zSE"
   },
   "outputs": [],
   "source": [
    "# Creamos un objeto de la clase estudiantes_quinto\n",
    "est = EstudiantesQuinto()"
   ]
  },
  {
   "cell_type": "code",
   "execution_count": 4,
   "metadata": {
    "colab": {
     "base_uri": "https://localhost:8080/"
    },
    "id": "CcGBsI4C033H",
    "outputId": "f4f47893-7dc8-459b-92a1-4832857ec226"
   },
   "outputs": [
    {
     "name": "stdout",
     "output_type": "stream",
     "text": [
      "¡Hola, Nat!\n"
     ]
    }
   ],
   "source": [
    "# Llamamos al método de identificación\n",
    "est.bienvenida('Nat')"
   ]
  },
  {
   "cell_type": "markdown",
   "metadata": {
    "id": "ncQ9Z2he1fQS"
   },
   "source": [
    "¿Qué es \"self\"?\n",
    "\n",
    "Como vimos antes, las clases son como planos o plantillas. Los objetos de una clase no existen, pero al definir las clases necesitamos una forma de referirnos a los datos de un objeto concreto dentro de la definición de la clase. Entonces se trata de un \"llamado\" al objeto que existirá en el futuro."
   ]
  },
  {
   "cell_type": "code",
   "execution_count": 5,
   "metadata": {
    "colab": {
     "base_uri": "https://localhost:8080/"
    },
    "id": "ErToxFbz1Z4O",
    "outputId": "e9f52976-7ced-4572-ddb0-20a53c868560"
   },
   "outputs": [
    {
     "name": "stdout",
     "output_type": "stream",
     "text": [
      "¡Hola, Nat!\n"
     ]
    }
   ],
   "source": [
    "EstudiantesQuinto.bienvenida(est, 'Nat')"
   ]
  },
  {
   "cell_type": "code",
   "execution_count": 6,
   "metadata": {
    "id": "_NmegsOE3Z0f"
   },
   "outputs": [],
   "source": [
    "# Definir atributos\n",
    "class EstudiantesQuinto:\n",
    "\n",
    "  def establecer_nombre(self, new_name):\n",
    "    # Creamos un atributo para el objeto parte de la clase\n",
    "    self.name = new_name\n",
    "    # se creará el atributo .name al objeto cuando la función \"establecer_nombre\" se ejecute"
   ]
  },
  {
   "cell_type": "code",
   "execution_count": 7,
   "metadata": {
    "colab": {
     "base_uri": "https://localhost:8080/"
    },
    "id": "thbgOBDg4Cey",
    "outputId": "145eef60-bde8-4789-f3b0-b9f48d1fe026"
   },
   "outputs": [
    {
     "name": "stdout",
     "output_type": "stream",
     "text": [
      "Natalia Lerín\n"
     ]
    }
   ],
   "source": [
    "est_15 = EstudiantesQuinto() # <- no se ha asignado nombre\n",
    "est_15.establecer_nombre('Natalia Lerín') # <- se crea el atributo mediante el método y se le da valor\n",
    "\n",
    "# se puede acceder al nombre como\n",
    "print(est_15.name)"
   ]
  },
  {
   "cell_type": "code",
   "execution_count": 8,
   "metadata": {
    "id": "3_4Xwehb46w-"
   },
   "outputs": [],
   "source": [
    "# Podemos actualizar la clase:\n",
    "class EstudiantesQuinto:\n",
    "\n",
    "  def establecer_nombre(self, new_name):\n",
    "    self.name = new_name\n",
    "\n",
    "  # Reemplazamos el parámetro del siguiente método con el atributo name de self\n",
    "  def bienvenida(self):\n",
    "    print(f\"¡Hola, {self.name}!\")"
   ]
  },
  {
   "cell_type": "code",
   "execution_count": 9,
   "metadata": {
    "colab": {
     "base_uri": "https://localhost:8080/"
    },
    "id": "5RhgsZse5FCK",
    "outputId": "a30b495e-3cc7-426e-905e-5c009508814f"
   },
   "outputs": [
    {
     "name": "stdout",
     "output_type": "stream",
     "text": [
      "¡Hola, Natalia Lerín!\n"
     ]
    }
   ],
   "source": [
    "est_15 = EstudiantesQuinto()\n",
    "est_15.establecer_nombre('Natalia Lerín')\n",
    "est_15.bienvenida()"
   ]
  },
  {
   "cell_type": "code",
   "execution_count": 10,
   "metadata": {
    "id": "PT3K7jXg6MB3"
   },
   "outputs": [],
   "source": [
    "import numpy as np\n",
    "# Agreguemos un método en la clase\n",
    "\n",
    "class EstudiantesQuinto:\n",
    "  def establecer_nombre(self, new_name):\n",
    "    self.name = new_name\n",
    "\n",
    "  def bienvenida(self):\n",
    "    print(f\"¡Hola, {self.name}!\")\n",
    "\n",
    "  def set_grades(self, grades):\n",
    "    # grades es una lista\n",
    "    self.grades = grades\n",
    "\n",
    "  def new_grade(self, new_grade):\n",
    "    print(f'Promedio anterior: {np.mean(self.grades)}')\n",
    "    self.grades.append(new_grade)\n",
    "    print(f'Nuevo promedio: {np.mean(self.grades)}')"
   ]
  },
  {
   "cell_type": "code",
   "execution_count": 11,
   "metadata": {
    "id": "t1WpI2lV7zHy"
   },
   "outputs": [],
   "source": [
    "est_15 = EstudiantesQuinto()\n",
    "est_15.establecer_nombre('Natalia Lerín')\n",
    "est_15.set_grades([10,10,9,9])"
   ]
  },
  {
   "cell_type": "code",
   "execution_count": 12,
   "metadata": {
    "colab": {
     "base_uri": "https://localhost:8080/"
    },
    "id": "nlQg_d5w76MB",
    "outputId": "ad571045-9061-4a7d-a473-76df8b00dfee"
   },
   "outputs": [
    {
     "name": "stdout",
     "output_type": "stream",
     "text": [
      "[10, 10, 9, 9]\n"
     ]
    }
   ],
   "source": [
    "# Puedo conocer mis calificaciones:\n",
    "print(est_15.grades)"
   ]
  },
  {
   "cell_type": "code",
   "execution_count": 13,
   "metadata": {
    "colab": {
     "base_uri": "https://localhost:8080/"
    },
    "id": "9BE5cLBx78pP",
    "outputId": "47795123-7df2-46e5-baca-50d0a5c8166e"
   },
   "outputs": [
    {
     "name": "stdout",
     "output_type": "stream",
     "text": [
      "Promedio anterior: 9.5\n",
      "Nuevo promedio: 8.8\n"
     ]
    }
   ],
   "source": [
    "# Añado una nueva calificación:\n",
    "est_15.new_grade(6)"
   ]
  },
  {
   "cell_type": "code",
   "execution_count": 14,
   "metadata": {},
   "outputs": [
    {
     "ename": "AttributeError",
     "evalue": "'EstudiantesQuinto' object has no attribute 'grades'",
     "output_type": "error",
     "traceback": [
      "\u001b[1;31m---------------------------------------------------------------------------\u001b[0m",
      "\u001b[1;31mAttributeError\u001b[0m                            Traceback (most recent call last)",
      "Cell \u001b[1;32mIn[14], line 4\u001b[0m\n\u001b[0;32m      2\u001b[0m est_1\u001b[38;5;241m.\u001b[39mestablecer_nombre(\u001b[38;5;124m'\u001b[39m\u001b[38;5;124mJanet\u001b[39m\u001b[38;5;124m'\u001b[39m)\n\u001b[0;32m      3\u001b[0m \u001b[38;5;66;03m# Añado una nueva calificación:\u001b[39;00m\n\u001b[1;32m----> 4\u001b[0m est_1\u001b[38;5;241m.\u001b[39mnew_grade(\u001b[38;5;241m6\u001b[39m)\n",
      "Cell \u001b[1;32mIn[10], line 16\u001b[0m, in \u001b[0;36mEstudiantesQuinto.new_grade\u001b[1;34m(self, new_grade)\u001b[0m\n\u001b[0;32m     15\u001b[0m \u001b[38;5;28;01mdef\u001b[39;00m \u001b[38;5;21mnew_grade\u001b[39m(\u001b[38;5;28mself\u001b[39m, new_grade):\n\u001b[1;32m---> 16\u001b[0m   \u001b[38;5;28mprint\u001b[39m(\u001b[38;5;124mf\u001b[39m\u001b[38;5;124m'\u001b[39m\u001b[38;5;124mPromedio anterior: \u001b[39m\u001b[38;5;132;01m{\u001b[39;00mnp\u001b[38;5;241m.\u001b[39mmean(\u001b[38;5;28mself\u001b[39m\u001b[38;5;241m.\u001b[39mgrades)\u001b[38;5;132;01m}\u001b[39;00m\u001b[38;5;124m'\u001b[39m)\n\u001b[0;32m     17\u001b[0m   \u001b[38;5;28mself\u001b[39m\u001b[38;5;241m.\u001b[39mgrades\u001b[38;5;241m.\u001b[39mappend(new_grade)\n\u001b[0;32m     18\u001b[0m   \u001b[38;5;28mprint\u001b[39m(\u001b[38;5;124mf\u001b[39m\u001b[38;5;124m'\u001b[39m\u001b[38;5;124mNuevo promedio: \u001b[39m\u001b[38;5;132;01m{\u001b[39;00mnp\u001b[38;5;241m.\u001b[39mmean(\u001b[38;5;28mself\u001b[39m\u001b[38;5;241m.\u001b[39mgrades)\u001b[38;5;132;01m}\u001b[39;00m\u001b[38;5;124m'\u001b[39m)\n",
      "\u001b[1;31mAttributeError\u001b[0m: 'EstudiantesQuinto' object has no attribute 'grades'"
     ]
    }
   ],
   "source": [
    "est_1 = EstudiantesQuinto()\n",
    "est_1.establecer_nombre('Janet')\n",
    "# Añado una nueva calificación:\n",
    "est_1.new_grade(6)"
   ]
  },
  {
   "cell_type": "markdown",
   "metadata": {},
   "source": [
    "En la celda anterior se tiene un error porque hasta ese momento, no se le ha asignado el atributo \"grades\" al objeto `est_1`"
   ]
  },
  {
   "cell_type": "code",
   "execution_count": 15,
   "metadata": {
    "colab": {
     "base_uri": "https://localhost:8080/"
    },
    "id": "8ArEGzWD-q9x",
    "outputId": "d2db377c-d3cb-4d72-d822-b8d7d1fa5a6e"
   },
   "outputs": [
    {
     "name": "stdout",
     "output_type": "stream",
     "text": [
      "[10, 10, 9, 9, 6]\n"
     ]
    }
   ],
   "source": [
    "# Calificaciones actualizadas:\n",
    "print(est_15.grades)"
   ]
  },
  {
   "cell_type": "code",
   "execution_count": 16,
   "metadata": {
    "id": "D9BBaX3WB_6R"
   },
   "outputs": [],
   "source": [
    "est_15.semestre = 7"
   ]
  },
  {
   "cell_type": "code",
   "execution_count": 17,
   "metadata": {
    "colab": {
     "base_uri": "https://localhost:8080/"
    },
    "id": "C9XwPQhECFfL",
    "outputId": "7ed94b4d-c1b1-45f4-8fef-520d2fa9beb3"
   },
   "outputs": [
    {
     "data": {
      "text/plain": [
       "7"
      ]
     },
     "execution_count": 17,
     "metadata": {},
     "output_type": "execute_result"
    }
   ],
   "source": [
    "est_15.semestre\n"
   ]
  },
  {
   "cell_type": "markdown",
   "metadata": {
    "id": "Lj2LFuOe5Emh"
   },
   "source": [
    "## Class Anatomy\n",
    "\n",
    "Una mejor estrategia para ordenar los atributos de un objeto dado por una clase es agregar los datos directamente desde su creación.\n",
    "\n",
    "Para ello necesitamos usar el método \"constructor\" ```__innit__()```, que será llamado de forma automática al crear un objeto.\n"
   ]
  },
  {
   "cell_type": "code",
   "execution_count": 18,
   "metadata": {
    "id": "Znrtp6zbHKru"
   },
   "outputs": [],
   "source": [
    "class EstudiantesQuinto:\n",
    "  def __init__(self, name, grades):\n",
    "    # Ahora los atributos se crean al mismo tiempo y no al llamar cada método\n",
    "    # Esta opción es más recomendable: mejor uso y mantenimiento\n",
    "    self.name = name\n",
    "    self.grades = grades\n",
    "    print(\"Se llamó al método __init__\")"
   ]
  },
  {
   "cell_type": "code",
   "execution_count": 19,
   "metadata": {
    "colab": {
     "base_uri": "https://localhost:8080/"
    },
    "id": "Kew87B0KHKjB",
    "outputId": "72afb499-e646-44bc-a1f8-73c9aacedd58"
   },
   "outputs": [
    {
     "name": "stdout",
     "output_type": "stream",
     "text": [
      "Se llamó al método __init__\n",
      "Natalia Lerín\n"
     ]
    }
   ],
   "source": [
    "est_15 = EstudiantesQuinto('Natalia Lerín', [10,10,8])\n",
    "print(est_15.name)"
   ]
  },
  {
   "cell_type": "markdown",
   "metadata": {},
   "source": [
    "En el siguiente ejemplo, vimos que no es posible crear objetos si no otorgamos todos los atributos necesarios indicados en el constructor de la clase a la que queremos que pertenezca.\n",
    "\n",
    "Además, vimos que un objeto tiene *al menos* todos los atributos indicados en el constructor."
   ]
  },
  {
   "cell_type": "code",
   "execution_count": 20,
   "metadata": {},
   "outputs": [
    {
     "ename": "TypeError",
     "evalue": "EstudiantesQuinto.__init__() missing 1 required positional argument: 'grades'",
     "output_type": "error",
     "traceback": [
      "\u001b[1;31m---------------------------------------------------------------------------\u001b[0m",
      "\u001b[1;31mTypeError\u001b[0m                                 Traceback (most recent call last)",
      "Cell \u001b[1;32mIn[20], line 1\u001b[0m\n\u001b[1;32m----> 1\u001b[0m est1 \u001b[38;5;241m=\u001b[39m EstudiantesQuinto(\u001b[38;5;124m'\u001b[39m\u001b[38;5;124mJanet\u001b[39m\u001b[38;5;124m'\u001b[39m)\n",
      "\u001b[1;31mTypeError\u001b[0m: EstudiantesQuinto.__init__() missing 1 required positional argument: 'grades'"
     ]
    }
   ],
   "source": [
    "est1 = EstudiantesQuinto('Janet')"
   ]
  },
  {
   "cell_type": "markdown",
   "metadata": {
    "id": "j43b3zNsTBrO"
   },
   "source": [
    "### Atributos de clase y de instancia"
   ]
  },
  {
   "cell_type": "code",
   "execution_count": 21,
   "metadata": {
    "id": "Q_R5ONzLIC8s"
   },
   "outputs": [],
   "source": [
    "class EstudiantesQuinto:\n",
    "  # Antes del método innit se colocan los atributos de clase\n",
    "  # estos se comparten con todos los objetos de la clase\n",
    "  # son variables globales para la clase\n",
    "  BACHELOR = 'Ciencia de Datos'\n",
    "  def __init__(self, name, grades, campus = 'IIMAS'):\n",
    "    # estos son los atributos de instancia\n",
    "    # cada objeto cuenta con sus propios atributos\n",
    "    self.name = name\n",
    "    self.grades = grades\n",
    "    self.campus = campus"
   ]
  },
  {
   "cell_type": "code",
   "execution_count": 22,
   "metadata": {
    "colab": {
     "base_uri": "https://localhost:8080/"
    },
    "id": "zV6m4nTpLQtR",
    "outputId": "28faf0cf-a0c9-4255-fd77-966d94a0c2b9"
   },
   "outputs": [
    {
     "name": "stdout",
     "output_type": "stream",
     "text": [
      "Ciencia de Datos\n",
      "Natalia Lerín\n",
      "IIMAS\n"
     ]
    }
   ],
   "source": [
    "est_15 = EstudiantesQuinto('Natalia Lerín', [10,10,8])\n",
    "print(est_15.BACHELOR)\n",
    "print(est_15.name)\n",
    "print(est_15.campus)"
   ]
  },
  {
   "cell_type": "code",
   "execution_count": 23,
   "metadata": {
    "colab": {
     "base_uri": "https://localhost:8080/"
    },
    "id": "DFG3xGhELQLc",
    "outputId": "e6a48d4a-2d82-485c-ffdb-ecbdeee883dd"
   },
   "outputs": [
    {
     "name": "stdout",
     "output_type": "stream",
     "text": [
      "Ciencia de Datos\n"
     ]
    }
   ],
   "source": [
    "# Tambien se pueden obtener los atributos de clase sin necesidad de crear un objeto\n",
    "print(EstudiantesQuinto.BACHELOR)"
   ]
  },
  {
   "cell_type": "markdown",
   "metadata": {
    "id": "EFOre1tPTGPe"
   },
   "source": [
    "### Métodos de clase\n",
    "Es posible definir métodos vinculados a una clase en lugar de a un objeto, pero tienen un ámbito de aplicación reducido, ya que estos métodos no podrán utilizar ningún dato a nivel de objeto.\n",
    "\n",
    "Python permite definir dichos *métodos* de clase, utilizando el decorador `@classmethod` y un primer argumento especial `cls`. El uso principal de los métodos de clase es definir métodos que devuelvan un objeto de la clase, pero que no utilicen el mismo código que `__init__()`.\n",
    "\n",
    "Por ejemplo, estás desarrollando un paquete de series de tiempo y quieres definir tu propia clase para trabajar con fechas, `BetterDate`. Los atributos de la clase serán año, mes y día. Quieres tener un constructor que cree objetos `BetterDate` dados los valores para el año, mes y día, pero también quieres que sea capaz de crear objetos `BetterDate` a partir de cadenas como `2020-04-30`.\n",
    "\n",
    "Recuerda que:\n",
    "*   El método `.split(\"-\")` dividirá una cadena en `\"-\"` en un array, por ejemplo `\"2020-04-30\".split(\"-\")` devuelve `[\"2020\", \"04\", \"30\"]`,\n",
    "*   `int()` convierte una cadena en un número, por ejemplo, `int(\"2019\")` es `2019` .\n",
    "\n",
    "Añade un método de clase `from_str()` que:\n",
    "\n",
    "*   acepta una cadena `datestr` del formato `'AAAA-MM-DD'`,\n",
    "*   divide `datestr` y convierte cada parte en un entero,\n",
    "*   devuelve una instancia de la clase con los atributos establecidos a los valores extraídos de `datestr`."
   ]
  },
  {
   "cell_type": "code",
   "execution_count": 24,
   "metadata": {
    "colab": {
     "base_uri": "https://localhost:8080/"
    },
    "id": "qUjVpqBINCzu",
    "outputId": "16d9eca1-72ff-4186-fb4f-7752d3848ba5",
    "scrolled": true
   },
   "outputs": [
    {
     "name": "stdout",
     "output_type": "stream",
     "text": [
      "2020\n",
      "4\n",
      "30\n"
     ]
    }
   ],
   "source": [
    "class BetterDate:\n",
    "    # Constructor\n",
    "    def __init__(self, year, month, day):\n",
    "      self.year, self.month, self.day = year, month, day\n",
    "\n",
    "    # Definimos el método de clase 'from_str'\n",
    "    # Añade el decorador:\n",
    "    @classmethod\n",
    "    def from_str(cls, datestr): #usamos cls\n",
    "        # Aquí no se pueden usar atributos de instancia\n",
    "        # Dividimos el string en '-' y convertimos a enteros\n",
    "        parts = datestr.split(\"-\")\n",
    "        year, month, day = int(parts[0]), int(parts[1]), int(parts[2])\n",
    "        # Return the class instance\n",
    "        return cls(year, month, day)\n",
    "\n",
    "bd = BetterDate.from_str('2020-04-30')\n",
    "print(bd.year)\n",
    "print(bd.month)\n",
    "print(bd.day)"
   ]
  },
  {
   "cell_type": "code",
   "execution_count": 25,
   "metadata": {},
   "outputs": [
    {
     "data": {
      "text/plain": [
       "True"
      ]
     },
     "execution_count": 25,
     "metadata": {},
     "output_type": "execute_result"
    }
   ],
   "source": [
    "isinstance(bd, BetterDate)"
   ]
  },
  {
   "cell_type": "markdown",
   "metadata": {
    "id": "61VHVBrbWeMf"
   },
   "source": [
    "Por compatibilidad, también quieres poder convertir un objeto `datetime` en un objeto `BetterDate`.\n",
    "\n",
    "*   Añade un método de clase `from_datetime()` que acepte un objeto `datetime` como argumento, y utilice sus atributos `.year`, `.month` y `.day` para crear un objeto `BetterDate` con los mismos valores de atributo."
   ]
  },
  {
   "cell_type": "code",
   "execution_count": 26,
   "metadata": {
    "colab": {
     "base_uri": "https://localhost:8080/"
    },
    "id": "-DcygzndXUKW",
    "outputId": "30dc4acc-0970-4267-c3f1-59002e7a8631"
   },
   "outputs": [
    {
     "data": {
      "text/plain": [
       "datetime.datetime(2024, 8, 17, 18, 4, 5, 649890)"
      ]
     },
     "execution_count": 26,
     "metadata": {},
     "output_type": "execute_result"
    }
   ],
   "source": [
    "# importamos el modulo \"datetime\" de la librería \"datetime\"\n",
    "# https://docs.python.org/3/library/datetime.html#datetime-objects\n",
    "from datetime import datetime\n",
    "datetime.today()"
   ]
  },
  {
   "cell_type": "code",
   "execution_count": 27,
   "metadata": {
    "colab": {
     "base_uri": "https://localhost:8080/"
    },
    "id": "zUxMY9yFUhIm",
    "outputId": "ff3c3865-9e1b-4d5f-e291-1fae3b30ce09"
   },
   "outputs": [
    {
     "name": "stdout",
     "output_type": "stream",
     "text": [
      "2024\n",
      "8\n",
      "17\n"
     ]
    }
   ],
   "source": [
    "# importa datetime de datetime\n",
    "from datetime import datetime\n",
    "\n",
    "class BetterDate:\n",
    "    def __init__(self, year, month, day):\n",
    "      self.year, self.month, self.day = year, month, day\n",
    "\n",
    "    @classmethod\n",
    "    def from_str(cls, datestr):\n",
    "      year, month, day = map(int, datestr.split(\"-\"))\n",
    "      return cls(year, month, day)\n",
    "\n",
    "    # Definir un método de clase from_datetime que acepte un objeto datetime\n",
    "    @classmethod\n",
    "    def from_datetime(cls, datetime):\n",
    "      year, month, day = datetime.year, datetime.month, datetime.day\n",
    "      return cls(year, month, day)\n",
    "\n",
    "today = datetime.today()\n",
    "bd = BetterDate.from_datetime(today)\n",
    "print(bd.year)\n",
    "print(bd.month)\n",
    "print(bd.day)"
   ]
  },
  {
   "cell_type": "markdown",
   "metadata": {},
   "source": [
    "`cls` se utiliza en métodos de clase para referirse a la propia clase, lo que permite al método crear instancias de esa clase. \n",
    "- **`cls`** es un nombre convencional para un parámetro en un método de clase que se refiere a la propia clase, no a una instancia de la clase. Permite al método crear nuevas instancias de la clase o acceder a atributos y métodos a nivel de clase.\n",
    " \n",
    "- **Los métodos de clase** son métodos que están ligados a la clase y no a la instancia. Se definen utilizando el decorador `@classmethod`.\n",
    "- Cuando se llama a un método de clase, el primer argumento que se le pasa es la propia clase, y por convención, este argumento se llama `cls`.\n",
    " \n",
    "- Cuando se llama a `cls(year, month, day)` en los métodos `from_str` o `from_datetime`, en realidad se está llamando al constructor de la clase (`__init__`) para crear una nueva instancia de la clase `BetterDate`."
   ]
  },
  {
   "cell_type": "markdown",
   "metadata": {
    "id": "_4Kqp043NCjC"
   },
   "source": [
    "## Herencia"
   ]
  },
  {
   "cell_type": "markdown",
   "metadata": {
    "id": "9Sj9r2IWNCZ3"
   },
   "source": [
    "La herencia de clases es un mecanismo por el cual podemos definir una nueva clase que obtenga toda la funcionalidad de otra clase, pero quizás añadiendo algo extra sin reimplementar el código.\n",
    "\n",
    "![imagen.png](data:image/png;base64,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)"
   ]
  },
  {
   "cell_type": "code",
   "execution_count": 28,
   "metadata": {
    "id": "DnMMqd7dZSH4"
   },
   "outputs": [],
   "source": [
    "class BankAccount:\n",
    "  def __init__(self, balance):\n",
    "    self.balance = balance\n",
    "\n",
    "  def withdraw(self, amount):\n",
    "    self.balance -= amount\n",
    "\n",
    "# Una nueva clase, que hereda de la anterior\n",
    "class SavingsAccount(BankAccount):\n",
    "  pass"
   ]
  },
  {
   "cell_type": "markdown",
   "metadata": {
    "id": "CCXObmThaTm4"
   },
   "source": [
    "Ahora podemos crear un objeto a partir de la clase `SavingsAccount`, aún sin tener que haber creado un constructor en dicha clase"
   ]
  },
  {
   "cell_type": "code",
   "execution_count": 29,
   "metadata": {
    "colab": {
     "base_uri": "https://localhost:8080/",
     "height": 123
    },
    "id": "Ta5aT-XoaPMo",
    "outputId": "0a225226-5b3a-435a-98ba-000cbf095b97",
    "scrolled": true
   },
   "outputs": [
    {
     "data": {
      "text/plain": [
       "__main__.SavingsAccount"
      ]
     },
     "execution_count": 29,
     "metadata": {},
     "output_type": "execute_result"
    }
   ],
   "source": [
    "savings_acc = SavingsAccount(1000)\n",
    "type(savings_acc)"
   ]
  },
  {
   "cell_type": "markdown",
   "metadata": {},
   "source": [
    "\"Si el programa es llamado como *script*, se ejecutará con el nombre `__main__`y se ejecutará la función\n",
    "de control *main()*; en cambio, si se importa en una sesión interactiva o en otro módulo, su nombre sera el\n",
    "nombre del archivo.\"\n",
    "\n",
    "Esto significa que en la celda anterior `savings_acc` es una instancia de la clase SavingsAccount definida en el script que está ejecutando actualmente."
   ]
  },
  {
   "cell_type": "code",
   "execution_count": 30,
   "metadata": {
    "colab": {
     "base_uri": "https://localhost:8080/"
    },
    "id": "XURjnUDVan_T",
    "outputId": "39f321c3-a2f6-44ad-81e8-42c05aa12dd2"
   },
   "outputs": [
    {
     "data": {
      "text/plain": [
       "1000"
      ]
     },
     "execution_count": 30,
     "metadata": {},
     "output_type": "execute_result"
    }
   ],
   "source": [
    "savings_acc.balance"
   ]
  },
  {
   "cell_type": "code",
   "execution_count": 31,
   "metadata": {
    "id": "9RwVU2Xjauyc"
   },
   "outputs": [],
   "source": [
    "savings_acc.withdraw(300)"
   ]
  },
  {
   "cell_type": "code",
   "execution_count": 32,
   "metadata": {
    "colab": {
     "base_uri": "https://localhost:8080/"
    },
    "id": "oSwkx0h0a0Pz",
    "outputId": "5847448d-c8fb-4b4b-9700-b80b61ade099"
   },
   "outputs": [
    {
     "data": {
      "text/plain": [
       "700"
      ]
     },
     "execution_count": 32,
     "metadata": {},
     "output_type": "execute_result"
    }
   ],
   "source": [
    "savings_acc.balance"
   ]
  },
  {
   "cell_type": "markdown",
   "metadata": {
    "id": "NcVMicdpa3mZ"
   },
   "source": [
    "Notemos ahora, que los objetos de la clase hija son de hecho instancias tanto de la clase hija como de la clase madre. (Pero no al revés)"
   ]
  },
  {
   "cell_type": "code",
   "execution_count": 33,
   "metadata": {
    "colab": {
     "base_uri": "https://localhost:8080/"
    },
    "id": "847-LMrSa1jV",
    "outputId": "9576e7de-e964-4dac-a10b-09fb66924bb6"
   },
   "outputs": [
    {
     "name": "stdout",
     "output_type": "stream",
     "text": [
      "True\n",
      "True\n"
     ]
    }
   ],
   "source": [
    "print(isinstance(savings_acc, SavingsAccount))\n",
    "print(isinstance(savings_acc, BankAccount))"
   ]
  },
  {
   "cell_type": "markdown",
   "metadata": {
    "id": "iiTBG9fsuSRb"
   },
   "source": [
    "Veamos otro ejemplo"
   ]
  },
  {
   "cell_type": "code",
   "execution_count": 34,
   "metadata": {
    "id": "W8aRN6_jbs3E"
   },
   "outputs": [],
   "source": [
    "class DataProcessor:\n",
    "    def __init__(self, data_source):\n",
    "        self.data_source = data_source\n",
    "\n",
    "    def load_data(self):\n",
    "        print(f\"Loading data from {self.data_source}\")\n",
    "        # Implementation to load data\n",
    "\n",
    "    def save_data(self, data):\n",
    "        print(\"Saving data...\")\n",
    "        # Implementation to save data"
   ]
  },
  {
   "cell_type": "code",
   "execution_count": 35,
   "metadata": {
    "id": "pZDqqBWfuEyH"
   },
   "outputs": [],
   "source": [
    "class ImageProcessor(DataProcessor):\n",
    "    def process_data(self):\n",
    "        print(\"Processing image data...\")\n",
    "        # Image-specific processing logic\n",
    "\n",
    "class TextProcessor(DataProcessor):\n",
    "    def process_data(self):\n",
    "        print(\"Processing text data...\")\n",
    "        # Text-specific processing logic"
   ]
  },
  {
   "cell_type": "code",
   "execution_count": 36,
   "metadata": {
    "colab": {
     "base_uri": "https://localhost:8080/"
    },
    "id": "6eTiCcNFuGU4",
    "outputId": "952e709b-a93d-4890-d738-9897c8291f0e"
   },
   "outputs": [
    {
     "name": "stdout",
     "output_type": "stream",
     "text": [
      "Loading data from path/to/image/data\n",
      "Processing image data...\n",
      "Loading data from path/to/text/data\n",
      "Processing text data...\n"
     ]
    }
   ],
   "source": [
    "image_processor = ImageProcessor(\"path/to/image/data\")\n",
    "image_processor.load_data()  # Inherited method\n",
    "image_processor.process_data()  # Subclass-specific method\n",
    "\n",
    "text_processor = TextProcessor(\"path/to/text/data\")\n",
    "text_processor.load_data()  # Inherited method\n",
    "text_processor.process_data()  # Subclass-specific method"
   ]
  },
  {
   "cell_type": "markdown",
   "metadata": {
    "id": "5IxjhHViuKyH"
   },
   "source": [
    "En el ejemplo anterior, estamos creando objetos de la clase `DataProcessor` a través de la clase hija `ImageProcessor` y `TextProcessor`. Después utilizamos métodos de `DataProcessor` (heredados) y métodos propios de las clases hijas (`process_data()`)\n",
    "\n",
    "Esta estructura nos permite tener una clara jerarquía y organización en nuestro código, donde las funcionalidades comunes están centralizadas en la clase base, reduciendo la redundancia y haciendo el código más fácil de mantener y extender. Por ejemplo, si queremos añadir un nuevo método para cargar datos de una base de datos, sólo tenemos que actualizar la clase `DataProcessor`, y todas las clases derivadas heredarán automáticamente esta nueva funcionalidad."
   ]
  }
 ],
 "metadata": {
  "colab": {
   "provenance": []
  },
  "kernelspec": {
   "display_name": "Python 3 (ipykernel)",
   "language": "python",
   "name": "python3"
  },
  "language_info": {
   "codemirror_mode": {
    "name": "ipython",
    "version": 3
   },
   "file_extension": ".py",
   "mimetype": "text/x-python",
   "name": "python",
   "nbconvert_exporter": "python",
   "pygments_lexer": "ipython3",
   "version": "3.11.5"
  }
 },
 "nbformat": 4,
 "nbformat_minor": 1
}
