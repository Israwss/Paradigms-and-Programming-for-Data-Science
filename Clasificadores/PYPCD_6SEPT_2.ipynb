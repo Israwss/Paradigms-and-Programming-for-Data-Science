{
 "cells": [
  {
   "cell_type": "markdown",
   "metadata": {
    "id": "3qWHUMJH52ap"
   },
   "source": [
    "# Ejemplos de perceptrón y regresión logística\n"
   ]
  },
  {
   "cell_type": "markdown",
   "metadata": {
    "id": "TVo5zms25Xx_"
   },
   "source": [
    "Perceptrón en la compuerta AND\n",
    "\n",
    "![compuerta-and-1.webp](data:image/webp;base64,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)"
   ]
  },
  {
   "cell_type": "code",
   "execution_count": null,
   "metadata": {
    "id": "QT7gL6b3QVWE"
   },
   "outputs": [],
   "source": [
    "import numpy as np\n",
    "\n",
    "class Perceptron(object):\n",
    "  \"\"\" Perceptron\n",
    "  Parameters\n",
    "  ------------\n",
    "  eta: float\n",
    "    Learning rate (0.0 < eta < 1.0)\n",
    "  n_iter: int\n",
    "    Number or iteration over the training set\n",
    "  random_state: int\n",
    "    Random number generator seed for weight initalization\n",
    "\n",
    "  Attributes\n",
    "  ------------\n",
    "  w_ : 1d_array\n",
    "    Weights after fitting\n",
    "  errors_ : list\n",
    "    Number of misclassifications (updates) in each epoch\n",
    "  \"\"\"\n",
    "  def __init__(self, eta=0.01, n_iter=50, random_state=1):\n",
    "    self.eta = eta\n",
    "    self.n_iter = n_iter\n",
    "    self.random_state = random_state\n",
    "\n",
    "  def fit(self, X, y):\n",
    "    \"\"\" Fit training data\n",
    "    Parameters\n",
    "    ------------\n",
    "    X : {np.array}, shape = [n_samples, m_features]\n",
    "      Training vectors with n_samples samples and m_features features\n",
    "    y : {np.array}, shape = [n_samples]\n",
    "      Target values\n",
    "    \"\"\"\n",
    "    rgen = np.random.RandomState(self.random_state)\n",
    "    if self.random_state is None:\n",
    "      self.w_= np.zeros(1 + len(X[1]))\n",
    "    else:\n",
    "      self.w_= rgen.normal(loc=0.0, scale=0.01, size=1+X.shape[1])\n",
    "    self.errors_ = []\n",
    "    #print(self.w_)\n",
    "    for _ in range(self.n_iter):\n",
    "      errors = 0\n",
    "      for xi, yi in zip(X, y):\n",
    "        update = self.eta * (yi - self.predict(xi))\n",
    "        self.w_[1:] += update * xi\n",
    "        self.w_[0] += update\n",
    "        #print(\"xi : \",xi)\n",
    "        #print(\"up : \",update)\n",
    "        #print(\"pesos : \",self.w_)\n",
    "        errors += int(update != 0.0)\n",
    "      self.errors_.append(errors)\n",
    "      #print('pesos ',self.w_)\n",
    "    return self\n",
    "\n",
    "  def net_input(self, X):\n",
    "    \"\"\"Calculate cell input\"\"\"\n",
    "    return np.dot(X, self.w_[1:]) + self.w_[0]\n",
    "\n",
    "  def predict(self, X):\n",
    "    \"\"\"Return class label after unit step\"\"\"\n",
    "    #print(X)\n",
    "    #print(\"dot \"+str(self.net_input(X)))\n",
    "    #print(\"pred \"+str(np.where(self.net_input(X) >= 0.0, 1, -1)))\n",
    "    return np.where(self.net_input(X) >= 0.0, 1, -1)\n"
   ]
  },
  {
   "cell_type": "code",
   "execution_count": null,
   "metadata": {
    "id": "L3mXpNjg7ju5"
   },
   "outputs": [],
   "source": [
    "# Función para graficar\n",
    "import matplotlib.pyplot as plt\n",
    "from matplotlib.colors import ListedColormap\n",
    "def plot_decision_regions(X, y, classifier, resolution=0.02):\n",
    "    colors = np.array(['lime', 'red', 'blue'])\n",
    "    cmap = ListedColormap(colors[:len(np.unique(y))])\n",
    "    # Superficies de decisión\n",
    "    x1_min, x1_max = X[:, 0].min() - 1, X[:, 0].max() + 1\n",
    "    x2_min, x2_max = X[:, 1].min() - 1, X[:, 1].max() + 1\n",
    "    xx1, xx2 = np.meshgrid(np.arange(x1_min, x1_max, resolution),\n",
    "                           np.arange(x2_min, x2_max, resolution))\n",
    "    Z = classifier.predict(np.array([xx1.ravel(), xx2.ravel()]).T)\n",
    "    Z = Z.reshape(xx1.shape)\n",
    "    plt.contourf(xx1, xx2, Z, alpha=0.4, cmap=cmap)\n",
    "    plt.xlim(xx1.min(), xx1.max())\n",
    "    plt.ylim(xx2.min(), xx2.max())\n",
    "    # Conjuntos de cada clase\n",
    "    plt.scatter(X[:,0],\n",
    "                X[:,1],\n",
    "                alpha=0.9,\n",
    "                c=colors[y],\n",
    "                edgecolor='black',)\n"
   ]
  },
  {
   "cell_type": "code",
   "execution_count": null,
   "metadata": {
    "colab": {
     "base_uri": "https://localhost:8080/"
    },
    "id": "k7I_qZzpaZPv",
    "outputId": "a2eef8ce-e5b2-42c8-e82a-244189547bd2"
   },
   "outputs": [],
   "source": [
    "X = np.array([[],[],[],[]])\n",
    "y = np.array([])\n",
    "#print(X, X.shape[1])\n",
    "#print(y)\n",
    "\n",
    "ppn = Perceptron(n_iter=20, eta=0.85)\n",
    "ppn.fit(X, y)\n",
    "print('Pesos: %s' % ppn.w_)\n"
   ]
  },
  {
   "cell_type": "code",
   "execution_count": null,
   "metadata": {
    "colab": {
     "base_uri": "https://localhost:8080/",
     "height": 449
    },
    "id": "utUeWeyB8Wlq",
    "outputId": "e29ed50d-6a42-410b-dcc0-bec9e6d89e15"
   },
   "outputs": [],
   "source": [
    "plot_decision_regions(X, y, classifier=ppn)\n",
    "plt.xlabel('A')\n",
    "plt.ylabel('B')\n",
    "#plt.legend(loc='upper left')\n",
    "plt.show()"
   ]
  },
  {
   "cell_type": "markdown",
   "metadata": {
    "id": "Jv-WnXQqbHgW"
   },
   "source": [
    "# Ejemplo con Iris\n",
    "\n"
   ]
  },
  {
   "cell_type": "code",
   "execution_count": null,
   "metadata": {
    "colab": {
     "base_uri": "https://localhost:8080/",
     "height": 226
    },
    "id": "4aJe2rF3awQn",
    "outputId": "ebdb6cb2-5c45-4033-ccaa-ef88b1a93a8d"
   },
   "outputs": [],
   "source": [
    "# Iris Dataset\n",
    "import pandas as pd\n",
    "# https://archive.ics.uci.edu/ml/machine-learning-databases/iris/iris.data\n",
    "df = pd.read_csv('https://bit.ly/38XWXS4', header=None)\n",
    "df.head()"
   ]
  },
  {
   "cell_type": "code",
   "execution_count": null,
   "metadata": {
    "colab": {
     "base_uri": "https://localhost:8080/",
     "height": 487
    },
    "id": "7V6RnZ0GcNJ9",
    "outputId": "ac823d55-c8b2-4a9b-dc06-ad6a64f3eed4"
   },
   "outputs": [],
   "source": [
    "import seaborn as sns\n",
    "sns.histplot(x = df[4], shrink= 0.8)"
   ]
  },
  {
   "cell_type": "code",
   "execution_count": null,
   "metadata": {
    "colab": {
     "base_uri": "https://localhost:8080/"
    },
    "id": "2AXgbxuibXh6",
    "outputId": "2bf21767-1136-448b-cc50-0baaf38c91b8"
   },
   "outputs": [],
   "source": [
    "df.iloc[:,4].unique()"
   ]
  },
  {
   "cell_type": "code",
   "execution_count": null,
   "metadata": {
    "colab": {
     "base_uri": "https://localhost:8080/"
    },
    "id": "AjlNZe5RbJIs",
    "outputId": "45607216-f269-4cb5-d23b-286b8483f693"
   },
   "outputs": [],
   "source": [
    "# sepal length & petal length\n",
    "X = df.iloc[0:100, [0,2]].values\n",
    "# Iris-setosa & Iris-versicolor\n",
    "y = df.iloc[0:100, 4].values\n",
    "y = np.array(np.where(y == 'Iris-setosa', -1, 1))\n",
    "print(type(y))\n",
    "y"
   ]
  },
  {
   "cell_type": "code",
   "execution_count": null,
   "metadata": {
    "colab": {
     "base_uri": "https://localhost:8080/",
     "height": 487
    },
    "id": "Ijc2Gf0lbMGL",
    "outputId": "62f69cf7-9ee9-436d-a0f2-f536db1e4c6b"
   },
   "outputs": [],
   "source": [
    "#Se grsfican las muestras\n",
    "import matplotlib.pyplot as plt\n",
    "\n",
    "plt.scatter(X[:50, 0],X[:50, 1], color='red', marker='o', label='setosa')\n",
    "plt.scatter(X[50:100, 0],X[50:100, 1], color='blue', marker='x', label='versicolor')\n",
    "plt.xlabel('sepal-length [cm]')\n",
    "plt.ylabel('petal-length [cm]')\n",
    "plt.legend(loc='upper left')\n",
    "plt.show()\n",
    "print(type(y))"
   ]
  },
  {
   "cell_type": "markdown",
   "metadata": {
    "id": "OfMJY13xc303"
   },
   "source": [
    "Se entrena el perceptrón y se grafican las clasificaciones erroneas en cada época"
   ]
  },
  {
   "cell_type": "code",
   "execution_count": null,
   "metadata": {
    "colab": {
     "base_uri": "https://localhost:8080/",
     "height": 489
    },
    "id": "iwiTo9NEcvUi",
    "outputId": "10cea8b4-4e9c-446c-c4be-2b3f092d2f45"
   },
   "outputs": [],
   "source": [
    "ppn = Perceptron(eta=0.1, n_iter=10)\n",
    "ppn.fit(X, y)\n",
    "plt.plot(range(1,len(ppn.errors_)+1), ppn.errors_, marker='o')\n",
    "plt.xlabel('Época')\n",
    "plt.ylabel('Total de errores')\n",
    "plt.show()\n",
    "print(type(y))"
   ]
  },
  {
   "cell_type": "code",
   "execution_count": null,
   "metadata": {
    "colab": {
     "base_uri": "https://localhost:8080/",
     "height": 450
    },
    "id": "kYCxMxH1c_N7",
    "outputId": "513e7cf6-a7d1-4328-db18-8a4ec0bbae5f"
   },
   "outputs": [],
   "source": [
    "# w0 + w1*x1 + w2*x2\n",
    "# => x2 = -(w0 + w1*x1) / w2\n",
    "# Borde de decision\n",
    "x1 = np.linspace(4, 7.5, 2)\n",
    "x2 = - (ppn.w_[0]+ppn.w_[1]*x1) / ppn.w_[2]\n",
    "plt.plot(x1, x2, 'g', label = \"Borde de Decision\")\n",
    "\n",
    "# Clase -1 : setosa\n",
    "registros = y == -1\n",
    "x1 = X[registros][:, 0]\n",
    "x2 = X[registros][:, 1]\n",
    "plt.scatter(x1, x2, c='r', marker='o', label=\"setosa\")\n",
    "# Clase 1 : versicolor\n",
    "registros = y == 1\n",
    "x1 = X[registros][:, 0]\n",
    "x2 = X[registros][:, 1]\n",
    "plt.scatter(x1, x2, c='b', marker='x', label=\"versicolor\")\n",
    "\n",
    "plt.legend()\n",
    "plt.grid(color = 'lightgray', linestyle = '--')"
   ]
  },
  {
   "cell_type": "code",
   "execution_count": null,
   "metadata": {
    "colab": {
     "base_uri": "https://localhost:8080/",
     "height": 470
    },
    "id": "82Um-gH3iJ_D",
    "outputId": "117c69e2-e79c-4369-fa8e-3fb23f3899e6"
   },
   "outputs": [],
   "source": [
    "plot_decision_regions(X, y, classifier=ppn)#, resolution=2)\n",
    "plt.xlabel('sepal-length [cm]')\n",
    "plt.ylabel('petal-length [cm]')\n",
    "#plt.legend(loc='upper left')\n",
    "plt.show()"
   ]
  },
  {
   "cell_type": "code",
   "execution_count": null,
   "metadata": {
    "colab": {
     "base_uri": "https://localhost:8080/",
     "height": 450
    },
    "id": "pehbkaijiekl",
    "outputId": "3959f755-44b3-4c72-acd4-604ccfcc491b"
   },
   "outputs": [],
   "source": [
    "sp = 1.2\n",
    "\n",
    "x = np.arange(-5, 5, sp)\n",
    "y = np.arange(-5, 5, sp)\n",
    "xx, yy = np.meshgrid(x, y)\n",
    "\n",
    "plt.scatter(xx, yy)\n",
    "plt.show()"
   ]
  },
  {
   "cell_type": "markdown",
   "metadata": {
    "id": "rpxSGCFt9e_-"
   },
   "source": [
    "# Ejemplo con información de ventas de celulares"
   ]
  },
  {
   "cell_type": "code",
   "execution_count": null,
   "metadata": {
    "_cell_guid": "b1076dfc-b9ad-4769-8c92-a6c4dae69d19",
    "_uuid": "8f2839f25d086af736a60e9eeb907d3b93b6e0e5",
    "id": "2b_fMPfoq5ml"
   },
   "outputs": [],
   "source": [
    "import numpy as np\n",
    "import pandas as pd\n",
    "import seaborn as sns"
   ]
  },
  {
   "cell_type": "code",
   "execution_count": null,
   "metadata": {
    "_cell_guid": "79c7e3d0-c299-4dcb-8224-4455121ee9b0",
    "_uuid": "d629ff2d2480ee46fbb7e2d37f6b5fab8052498a",
    "id": "QvRbKToUq5mr"
   },
   "outputs": [],
   "source": [
    "df = pd.read_csv('/content/train.csv')"
   ]
  },
  {
   "cell_type": "code",
   "execution_count": null,
   "metadata": {
    "colab": {
     "base_uri": "https://localhost:8080/",
     "height": 255
    },
    "id": "R2EekOVgq5ms",
    "outputId": "d31ec090-474c-46e5-f181-5e42b0f4d6a7"
   },
   "outputs": [],
   "source": [
    "df.head()"
   ]
  },
  {
   "cell_type": "code",
   "execution_count": null,
   "metadata": {
    "colab": {
     "base_uri": "https://localhost:8080/"
    },
    "id": "E3Ix7vCuq5mt",
    "outputId": "0cf84827-bde3-4c57-8333-2b40fc2ec8d2"
   },
   "outputs": [],
   "source": [
    "df.info()"
   ]
  },
  {
   "cell_type": "code",
   "execution_count": null,
   "metadata": {
    "colab": {
     "base_uri": "https://localhost:8080/",
     "height": 349
    },
    "id": "DGMb_Jx9q5mu",
    "outputId": "d7d844ca-b470-4f94-af67-eaa6873715c6"
   },
   "outputs": [],
   "source": [
    "df.describe()"
   ]
  },
  {
   "cell_type": "code",
   "execution_count": null,
   "metadata": {
    "colab": {
     "base_uri": "https://localhost:8080/",
     "height": 468
    },
    "id": "hkb29UTUq5mw",
    "outputId": "20cb76c2-4975-45ae-e8c1-591406c7ddc4"
   },
   "outputs": [],
   "source": [
    "sns.countplot(x='price_range',data=df)"
   ]
  },
  {
   "cell_type": "code",
   "execution_count": null,
   "metadata": {
    "colab": {
     "base_uri": "https://localhost:8080/",
     "height": 663
    },
    "id": "tzYNDQGlq5mw",
    "outputId": "308bed97-0b9b-462a-9be6-789f53061465"
   },
   "outputs": [],
   "source": [
    "sns.distplot(df['battery_power'].dropna(),kde=True)"
   ]
  },
  {
   "cell_type": "code",
   "execution_count": null,
   "metadata": {
    "colab": {
     "base_uri": "https://localhost:8080/",
     "height": 540
    },
    "id": "IrwGYEQFq5my",
    "outputId": "b5939ff2-3d0b-4cae-d61a-0ceff5728b42"
   },
   "outputs": [],
   "source": [
    "sns.heatmap(df.corr())"
   ]
  },
  {
   "cell_type": "code",
   "execution_count": null,
   "metadata": {
    "id": "SsyAkoxfq5m1"
   },
   "outputs": [],
   "source": [
    "from sklearn.model_selection import train_test_split"
   ]
  },
  {
   "cell_type": "code",
   "execution_count": null,
   "metadata": {
    "id": "3XLOe8iAq5m2"
   },
   "outputs": [],
   "source": [
    "from sklearn.linear_model import LogisticRegression"
   ]
  },
  {
   "cell_type": "code",
   "execution_count": null,
   "metadata": {
    "id": "4kWSwISnq5m0"
   },
   "outputs": [],
   "source": [
    "X = df.loc[:,['ram', 'battery_power']]#drop('price_range',axis=1)\n",
    "y = np.array(df['price_range'])"
   ]
  },
  {
   "cell_type": "code",
   "execution_count": null,
   "metadata": {
    "colab": {
     "base_uri": "https://localhost:8080/"
    },
    "id": "KJJWo9wnsuaU",
    "outputId": "dab666a1-663c-4105-dde3-43f434bf1b8f"
   },
   "outputs": [],
   "source": [
    "X_train, X_test, y_train, y_test = train_test_split(X, y, test_size=0.3,\n",
    "                                                    random_state=1, stratify=y)\n",
    "print(X_train.shape, y_train.shape)\n",
    "print(X_test.shape, y_test.shape)"
   ]
  },
  {
   "cell_type": "code",
   "execution_count": null,
   "metadata": {
    "colab": {
     "base_uri": "https://localhost:8080/"
    },
    "id": "lBR6swiGs0Fw",
    "outputId": "b28c387f-83c5-493c-abf2-367d9c231e54"
   },
   "outputs": [],
   "source": [
    "print('Total de etiquetas en y       :', np.bincount(y))\n",
    "print('Total de etiquetas en y_train :', np.bincount(y_train))\n",
    "print('Total de etiquetas en y_test  :', np.bincount(y_test))"
   ]
  },
  {
   "cell_type": "code",
   "execution_count": null,
   "metadata": {
    "colab": {
     "base_uri": "https://localhost:8080/"
    },
    "id": "la-UdByUs3aU",
    "outputId": "76904292-e32e-42c1-d2e5-2d77e400e98a"
   },
   "outputs": [],
   "source": [
    "from sklearn.preprocessing import StandardScaler\n",
    "sc = StandardScaler()\n",
    "sc.fit(X_train)\n",
    "X_train_std = sc.transform(X_train)\n",
    "X_test_std = sc.transform(X_test)\n",
    "print('Vemos las primeras 5')\n",
    "print(X_train_std[:5])\n",
    "print('Y las últimas 5')\n",
    "print(X_train_std[-5:])"
   ]
  },
  {
   "cell_type": "code",
   "execution_count": null,
   "metadata": {
    "colab": {
     "base_uri": "https://localhost:8080/",
     "height": 74
    },
    "id": "OGUt9jEctFE6",
    "outputId": "3e995701-751e-4fd0-ebc2-383d855ef700"
   },
   "outputs": [],
   "source": [
    "from sklearn.linear_model import Perceptron\n",
    "ppn = Perceptron(max_iter=60, eta0=0.05, random_state=1)\n",
    "#ppn = Perceptron(max_iter=40, random_state=1)\n",
    "ppn.fit(X_train_std, y_train)"
   ]
  },
  {
   "cell_type": "code",
   "execution_count": null,
   "metadata": {
    "colab": {
     "base_uri": "https://localhost:8080/"
    },
    "id": "idxZlsYItHfE",
    "outputId": "36593376-266c-47c5-bd4f-a8751a5e135b"
   },
   "outputs": [],
   "source": [
    "y_pred = ppn.predict(X_test_std)\n",
    "print('Errores de clasificación : ',(y_test-y_pred).sum())"
   ]
  },
  {
   "cell_type": "code",
   "execution_count": null,
   "metadata": {
    "colab": {
     "base_uri": "https://localhost:8080/"
    },
    "id": "Zvuu82iztNgE",
    "outputId": "d9cb6514-179f-4315-ebd0-25d732d98b53"
   },
   "outputs": [],
   "source": [
    "ppn.coef_"
   ]
  },
  {
   "cell_type": "code",
   "execution_count": null,
   "metadata": {
    "colab": {
     "base_uri": "https://localhost:8080/"
    },
    "id": "pZ3MgPNdtVJo",
    "outputId": "e301d288-67c7-4a9b-a711-02251aa79994"
   },
   "outputs": [],
   "source": [
    "print('Exactitud : ',ppn.score(X_test_std,y_test))"
   ]
  },
  {
   "cell_type": "code",
   "execution_count": null,
   "metadata": {
    "colab": {
     "base_uri": "https://localhost:8080/"
    },
    "id": "pUXrJHEHsuPM",
    "outputId": "915ae9e3-c5ad-49eb-f251-c2da2ae1c0ac"
   },
   "outputs": [],
   "source": [
    "from sklearn.metrics import accuracy_score\n",
    "print('Exactitud : ',accuracy_score(y_test,y_pred))"
   ]
  },
  {
   "cell_type": "code",
   "execution_count": null,
   "metadata": {
    "colab": {
     "base_uri": "https://localhost:8080/"
    },
    "id": "-jao4GRxvk1X",
    "outputId": "d5cbdf35-df1a-44c0-9bc8-564f9d2eaf97"
   },
   "outputs": [],
   "source": [
    "print(y_train.shape)\n",
    "X_train_std.shape"
   ]
  },
  {
   "cell_type": "code",
   "execution_count": null,
   "metadata": {
    "colab": {
     "base_uri": "https://localhost:8080/"
    },
    "id": "xsa78rAbvm_U",
    "outputId": "42ebd30d-7460-4386-9b0e-1afa1c29d933"
   },
   "outputs": [],
   "source": [
    "print(y_test.shape)\n",
    "X_test_std.shape"
   ]
  },
  {
   "cell_type": "code",
   "execution_count": null,
   "metadata": {
    "id": "H4HFtC0I3nY4"
   },
   "outputs": [],
   "source": []
  },
  {
   "cell_type": "code",
   "execution_count": null,
   "metadata": {
    "colab": {
     "base_uri": "https://localhost:8080/",
     "height": 528
    },
    "id": "4wxfkqhHvkt6",
    "outputId": "84be2570-3a13-43f3-8e5f-90f4fbba42d1"
   },
   "outputs": [],
   "source": [
    "from mlxtend.plotting import plot_decision_regions\n",
    "import matplotlib.pyplot as plt\n",
    "\n",
    "# Plotting decision regions\n",
    "plot_decision_regions(X_train_std, y_train, clf=ppn)\n",
    "\n",
    "# Adding axes annotations\n",
    "plt.xlabel('ram [std]')\n",
    "plt.ylabel('battery_power [std]')\n",
    "plt.title('Perceptrón en Rango de Precio')\n",
    "plt.show()"
   ]
  },
  {
   "cell_type": "markdown",
   "metadata": {
    "id": "anVOJGWW0mSp"
   },
   "source": [
    "Regresión Logística"
   ]
  },
  {
   "cell_type": "code",
   "execution_count": null,
   "metadata": {
    "colab": {
     "base_uri": "https://localhost:8080/",
     "height": 74
    },
    "id": "NBBmy5BRvkk8",
    "outputId": "19335696-9421-439d-a8b1-42f286c462cc"
   },
   "outputs": [],
   "source": [
    "from sklearn.linear_model import LogisticRegression\n",
    "lr = LogisticRegression(C=50.0, random_state=1) # C => inverso de la regularización\n",
    "                                  # valor pequeño => reglurarización más fuerte\n",
    "lr.fit(X_train_std, y_train)"
   ]
  },
  {
   "cell_type": "code",
   "execution_count": null,
   "metadata": {
    "colab": {
     "base_uri": "https://localhost:8080/"
    },
    "id": "oN3hI0gmsuEQ",
    "outputId": "ff42a0a8-7189-4daf-d94a-1feb8db6abf3"
   },
   "outputs": [],
   "source": [
    "y_pred = lr.predict(X_test_std)\n",
    "print('Errores de clasificación : ',(y_test-y_pred).sum())\n",
    "print('Exactitud : ',lr.score(X_test_std,y_test))"
   ]
  },
  {
   "cell_type": "code",
   "execution_count": null,
   "metadata": {
    "colab": {
     "base_uri": "https://localhost:8080/",
     "height": 528
    },
    "id": "Y9cqf8iyst6e",
    "outputId": "ffa17e35-7553-4f29-cf57-100c7d65c81f"
   },
   "outputs": [],
   "source": [
    "# Plotting decision regions\n",
    "plot_decision_regions(X_train_std, y_train, clf=lr)\n",
    "\n",
    "# Adding axes annotations\n",
    "plt.xlabel('ram [std]')\n",
    "plt.ylabel('battery_power [std]')\n",
    "plt.title('Perceptrón en Rango de Precio (train)')\n",
    "plt.show()"
   ]
  },
  {
   "cell_type": "code",
   "execution_count": null,
   "metadata": {
    "colab": {
     "base_uri": "https://localhost:8080/",
     "height": 528
    },
    "id": "1kIaWD-j097D",
    "outputId": "b2e3d760-f5c8-4400-eeaf-6763d295108b"
   },
   "outputs": [],
   "source": [
    "# Plotting decision regions\n",
    "plot_decision_regions(X_test_std, y_test, clf=lr)\n",
    "\n",
    "# Adding axes annotations\n",
    "plt.xlabel('BMI [std]')\n",
    "plt.ylabel('Insulin [std]')\n",
    "plt.title('Perceptrón en Rango de Precio (test)')\n",
    "plt.show()"
   ]
  },
  {
   "cell_type": "code",
   "execution_count": null,
   "metadata": {
    "id": "5pujqrGA03CD"
   },
   "outputs": [],
   "source": []
  },
  {
   "cell_type": "code",
   "execution_count": null,
   "metadata": {
    "id": "LShJ5OBG02ze"
   },
   "outputs": [],
   "source": []
  },
  {
   "cell_type": "markdown",
   "metadata": {
    "id": "G55ZFufJ01t9"
   },
   "source": [
    "--------------"
   ]
  }
 ],
 "metadata": {
  "colab": {
   "provenance": []
  },
  "kernelspec": {
   "display_name": "Python 3 (ipykernel)",
   "language": "python",
   "name": "python3"
  },
  "language_info": {
   "codemirror_mode": {
    "name": "ipython",
    "version": 3
   },
   "file_extension": ".py",
   "mimetype": "text/x-python",
   "name": "python",
   "nbconvert_exporter": "python",
   "pygments_lexer": "ipython3",
   "version": "3.11.5"
  }
 },
 "nbformat": 4,
 "nbformat_minor": 1
}
