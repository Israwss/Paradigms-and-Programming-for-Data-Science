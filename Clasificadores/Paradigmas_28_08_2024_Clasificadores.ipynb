{
  "cells": [
    {
      "cell_type": "markdown",
      "metadata": {
        "id": "UF6ShXSdUhcY"
      },
      "source": [
        "# Clasificador determinista euclideano"
      ]
    },
    {
      "cell_type": "code",
      "execution_count": 3,
      "metadata": {
        "id": "bnuGqOq4Ub6U"
      },
      "outputs": [],
      "source": [
        "import numpy as np\n",
        "from sympy import Matrix,symbols, simplify #Computo simbolico\n",
        "def clasif_e(samples):\n",
        "  '''\n",
        "  Clasificador determinista euclideano\n",
        "  '''\n",
        "  n_samples = len(samples)\n",
        "  # Vector generico usando sympy\n",
        "  X=Matrix(['x'+str(i+1) for i in range(samples[0].shape[0])])\n",
        "  # Matriz de distancias\n",
        "  fds=[]\n",
        "  for s in samples:\n",
        "    m=Matrix(np.mean(s,axis=1))\n",
        "    fds.append(simplify(X.T*m-(m.T*m)/2))\n",
        "  return fds\n"
      ]
    },
    {
      "cell_type": "code",
      "execution_count": 4,
      "metadata": {
        "colab": {
          "base_uri": "https://localhost:8080/"
        },
        "id": "9RNqAqMFbe_M",
        "outputId": "db64f493-fc11-4110-e590-bd08f8a6201a"
      },
      "outputs": [
        {
          "name": "stdout",
          "output_type": "stream",
          "text": [
            "[Matrix([[1.0*x1 + 3.0*x2 + 5.0*x3 + 1.0*x4 - 18.0]]), Matrix([[7.0*x1 + 8.0*x2 + 1.0*x3 + 7.0*x4 - 81.5]])]\n",
            "0 1: Matrix([[4.00000000000000]])\n",
            "1 2: Matrix([[-42.5000000000000]])\n"
          ]
        }
      ],
      "source": [
        "w1=np.array([[1,5,6,1],[2,3,4,-2],[0,1,5,3],[1,3,5,2]]).T\n",
        "w2=np.array([[6,8,-1,6],[7,9,3,6],[8,7,1,9]]).T\n",
        "samples=(w1,w2)\n",
        "fds=clasif_e(samples)\n",
        "print(fds)\n",
        "\n",
        "for fd in range(len(fds)):\n",
        "  print(f'{fd} {fd+1}: {fds[fd].evalf(subs={\"x1\":3,\"x2\":1,\"x3\":3,\"x4\":1})}')\n"
      ]
    },
    {
      "cell_type": "markdown",
      "metadata": {
        "id": "bXKTMtPpjOKx"
      },
      "source": [
        "# Clasificador probabilista con distancia de Mahalanobis"
      ]
    },
    {
      "cell_type": "code",
      "execution_count": 6,
      "metadata": {
        "id": "olA_Oi_pdue-"
      },
      "outputs": [],
      "source": [
        "import numpy as np\n",
        "from sympy import Matrix,symbols,log,simplify\n",
        "def clasif_m(samples):\n",
        "  '''\n",
        "  Clasificador probabilista con distancia de Mahalanobis\n",
        "  '''\n",
        "  n_samples = len(samples)#Numero de grupos\n",
        "  # Vector generico usando sympy\n",
        "  X=Matrix([symbols('x'+str(i+1)) for i in range(samples[0].shape[0])])\n",
        "  fds = []\n",
        "  for s in samples:\n",
        "    m=Matrix(np.mean(s,axis=1))\n",
        "    m_cov=np.cov(s,bias=True)\n",
        "    m_ci=Matrix(m_cov).inv()\n",
        "    print(f'Media:\\n {m} \\n Covarianza {m_cov}\\n Inversa {m_ci}')\n",
        "    fds.append(simplify((X.T*m_ci*X)/-2+X.T*m_ci*m)-(m.T*m_ci*m)/2-Matrix([log(m_ci.det()/2)]))\n",
        "  return fds\n",
        "\n"
      ]
    },
    {
      "cell_type": "code",
      "execution_count": 7,
      "metadata": {
        "colab": {
          "base_uri": "https://localhost:8080/"
        },
        "id": "AJVCDldlsQTS",
        "outputId": "f2f6ce6d-6390-4e54-9c57-951aa37e8d5e"
      },
      "outputs": [
        {
          "name": "stdout",
          "output_type": "stream",
          "text": [
            "Media:\n",
            " Matrix([[2.20000000000000], [2.00000000000000]]) \n",
            " Covarianza [[ 0.56 -0.2 ]\n",
            " [-0.2   0.4 ]]\n",
            " Inversa Matrix([[2.17391304347826, 1.08695652173913], [1.08695652173913, 3.04347826086957]])\n",
            "Media:\n",
            " Matrix([[8.20000000000000], [9.00000000000000]]) \n",
            " Covarianza [[ 0.56 -0.2 ]\n",
            " [-0.2   0.4 ]]\n",
            " Inversa Matrix([[2.17391304347826, 1.08695652173913], [1.08695652173913, 3.04347826086957]])\n"
          ]
        },
        {
          "data": {
            "text/plain": [
              "[Matrix([[-1.08695652173913*x1**2 - 1.08695652173913*x1*x2 + 6.95652173913044*x1 - 1.52173913043478*x2**2 + 8.47826086956522*x2 - 17.1301071234219]]),\n",
              " Matrix([[-1.08695652173913*x1**2 - 1.08695652173913*x1*x2 + 27.6086956521739*x1 - 1.52173913043478*x2**2 + 36.304347826087*x2 - 277.564889732118]])]"
            ]
          },
          "execution_count": 7,
          "metadata": {},
          "output_type": "execute_result"
        }
      ],
      "source": [
        "w1 =np.array([[1,2],[2,2],[3,1],[2,3],[3,2]]).T\n",
        "w2 = np.array([[8,10],[9,8],[9,9],[8,9],[7,9]]).T\n",
        "samples=(w1,w2)\n",
        "clasif_m(samples)\n"
      ]
    },
    {
      "cell_type": "code",
      "execution_count": 8,
      "metadata": {
        "colab": {
          "base_uri": "https://localhost:8080/"
        },
        "id": "aP-Bqkm9L3S8",
        "outputId": "b88396c4-8498-4f8f-b276-1916dcc51e26"
      },
      "outputs": [
        {
          "name": "stdout",
          "output_type": "stream",
          "text": [
            "Media:\n",
            " Matrix([[3.35000000000000], [12.8750000000000]]) \n",
            " Covarianza [[ 2.5025    4.91875 ]\n",
            " [ 4.91875  21.415625]]\n",
            " Inversa Matrix([[0.728459785363198, -0.167312958144123], [-0.167312958144123, 0.0851233906491827]])\n",
            "Media:\n",
            " Matrix([[7.75000000000000], [11.9166666666667]]) \n",
            " Covarianza [[0.97916667 0.5625    ]\n",
            " [0.5625     5.36805556]]\n",
            " Inversa Matrix([[1.08669165885661, -0.113870665417057], [-0.113870665417057, 0.198219306466729]])\n",
            "[Matrix([[-0.364229892681599*x1**2 + 0.167312958144123*x1*x2 + 0.286185944861133*x1 - 0.0425616953245914*x2**2 + 0.535465244825416*x2 + 0.14767186198882]]), Matrix([[-0.543345829428304*x1**2 + 0.113870665417057*x1*x2 + 7.06490159325211*x1 - 0.0991096532333646*x2**2 + 1.47961574507966*x2 - 33.9020624641074]])]\n",
            "0 1: Matrix([[-1.27699691362898]])\n",
            "1 2: Matrix([[-15.8753520611083]])\n"
          ]
        }
      ],
      "source": [
        "w1 =np.array([[0.5,10.5],[1,1.25],[3,10.5],[3,12.5],[3,14.5],[3,18],[5,18],[5,16],[5,14.5],[5,13]]).T\n",
        "w2 = np.array([[6,9],[8,10],[9,11],[8.5,12],[7, 13.5],[8, 16]]).T\n",
        "samples=(w1,w2)\n",
        "fds=clasif_m(samples)\n",
        "print(fds)\n",
        "\n",
        "for fd in range(len(fds)):\n",
        "  print(f'{fd} {fd+1}: {fds[fd].evalf(subs={\"x1\":3,\"x2\":1,\"x3\":3,\"x4\":1})}')"
      ]
    }
  ],
  "metadata": {
    "colab": {
      "provenance": []
    },
    "kernelspec": {
      "display_name": "Python 3",
      "name": "python3"
    },
    "language_info": {
      "codemirror_mode": {
        "name": "ipython",
        "version": 3
      },
      "file_extension": ".py",
      "mimetype": "text/x-python",
      "name": "python",
      "nbconvert_exporter": "python",
      "pygments_lexer": "ipython3",
      "version": "3.12.6"
    }
  },
  "nbformat": 4,
  "nbformat_minor": 0
}
